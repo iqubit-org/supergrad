{
 "cells": [
  {
   "cell_type": "markdown",
   "metadata": {},
   "source": [
    "# Fluxonium with multi-path coupling(Simultaneous X gate)\n",
    "\n",
    "This example is based on Nguyen, L. B. et al. Blueprint for a High-Performance Fluxonium Quantum Processor. PRX Quantum 3, 037001 (2022).\n",
    "We simulate a 6 fluxonium qubit system from an underlying periodic lattice.\n",
    "Idling hamiltonian of the system is\n",
    "$$ H(0) = \\sum_i H_{\\mathrm{f},i}  + \\sum_{\\langle i,j \\rangle } H_{ij}. $$\n",
    "Hamiltonian of single fluxonium is\n",
    "$$ H_{\\mathrm{f},i} = 4E_{\\mathrm{C},i} n_i^2 + \\frac{1}{2} E_{\\mathrm{L},i} (\\varphi_i +\\varphi_{\\mathrm{ext},i})^2\n",
    "    -E_{\\mathrm{J},i}\\cos \\left( \\varphi_i \\right).$$\n",
    "The coupling terms have the form\n",
    "$$H_{ij} = J_{\\mathrm{C}} n_i n_j - J_{\\mathrm{L}} \\varphi_i \\varphi_j.$$\n",
    "The couplings are chosen in a way such that the idling $ZZ$-crosstalk is almost zero."
   ]
  },
  {
   "cell_type": "code",
   "execution_count": 1,
   "metadata": {},
   "outputs": [],
   "source": [
    "import jax\n",
    "import jax.numpy as jnp\n",
    "import haiku as hk\n",
    "\n",
    "import supergrad\n",
    "from supergrad.helper import Evolve\n",
    "from supergrad.utils import compute_fidelity_with_1q_rotation_axis\n",
    "from supergrad.utils.gates import sigmax\n",
    "from supergrad.utils.optimize import scipy_minimize, adam_opt\n",
    "from supergrad.utils.utility import tree_print\n",
    "from supergrad.utils.fidelity import pauli_diagnose_partition\n",
    "\n",
    "from supergrad.scgraph.graph_mpc_fluxonium_5x5_periodic import XGatePeriodicGraphOpt\n",
    "\n",
    "truncated_dim = 3  # how many levels we keep after diagonalization\n",
    "add_random = True  # whether to add deviations to fluxonium parameters ec,ej,el\n",
    "share_params = True  # whether we treat marked parameters as shared when computing gradients\n",
    "unify_coupling = True  # set all couplings to be equal\n",
    "compensation_option = 'only_vz'  # Use virtual-z compensation in fidelity computation\n",
    "\n",
    "# instance the quantum processor graph, and choose a subset for time evolution\n",
    "gate_graph = XGatePeriodicGraphOpt(1)\n",
    "qubit_subset = gate_graph.subgraph(['q02', 'q03', 'q12', 'q13', 'q22', 'q23'])\n",
    "\n",
    "evo = Evolve(qubit_subset, truncated_dim, add_random, share_params, unify_coupling, compensation_option)\n",
    "target_unitary = supergrad.tensor(*([sigmax()] * len(qubit_subset.nodes)))\n"
   ]
  },
  {
   "cell_type": "markdown",
   "metadata": {},
   "source": [
    "Let us print the parameters stored in the evo instance. These parameters are parsed from gate_graph. For how we construct this graph, please check `examples/fluxonium_multipath_coupling/graph_5x5_periodic.py` and the instructions inside."
   ]
  },
  {
   "cell_type": "code",
   "execution_count": 2,
   "metadata": {},
   "outputs": [
    {
     "name": "stdout",
     "output_type": "stream",
     "text": [
      "{ 'capacitive_coupling_all_unify': {'strength': 0.07225663},\n",
      "  'inductive_coupling_all_unify': {'strength': -0.01256637},\n",
      "  'q02': {'ec': 6.3532393823, 'ej': 25.1103087675, 'el': 6.344787656},\n",
      "  'q02_pulse_cos': { 'amp': 0.07467672,\n",
      "                     'length': 39.82459069,\n",
      "                     'omega_d': 3.70771137,\n",
      "                     'phase': 0.7558433},\n",
      "  'q03': {'ec': 6.2550610547000005, 'ej': 25.1411401038, 'el': 5.000964059},\n",
      "  'q03_pulse_cos': { 'amp': 0.06839676,\n",
      "                     'length': 39.81302627,\n",
      "                     'omega_d': 2.56897537,\n",
      "                     'phase': 0.85390569},\n",
      "  'q12': {'ec': 6.2233456874, 'ej': 25.1512697752, 'el': 5.6012793457},\n",
      "  'q12_pulse_cos': { 'amp': 0.07142831,\n",
      "                     'length': 39.85070846,\n",
      "                     'omega_d': 3.07586917,\n",
      "                     'phase': 1.58941357},\n",
      "  'q13': {'ec': 6.2867872105, 'ej': 25.1316550509, 'el': 6.9144529962},\n",
      "  'q13_pulse_cos': { 'amp': 0.07763859,\n",
      "                     'length': 39.85217838,\n",
      "                     'omega_d': 4.20299531,\n",
      "                     'phase': 1.43135504},\n",
      "  'q22': { 'ec': 6.282846661600001,\n",
      "           'ej': 25.1329965509,\n",
      "           'el': 7.539286440900001},\n",
      "  'q22_pulse_cos': { 'amp': 0.08054434,\n",
      "                     'length': 39.80346128,\n",
      "                     'omega_d': 5.00262381,\n",
      "                     'phase': 1.39100452},\n",
      "  'q23_pulse_cos': { 'amp': 0.07422721,\n",
      "                     'length': 39.85217838,\n",
      "                     'omega_d': 3.63596315,\n",
      "                     'phase': 0.26554983},\n",
      "  'single_q_compensation': { 'post_comp_q02': -0.41941967,\n",
      "                             'post_comp_q03': -0.11531302,\n",
      "                             'post_comp_q12': 0.74593951,\n",
      "                             'post_comp_q13': 0.58729911,\n",
      "                             'post_comp_q22': 0.49022838,\n",
      "                             'post_comp_q23': -1.02909962,\n",
      "                             'pre_comp_q02': 0.42591073,\n",
      "                             'pre_comp_q03': 0.11757419,\n",
      "                             'pre_comp_q12': -0.74646573,\n",
      "                             'pre_comp_q13': -0.58423741,\n",
      "                             'pre_comp_q22': -0.48806854,\n",
      "                             'pre_comp_q23': 1.03746918}}\n"
     ]
    }
   ],
   "source": [
    "params = evo.all_params\n",
    "tree_print(params)\n"
   ]
  },
  {
   "cell_type": "code",
   "execution_count": 3,
   "metadata": {},
   "outputs": [],
   "source": [
    "def comp_u(params, target_unitary):\n",
    "    params = hk.data_structures.merge(evo.all_params, params)\n",
    "    # evolve system on the eigen basis.\n",
    "    sim_u = evo.eigen_basis(params)\n",
    "    fidelity_vz, compensated_u = compute_fidelity_with_1q_rotation_axis(target_unitary,\n",
    "                                                            sim_u,\n",
    "                                                            opt_method=None)\n",
    "    return compensated_u\n",
    "\n",
    "compensated_u = comp_u(params, target_unitary)\n"
   ]
  },
  {
   "cell_type": "markdown",
   "metadata": {},
   "source": [
    "In the `comp_u` function in the above cell, we begin by computing the result of the time evolution unitary, `sim_u`, for the given parameters in `params`. The computation involves determining the time-evolution unitary matrix in the eigenbasis of the idling Hamiltonian. Subsequently, we calculate a suitable virtual-Z compensation, to ensure that the resulting `compensated_u` closely resembles the matrix of simultaneous X gates.\n",
    "\n",
    "We want to assess the level of correlation in the error. Let us define $U_\\mathrm{error} = U_{\\mathrm{compensated}}^{\\dagger} U_{\\mathrm{target}}$. By expanding $U_\\mathrm{error}$ in the Pauli basis, we obtain $U_\\mathrm{error} = \\sum_{\\vec{j}} a(\\vec{j})P_{\\vec{j}}$. In the following list, we will provide pairs of $(P_{\\vec{j}}, |a(\\vec{j})|^2)$. The values $|a(\\vec{j})|^2$ can be interpreted as the probabilities of stochastic errors after performing Pauli twirling.\n",
    "The colors of the text help visualize the weights of errors."
   ]
  },
  {
   "cell_type": "code",
   "execution_count": 4,
   "metadata": {},
   "outputs": [
    {
     "data": {
      "text/html": [
       "<pre style=\"white-space:pre;overflow-x:auto;line-height:normal;font-family:Menlo,'DejaVu Sans Mono',consolas,'Courier New',monospace\"><span style=\"color: #000000; text-decoration-color: #000000\">IIIIII   </span><span style=\"color: #000000; text-decoration-color: #000000; font-weight: bold\">9.9944e-01</span>\n",
       "</pre>\n"
      ],
      "text/plain": [
       "\u001b[30mIIIIII   \u001b[0m\u001b[1;30m9.9944e-01\u001b[0m\n"
      ]
     },
     "metadata": {},
     "output_type": "display_data"
    },
    {
     "data": {
      "text/html": [
       "<pre style=\"white-space:pre;overflow-x:auto;line-height:normal;font-family:Menlo,'DejaVu Sans Mono',consolas,'Courier New',monospace\"><span style=\"color: #ff00ff; text-decoration-color: #ff00ff\">IIIZIZ   </span><span style=\"color: #ff00ff; text-decoration-color: #ff00ff; font-weight: bold\">1.2491e-04</span>\n",
       "</pre>\n"
      ],
      "text/plain": [
       "\u001b[95mIIIZIZ   \u001b[0m\u001b[1;95m1.2491e-04\u001b[0m\n"
      ]
     },
     "metadata": {},
     "output_type": "display_data"
    },
    {
     "data": {
      "text/html": [
       "<pre style=\"white-space:pre;overflow-x:auto;line-height:normal;font-family:Menlo,'DejaVu Sans Mono',consolas,'Courier New',monospace\"><span style=\"color: #ff00ff; text-decoration-color: #ff00ff\">IIIXIY   </span><span style=\"color: #ff00ff; text-decoration-color: #ff00ff; font-weight: bold\">7.9677e-05</span>\n",
       "</pre>\n"
      ],
      "text/plain": [
       "\u001b[95mIIIXIY   \u001b[0m\u001b[1;95m7.9677e-05\u001b[0m\n"
      ]
     },
     "metadata": {},
     "output_type": "display_data"
    },
    {
     "data": {
      "text/html": [
       "<pre style=\"white-space:pre;overflow-x:auto;line-height:normal;font-family:Menlo,'DejaVu Sans Mono',consolas,'Courier New',monospace\"><span style=\"color: #ff00ff; text-decoration-color: #ff00ff\">IIIYIY   </span><span style=\"color: #ff00ff; text-decoration-color: #ff00ff; font-weight: bold\">3.5984e-05</span>\n",
       "</pre>\n"
      ],
      "text/plain": [
       "\u001b[95mIIIYIY   \u001b[0m\u001b[1;95m3.5984e-05\u001b[0m\n"
      ]
     },
     "metadata": {},
     "output_type": "display_data"
    },
    {
     "data": {
      "text/html": [
       "<pre style=\"white-space:pre;overflow-x:auto;line-height:normal;font-family:Menlo,'DejaVu Sans Mono',consolas,'Courier New',monospace\"><span style=\"color: #ff00ff; text-decoration-color: #ff00ff\">ZIXIII   </span><span style=\"color: #ff00ff; text-decoration-color: #ff00ff; font-weight: bold\">1.6914e-05</span>\n",
       "</pre>\n"
      ],
      "text/plain": [
       "\u001b[95mZIXIII   \u001b[0m\u001b[1;95m1.6914e-05\u001b[0m\n"
      ]
     },
     "metadata": {},
     "output_type": "display_data"
    },
    {
     "data": {
      "text/html": [
       "<pre style=\"white-space:pre;overflow-x:auto;line-height:normal;font-family:Menlo,'DejaVu Sans Mono',consolas,'Courier New',monospace\"><span style=\"color: #ff00ff; text-decoration-color: #ff00ff\">XIZIII   </span><span style=\"color: #ff00ff; text-decoration-color: #ff00ff; font-weight: bold\">1.6327e-05</span>\n",
       "</pre>\n"
      ],
      "text/plain": [
       "\u001b[95mXIZIII   \u001b[0m\u001b[1;95m1.6327e-05\u001b[0m\n"
      ]
     },
     "metadata": {},
     "output_type": "display_data"
    },
    {
     "data": {
      "text/html": [
       "<pre style=\"white-space:pre;overflow-x:auto;line-height:normal;font-family:Menlo,'DejaVu Sans Mono',consolas,'Courier New',monospace\"><span style=\"color: #ff00ff; text-decoration-color: #ff00ff\">ZIZIII   </span><span style=\"color: #ff00ff; text-decoration-color: #ff00ff; font-weight: bold\">1.4852e-05</span>\n",
       "</pre>\n"
      ],
      "text/plain": [
       "\u001b[95mZIZIII   \u001b[0m\u001b[1;95m1.4852e-05\u001b[0m\n"
      ]
     },
     "metadata": {},
     "output_type": "display_data"
    },
    {
     "data": {
      "text/html": [
       "<pre style=\"white-space:pre;overflow-x:auto;line-height:normal;font-family:Menlo,'DejaVu Sans Mono',consolas,'Courier New',monospace\"><span style=\"color: #ff00ff; text-decoration-color: #ff00ff\">XIXIII   </span><span style=\"color: #ff00ff; text-decoration-color: #ff00ff; font-weight: bold\">1.3981e-05</span>\n",
       "</pre>\n"
      ],
      "text/plain": [
       "\u001b[95mXIXIII   \u001b[0m\u001b[1;95m1.3981e-05\u001b[0m\n"
      ]
     },
     "metadata": {},
     "output_type": "display_data"
    },
    {
     "data": {
      "text/html": [
       "<pre style=\"white-space:pre;overflow-x:auto;line-height:normal;font-family:Menlo,'DejaVu Sans Mono',consolas,'Courier New',monospace\"><span style=\"color: #ff0000; text-decoration-color: #ff0000\">XYZIII   </span><span style=\"color: #ff0000; text-decoration-color: #ff0000; font-weight: bold\">1.3079e-05</span>\n",
       "</pre>\n"
      ],
      "text/plain": [
       "\u001b[91mXYZIII   \u001b[0m\u001b[1;91m1.3079e-05\u001b[0m\n"
      ]
     },
     "metadata": {},
     "output_type": "display_data"
    },
    {
     "data": {
      "text/html": [
       "<pre style=\"white-space:pre;overflow-x:auto;line-height:normal;font-family:Menlo,'DejaVu Sans Mono',consolas,'Courier New',monospace\"><span style=\"color: #ff0000; text-decoration-color: #ff0000\">ZZZIII   </span><span style=\"color: #ff0000; text-decoration-color: #ff0000; font-weight: bold\">1.2957e-05</span>\n",
       "</pre>\n"
      ],
      "text/plain": [
       "\u001b[91mZZZIII   \u001b[0m\u001b[1;91m1.2957e-05\u001b[0m\n"
      ]
     },
     "metadata": {},
     "output_type": "display_data"
    },
    {
     "data": {
      "text/html": [
       "<pre style=\"white-space:pre;overflow-x:auto;line-height:normal;font-family:Menlo,'DejaVu Sans Mono',consolas,'Courier New',monospace\"><span style=\"color: #ff0000; text-decoration-color: #ff0000\">XZXIII   </span><span style=\"color: #ff0000; text-decoration-color: #ff0000; font-weight: bold\">1.2299e-05</span>\n",
       "</pre>\n"
      ],
      "text/plain": [
       "\u001b[91mXZXIII   \u001b[0m\u001b[1;91m1.2299e-05\u001b[0m\n"
      ]
     },
     "metadata": {},
     "output_type": "display_data"
    },
    {
     "data": {
      "text/html": [
       "<pre style=\"white-space:pre;overflow-x:auto;line-height:normal;font-family:Menlo,'DejaVu Sans Mono',consolas,'Courier New',monospace\"><span style=\"color: #ff0000; text-decoration-color: #ff0000\">ZYXIII   </span><span style=\"color: #ff0000; text-decoration-color: #ff0000; font-weight: bold\">1.1375e-05</span>\n",
       "</pre>\n"
      ],
      "text/plain": [
       "\u001b[91mZYXIII   \u001b[0m\u001b[1;91m1.1375e-05\u001b[0m\n"
      ]
     },
     "metadata": {},
     "output_type": "display_data"
    },
    {
     "data": {
      "text/html": [
       "<pre style=\"white-space:pre;overflow-x:auto;line-height:normal;font-family:Menlo,'DejaVu Sans Mono',consolas,'Courier New',monospace\"><span style=\"color: #ff0000; text-decoration-color: #ff0000\">ZIZZII   </span><span style=\"color: #ff0000; text-decoration-color: #ff0000; font-weight: bold\">6.4212e-06</span>\n",
       "</pre>\n"
      ],
      "text/plain": [
       "\u001b[91mZIZZII   \u001b[0m\u001b[1;91m6.4212e-06\u001b[0m\n"
      ]
     },
     "metadata": {},
     "output_type": "display_data"
    },
    {
     "data": {
      "text/html": [
       "<pre style=\"white-space:pre;overflow-x:auto;line-height:normal;font-family:Menlo,'DejaVu Sans Mono',consolas,'Courier New',monospace\"><span style=\"color: #ff0000; text-decoration-color: #ff0000\">XIXZII   </span><span style=\"color: #ff0000; text-decoration-color: #ff0000; font-weight: bold\">6.1497e-06</span>\n",
       "</pre>\n"
      ],
      "text/plain": [
       "\u001b[91mXIXZII   \u001b[0m\u001b[1;91m6.1497e-06\u001b[0m\n"
      ]
     },
     "metadata": {},
     "output_type": "display_data"
    },
    {
     "data": {
      "text/html": [
       "<pre style=\"white-space:pre;overflow-x:auto;line-height:normal;font-family:Menlo,'DejaVu Sans Mono',consolas,'Courier New',monospace\"><span style=\"color: #ff0000; text-decoration-color: #ff0000\">ZIXYII   </span><span style=\"color: #ff0000; text-decoration-color: #ff0000; font-weight: bold\">4.9756e-06</span>\n",
       "</pre>\n"
      ],
      "text/plain": [
       "\u001b[91mZIXYII   \u001b[0m\u001b[1;91m4.9756e-06\u001b[0m\n"
      ]
     },
     "metadata": {},
     "output_type": "display_data"
    },
    {
     "data": {
      "text/html": [
       "<pre style=\"white-space:pre;overflow-x:auto;line-height:normal;font-family:Menlo,'DejaVu Sans Mono',consolas,'Courier New',monospace\">YIXXIZ   <span style=\"color: #008080; text-decoration-color: #008080; font-weight: bold\">4.8337e-06</span>\n",
       "</pre>\n"
      ],
      "text/plain": [
       "YIXXIZ   \u001b[1;36m4.8337e-06\u001b[0m\n"
      ]
     },
     "metadata": {},
     "output_type": "display_data"
    },
    {
     "data": {
      "text/html": [
       "<pre style=\"white-space:pre;overflow-x:auto;line-height:normal;font-family:Menlo,'DejaVu Sans Mono',consolas,'Courier New',monospace\"><span style=\"color: #ff0000; text-decoration-color: #ff0000\">XZYIII   </span><span style=\"color: #ff0000; text-decoration-color: #ff0000; font-weight: bold\">4.6177e-06</span>\n",
       "</pre>\n"
      ],
      "text/plain": [
       "\u001b[91mXZYIII   \u001b[0m\u001b[1;91m4.6177e-06\u001b[0m\n"
      ]
     },
     "metadata": {},
     "output_type": "display_data"
    },
    {
     "data": {
      "text/html": [
       "<pre style=\"white-space:pre;overflow-x:auto;line-height:normal;font-family:Menlo,'DejaVu Sans Mono',consolas,'Courier New',monospace\"><span style=\"color: #ff0000; text-decoration-color: #ff0000\">IZZZII   </span><span style=\"color: #ff0000; text-decoration-color: #ff0000; font-weight: bold\">4.6046e-06</span>\n",
       "</pre>\n"
      ],
      "text/plain": [
       "\u001b[91mIZZZII   \u001b[0m\u001b[1;91m4.6046e-06\u001b[0m\n"
      ]
     },
     "metadata": {},
     "output_type": "display_data"
    },
    {
     "data": {
      "text/html": [
       "<pre style=\"white-space:pre;overflow-x:auto;line-height:normal;font-family:Menlo,'DejaVu Sans Mono',consolas,'Courier New',monospace\"><span style=\"color: #ff0000; text-decoration-color: #ff0000\">XIZYII   </span><span style=\"color: #ff0000; text-decoration-color: #ff0000; font-weight: bold\">4.2224e-06</span>\n",
       "</pre>\n"
      ],
      "text/plain": [
       "\u001b[91mXIZYII   \u001b[0m\u001b[1;91m4.2224e-06\u001b[0m\n"
      ]
     },
     "metadata": {},
     "output_type": "display_data"
    },
    {
     "data": {
      "text/html": [
       "<pre style=\"white-space:pre;overflow-x:auto;line-height:normal;font-family:Menlo,'DejaVu Sans Mono',consolas,'Courier New',monospace\"><span style=\"color: #ff0000; text-decoration-color: #ff0000\">IYXZII   </span><span style=\"color: #ff0000; text-decoration-color: #ff0000; font-weight: bold\">4.2033e-06</span>\n",
       "</pre>\n"
      ],
      "text/plain": [
       "\u001b[91mIYXZII   \u001b[0m\u001b[1;91m4.2033e-06\u001b[0m\n"
      ]
     },
     "metadata": {},
     "output_type": "display_data"
    }
   ],
   "source": [
    "partition = [[0],[1],[2],[3],[4],[5]]\n",
    "res = pauli_diagnose_partition(target_unitary, compensated_u, 20, partition, 'black')\n"
   ]
  },
  {
   "cell_type": "markdown",
   "metadata": {},
   "source": [
    "For optimization, let us use an object function based on the average gate fidelity with leakage. The formula is from Physical Review A 87, 022309 (2013).\n",
    "$$\n",
    "\tC = 1 - \\frac{1}{D(D + 1)}[Tr(PU^{\\dagger}_{\\text{sim}}P U_{\\text{sim}}P)+|Tr(PU^{\\dagger}_{\\text{sim}} P U_{\\text{target}})|^2],   \n",
    "$$\n",
    "where $P$ is the projector into the computational subspace $S$, and $D=2^n$ is the dimension of $S$."
   ]
  },
  {
   "cell_type": "code",
   "execution_count": 5,
   "metadata": {},
   "outputs": [],
   "source": [
    "def infidelity(params, target_unitary):\n",
    "    params = hk.data_structures.merge(evo.all_params, params)\n",
    "    # evolve system on the eigen basis.\n",
    "    sim_u = evo.eigen_basis(params)\n",
    "    # calculate fidelity\n",
    "    fidelity_vz, _ = compute_fidelity_with_1q_rotation_axis(target_unitary,\n",
    "                                                            sim_u,\n",
    "                                                            opt_method=None)\n",
    "\n",
    "    return jnp.log10(1 - fidelity_vz)\n"
   ]
  },
  {
   "cell_type": "code",
   "execution_count": 6,
   "metadata": {},
   "outputs": [
    {
     "name": "stdout",
     "output_type": "stream",
     "text": [
      "The infidelity of simultaneous X gates is  0.0005508053113444381\n"
     ]
    }
   ],
   "source": [
    "vg = jax.value_and_grad(infidelity)(params, target_unitary)\n",
    "print('The infidelity of simultaneous X gates is ', 10**vg[0])\n"
   ]
  },
  {
   "cell_type": "code",
   "execution_count": 7,
   "metadata": {},
   "outputs": [
    {
     "name": "stdout",
     "output_type": "stream",
     "text": [
      "The gradient of log10(infidelity):\n",
      "{ 'capacitive_coupling_all_unify': {'strength': -0.5309703964015999},\n",
      "  'inductive_coupling_all_unify': {'strength': -95.33299084989262},\n",
      "  'q02': { 'ec': 4.510991108929419,\n",
      "           'ej': -1.4335877413870044,\n",
      "           'el': 3.897402459816575},\n",
      "  'q02_pulse_cos': { 'amp': -0.17616989416433634,\n",
      "                     'length': -0.011767924126371818,\n",
      "                     'omega_d': 0.2070796027309285,\n",
      "                     'phase': 0.03886113034190464},\n",
      "  'q03': { 'ec': 1.035356860352813,\n",
      "           'ej': -0.3032938510555648,\n",
      "           'el': 0.923941929183315},\n",
      "  'q03_pulse_cos': { 'amp': -0.1594577926023879,\n",
      "                     'length': -0.0035851303999968245,\n",
      "                     'omega_d': 0.386760960760304,\n",
      "                     'phase': 0.024276396660514205},\n",
      "  'q12': { 'ec': 0.858607626495589,\n",
      "           'ej': -0.2519334257783299,\n",
      "           'el': 0.7343185925646882},\n",
      "  'q12_pulse_cos': { 'amp': -1.0882532478198161,\n",
      "                     'length': -0.014192456677496124,\n",
      "                     'omega_d': 0.27373879846830107,\n",
      "                     'phase': 0.019033004362276618},\n",
      "  'q13': { 'ec': -4.661671509091108,\n",
      "           'ej': 1.5449095480944766,\n",
      "           'el': -4.080660782131437},\n",
      "  'q13_pulse_cos': { 'amp': -1.2224262140670905,\n",
      "                     'length': 0.19313453846235853,\n",
      "                     'omega_d': -0.15899129273125823,\n",
      "                     'phase': 0.00459555419787705},\n",
      "  'q22': { 'ec': 0.09209865451529571,\n",
      "           'ej': -0.02751788836968752,\n",
      "           'el': 0.074544529850944},\n",
      "  'q22_pulse_cos': { 'amp': -1.299310958230257,\n",
      "                     'length': -0.002716994492545508,\n",
      "                     'omega_d': 0.9313182639936493,\n",
      "                     'phase': 0.051166669889598726},\n",
      "  'q23_pulse_cos': { 'amp': 0.20005495732966772,\n",
      "                     'length': 0.1980654666753813,\n",
      "                     'omega_d': 0.25733070460747953,\n",
      "                     'phase': 0.0033182381306149367},\n",
      "  'single_q_compensation': { 'post_comp_q02': 0.002914560484782669,\n",
      "                             'post_comp_q03': 0.025256846771640085,\n",
      "                             'post_comp_q12': 0.03393082007426074,\n",
      "                             'post_comp_q13': 0.029890328615124417,\n",
      "                             'post_comp_q22': 0.05376604669856988,\n",
      "                             'post_comp_q23': 0.08912374261944933,\n",
      "                             'pre_comp_q02': -0.0029145604848963558,\n",
      "                             'pre_comp_q03': -0.025256846771640085,\n",
      "                             'pre_comp_q12': -0.03393082007426074,\n",
      "                             'pre_comp_q13': -0.029890328615124417,\n",
      "                             'pre_comp_q22': -0.05376604669891094,\n",
      "                             'pre_comp_q23': -0.08912374261956302}}\n"
     ]
    }
   ],
   "source": [
    "print('The gradient of log10(infidelity):')\n",
    "tree_print(vg[1])\n"
   ]
  },
  {
   "cell_type": "markdown",
   "metadata": {},
   "source": [
    "Show the optimization procedure of control parameters"
   ]
  },
  {
   "cell_type": "code",
   "execution_count": 8,
   "metadata": {},
   "outputs": [
    {
     "name": "stdout",
     "output_type": "stream",
     "text": [
      "{'adam_lr': 1e-06, 'adam_lr_decay_rate': 1000, 'steps': 3, 'adam_b1': 0.9, 'adam_b2': 0.999}\n",
      "step: 0\n",
      "parameters:\n",
      "{ 'capacitive_coupling_all_unify': {'strength': 0.07225663},\n",
      "  'inductive_coupling_all_unify': {'strength': -0.01256637},\n",
      "  'q02': {'ec': 6.3532393823, 'ej': 25.1103087675, 'el': 6.344787656},\n",
      "  'q02_pulse_cos': { 'amp': 0.07467672,\n",
      "                     'length': 39.82459069,\n",
      "                     'omega_d': 3.70771137,\n",
      "                     'phase': 0.7558433},\n",
      "  'q03': {'ec': 6.2550610547000005, 'ej': 25.1411401038, 'el': 5.000964059},\n",
      "  'q03_pulse_cos': { 'amp': 0.06839676,\n",
      "                     'length': 39.81302627,\n",
      "                     'omega_d': 2.56897537,\n",
      "                     'phase': 0.85390569},\n",
      "  'q12': {'ec': 6.2233456874, 'ej': 25.1512697752, 'el': 5.6012793457},\n",
      "  'q12_pulse_cos': { 'amp': 0.07142831,\n",
      "                     'length': 39.85070846,\n",
      "                     'omega_d': 3.07586917,\n",
      "                     'phase': 1.58941357},\n",
      "  'q13': {'ec': 6.2867872105, 'ej': 25.1316550509, 'el': 6.9144529962},\n",
      "  'q13_pulse_cos': { 'amp': 0.07763859,\n",
      "                     'length': 39.85217838,\n",
      "                     'omega_d': 4.20299531,\n",
      "                     'phase': 1.43135504},\n",
      "  'q22': { 'ec': 6.282846661600001,\n",
      "           'ej': 25.1329965509,\n",
      "           'el': 7.539286440900001},\n",
      "  'q22_pulse_cos': { 'amp': 0.08054434,\n",
      "                     'length': 39.80346128,\n",
      "                     'omega_d': 5.00262381,\n",
      "                     'phase': 1.39100452},\n",
      "  'q23_pulse_cos': { 'amp': 0.07422721,\n",
      "                     'length': 39.85217838,\n",
      "                     'omega_d': 3.63596315,\n",
      "                     'phase': 0.26554983},\n",
      "  'single_q_compensation': { 'post_comp_q02': -0.41941967,\n",
      "                             'post_comp_q03': -0.11531302,\n",
      "                             'post_comp_q12': 0.74593951,\n",
      "                             'post_comp_q13': 0.58729911,\n",
      "                             'post_comp_q22': 0.49022838,\n",
      "                             'post_comp_q23': -1.02909962,\n",
      "                             'pre_comp_q02': 0.42591073,\n",
      "                             'pre_comp_q03': 0.11757419,\n",
      "                             'pre_comp_q12': -0.74646573,\n",
      "                             'pre_comp_q13': -0.58423741,\n",
      "                             'pre_comp_q22': -0.48806854,\n",
      "                             'pre_comp_q23': 1.03746918}}\n",
      "gradient:\n",
      "{ 'capacitive_coupling_all_unify': {'strength': -0.5309703962971142},\n",
      "  'inductive_coupling_all_unify': {'strength': -12.566370000000001},\n",
      "  'q02': { 'ec': 4.5109916454355625,\n",
      "           'ej': -1.43358791427732,\n",
      "           'el': 3.89740293011098},\n",
      "  'q02_pulse_cos': { 'amp': -0.1761698848549405,\n",
      "                     'length': -0.011767924091515855,\n",
      "                     'omega_d': 0.2070796098721317,\n",
      "                     'phase': 0.03886113029913507},\n",
      "  'q03': { 'ec': 1.0353563751907067,\n",
      "           'ej': -0.30329370608877765,\n",
      "           'el': 0.9239414878825936},\n",
      "  'q03_pulse_cos': { 'amp': -0.15945791464940484,\n",
      "                     'length': -0.0035851305565649727,\n",
      "                     'omega_d': 0.38676157300785974,\n",
      "                     'phase': 0.024276396213001566},\n",
      "  'q12': { 'ec': 0.8586069383446885,\n",
      "           'ej': -0.2519332150768232,\n",
      "           'el': 0.734317978665821},\n",
      "  'q12_pulse_cos': { 'amp': -1.0882534093545768,\n",
      "                     'length': -0.014192456894282439,\n",
      "                     'omega_d': 0.27373958895040573,\n",
      "                     'phase': 0.019033004225246675},\n",
      "  'q13': { 'ec': -4.66167184061817,\n",
      "           'ej': 1.5449096565274032,\n",
      "           'el': -4.080661068342186},\n",
      "  'q13_pulse_cos': { 'amp': -1.2224263082277544,\n",
      "                     'length': 0.19313453741225772,\n",
      "                     'omega_d': -0.15899095732966373,\n",
      "                     'phase': 0.0045955541659363774},\n",
      "  'q22': { 'ec': 0.09209822039514216,\n",
      "           'ej': -0.027517745670091506,\n",
      "           'el': 0.07454416410299658},\n",
      "  'q22_pulse_cos': { 'amp': -1.2993110576468987,\n",
      "                     'length': -0.002716994681462594,\n",
      "                     'omega_d': 0.9313186385949308,\n",
      "                     'phase': 0.05116666956881577},\n",
      "  'q23_pulse_cos': { 'amp': 0.20005508076881806,\n",
      "                     'length': 0.19806546598835154,\n",
      "                     'omega_d': 0.25733010692021097,\n",
      "                     'phase': 0.0033182382134091526},\n",
      "  'single_q_compensation': { 'post_comp_q02': 0.002914560502636886,\n",
      "                             'post_comp_q03': 0.02525684631687016,\n",
      "                             'post_comp_q12': 0.03393081991372355,\n",
      "                             'post_comp_q13': 0.029890328536382075,\n",
      "                             'post_comp_q22': 0.05376604637268697,\n",
      "                             'post_comp_q23': 0.08912374255095235,\n",
      "                             'pre_comp_q02': -0.0029145605028022465,\n",
      "                             'pre_comp_q03': -0.025256846316783668,\n",
      "                             'pre_comp_q12': -0.03393081991393448,\n",
      "                             'pre_comp_q13': -0.029890328536420534,\n",
      "                             'pre_comp_q22': -0.05376604637258394,\n",
      "                             'pre_comp_q23': -0.08912374255079346}}\n",
      "loss: -3.259001879689383\n",
      "step: 1\n",
      "parameters:\n",
      "{ 'capacitive_coupling_all_unify': {'strength': 0.07225762999998117},\n",
      "  'inductive_coupling_all_unify': {'strength': -0.012565370000000796},\n",
      "  'q02': { 'ec': 6.3532383823000025,\n",
      "           'ej': 25.110309767499995,\n",
      "           'el': 6.344786656000003},\n",
      "  'q02_pulse_cos': { 'amp': 0.07467771999994324,\n",
      "                     'length': 39.82459168999915,\n",
      "                     'omega_d': 3.7077103700000484,\n",
      "                     'phase': 0.7558423000002573},\n",
      "  'q03': { 'ec': 6.25506005470001,\n",
      "           'ej': 25.141141103799967,\n",
      "           'el': 5.000963059000011},\n",
      "  'q03_pulse_cos': { 'amp': 0.06839775999993729,\n",
      "                     'length': 39.813027269997214,\n",
      "                     'omega_d': 2.568974370000026,\n",
      "                     'phase': 0.853904690000412},\n",
      "  'q12': { 'ec': 6.223344687400012,\n",
      "           'ej': 25.15127077519996,\n",
      "           'el': 5.601278345700013},\n",
      "  'q12_pulse_cos': { 'amp': 0.07142930999999081,\n",
      "                     'length': 39.850709459999294,\n",
      "                     'omega_d': 3.0758681700000365,\n",
      "                     'phase': 1.5894125700005255},\n",
      "  'q13': { 'ec': 6.2867882104999975,\n",
      "           'ej': 25.131654050900007,\n",
      "           'el': 6.914453996199997},\n",
      "  'q13_pulse_cos': { 'amp': 0.0776395899999918,\n",
      "                     'length': 39.85217738000005,\n",
      "                     'omega_d': 4.2029963099999375,\n",
      "                     'phase': 1.431354040002176},\n",
      "  'q22': { 'ec': 6.282845661600109,\n",
      "           'ej': 25.132997550899635,\n",
      "           'el': 7.539285440900135},\n",
      "  'q22_pulse_cos': { 'amp': 0.0805453399999923,\n",
      "                     'length': 39.80346227999632,\n",
      "                     'omega_d': 5.002622810000011,\n",
      "                     'phase': 1.3910035200001956},\n",
      "  'q23_pulse_cos': { 'amp': 0.07422621000004999,\n",
      "                     'length': 39.85217738000005,\n",
      "                     'omega_d': 3.6359621500000388,\n",
      "                     'phase': 0.2655488300030136},\n",
      "  'single_q_compensation': { 'post_comp_q02': -0.41942066999656896,\n",
      "                             'post_comp_q03': -0.11531401999960407,\n",
      "                             'post_comp_q12': 0.7459385100002948,\n",
      "                             'post_comp_q13': 0.5872981100003346,\n",
      "                             'post_comp_q22': 0.490227380000186,\n",
      "                             'post_comp_q23': -1.0291006199998878,\n",
      "                             'pre_comp_q02': 0.42591172999656896,\n",
      "                             'pre_comp_q03': 0.11757518999960406,\n",
      "                             'pre_comp_q12': -0.7464647300002948,\n",
      "                             'pre_comp_q13': -0.5842364100003345,\n",
      "                             'pre_comp_q22': -0.488067540000186,\n",
      "                             'pre_comp_q23': 1.0374701799998878}}\n",
      "gradient:\n",
      "{ 'capacitive_coupling_all_unify': {'strength': -0.5273966146927396},\n",
      "  'inductive_coupling_all_unify': {'strength': -12.565370000000796},\n",
      "  'q02': { 'ec': 4.273884077591268,\n",
      "           'ej': -1.3569788724799359,\n",
      "           'el': 3.6882175947639935},\n",
      "  'q02_pulse_cos': { 'amp': 0.5165145757945755,\n",
      "                     'length': -0.010469588589201651,\n",
      "                     'omega_d': -0.29625737264844787,\n",
      "                     'phase': 0.0003284544607551343},\n",
      "  'q03': { 'ec': 1.025827286479245,\n",
      "           'ej': -0.2998099007972784,\n",
      "           'el': 0.912474989447552},\n",
      "  'q03_pulse_cos': { 'amp': 0.6780106441152334,\n",
      "                     'length': -0.002176091834997098,\n",
      "                     'omega_d': -0.3520369172444746,\n",
      "                     'phase': -0.01333214221694587},\n",
      "  'q12': { 'ec': 0.8786513925179348,\n",
      "           'ej': -0.2574031666959221,\n",
      "           'el': 0.7495531501063301},\n",
      "  'q12_pulse_cos': { 'amp': -0.2816824450342992,\n",
      "                     'length': -0.012773134305567837,\n",
      "                     'omega_d': -0.511753616833019,\n",
      "                     'phase': -0.018974920853638277},\n",
      "  'q13': { 'ec': -4.73875989124974,\n",
      "           'ej': 1.5709925019406492,\n",
      "           'el': -4.150067038684184},\n",
      "  'q13_pulse_cos': { 'amp': -0.5381872316067566,\n",
      "                     'length': 0.045259892714813905,\n",
      "                     'omega_d': 0.3758555722978514,\n",
      "                     'phase': 0.0276743974121354},\n",
      "  'q22': { 'ec': -0.15808763018467983,\n",
      "           'ej': 0.05556322339779525,\n",
      "           'el': -0.1388338352090208},\n",
      "  'q22_pulse_cos': { 'amp': -0.7482316920868876,\n",
      "                     'length': -0.0016074898629542286,\n",
      "                     'omega_d': 0.3625288528298647,\n",
      "                     'phase': 0.011602100803222104},\n",
      "  'q23_pulse_cos': { 'amp': -0.44643326896387214,\n",
      "                     'length': 0.04761720007338306,\n",
      "                     'omega_d': -0.5219385157412759,\n",
      "                     'phase': -0.03512154557035796},\n",
      "  'single_q_compensation': { 'post_comp_q02': -0.03560532400637424,\n",
      "                             'post_comp_q03': -0.012352406108427392,\n",
      "                             'post_comp_q12': -0.004079659384774278,\n",
      "                             'post_comp_q13': 0.05297038714020887,\n",
      "                             'post_comp_q22': 0.014201209204872802,\n",
      "                             'post_comp_q23': 0.05067526506193966,\n",
      "                             'pre_comp_q02': 0.035605324006545605,\n",
      "                             'pre_comp_q03': 0.012352406108332768,\n",
      "                             'pre_comp_q12': 0.00407965938473423,\n",
      "                             'pre_comp_q13': -0.052970387140359405,\n",
      "                             'pre_comp_q22': -0.014201209204919296,\n",
      "                             'pre_comp_q23': -0.05067526506182068}}\n",
      "loss: -3.2591219857145908\n",
      "step: 2\n",
      "parameters:\n",
      "{ 'capacitive_coupling_all_unify': {'strength': 0.07225862912544936},\n",
      "  'inductive_coupling_all_unify': {'strength': -0.012564370694982277},\n",
      "  'q02': { 'ec': 6.353237384762291,\n",
      "           'ej': 25.11031076500107,\n",
      "           'el': 6.344785658508757},\n",
      "  'q02_pulse_cos': { 'amp': 0.07467723221127619,\n",
      "                     'length': 39.824592684569886,\n",
      "                     'omega_d': 3.7077105961044103,\n",
      "                     'phase': 0.7558416241424665},\n",
      "  'q03': { 'ec': 6.255059055644446,\n",
      "           'ej': 25.141142102789434,\n",
      "           'el': 5.000962060037683},\n",
      "  'q03_pulse_cos': { 'amp': 0.06839718933301207,\n",
      "                     'length': 39.81302822830671,\n",
      "                     'omega_d': 2.5689743756201064,\n",
      "                     'phase': 0.8539044612497163},\n",
      "  'q12': { 'ec': 6.223343687558409,\n",
      "           'ej': 25.151271775008826,\n",
      "           'el': 5.60127734591076},\n",
      "  'q12_pulse_cos': { 'amp': 0.07143014463529188,\n",
      "                     'length': 39.85071045518592,\n",
      "                     'omega_d': 3.0758685100784677,\n",
      "                     'phase': 1.589412621068456},\n",
      "  'q13': { 'ec': 6.286789210200679,\n",
      "           'ej': 25.131653051191865,\n",
      "           'el': 6.914454995910838},\n",
      "  'q13_pulse_cos': { 'amp': 0.07764050254016314,\n",
      "                     'length': 39.852176558337966,\n",
      "                     'omega_d': 4.20299588583625,\n",
      "                     'phase': 1.4313531967810833},\n",
      "  'q22': { 'ec': 6.282845967280642,\n",
      "           'ej': 25.1329971815084,\n",
      "           'el': 7.539285779497451},\n",
      "  'q22_pulse_cos': { 'amp': 0.08054629141853735,\n",
      "                     'length': 39.80346323499337,\n",
      "                     'omega_d': 5.0026219161897885,\n",
      "                     'phase': 1.3910027024790863},\n",
      "  'q23_pulse_cos': { 'amp': 0.07422661495055978,\n",
      "                     'length': 39.852176555069526,\n",
      "                     'omega_d': 3.6359625210522197,\n",
      "                     'phase': 0.2655495073797313},\n",
      "  'single_q_compensation': { 'post_comp_q02': -0.4194199834534741,\n",
      "                             'post_comp_q03': -0.1153142946143694,\n",
      "                             'post_comp_q12': 0.7459379340128642,\n",
      "                             'post_comp_q13': 0.5872971333535005,\n",
      "                             'post_comp_q22': 0.4902265426405682,\n",
      "                             'post_comp_q23': -1.0291015697047188,\n",
      "                             'pre_comp_q02': 0.4259110434534741,\n",
      "                             'pre_comp_q03': 0.1175754646143694,\n",
      "                             'pre_comp_q12': -0.7464641540128643,\n",
      "                             'pre_comp_q13': -0.5842354333535005,\n",
      "                             'pre_comp_q22': -0.4880667026405682,\n",
      "                             'pre_comp_q23': 1.0374711297047188}}\n",
      "gradient:\n",
      "{ 'capacitive_coupling_all_unify': {'strength': -0.5279331786496049},\n",
      "  'inductive_coupling_all_unify': {'strength': -12.564370694982278},\n",
      "  'q02': { 'ec': 3.8082055307494596,\n",
      "           'ej': -1.2066205010430673,\n",
      "           'el': 3.2781399827373052},\n",
      "  'q02_pulse_cos': { 'amp': 0.16672646739530567,\n",
      "                     'length': -0.011105302593538608,\n",
      "                     'omega_d': 0.1691722882725415,\n",
      "                     'phase': 0.005938361422954452},\n",
      "  'q03': { 'ec': 0.9571225435643961,\n",
      "           'ej': -0.279661208916767,\n",
      "           'el': 0.8516502438825546},\n",
      "  'q03_pulse_cos': { 'amp': 0.2131641872005019,\n",
      "                     'length': -0.0029697987794102044,\n",
      "                     'omega_d': -0.3186574006716274,\n",
      "                     'phase': -0.016075512595097458},\n",
      "  'q12': { 'ec': 0.7941697224091889,\n",
      "           'ej': -0.23094638574915566,\n",
      "           'el': 0.6718542587784281},\n",
      "  'q12_pulse_cos': { 'amp': 0.3767204464392062,\n",
      "                     'length': -0.01158075235125628,\n",
      "                     'omega_d': -0.28261094825207067,\n",
      "                     'phase': -0.012174157169112743},\n",
      "  'q13': { 'ec': -4.678308896334449,\n",
      "           'ej': 1.5520279056032755,\n",
      "           'el': -4.100527664408728},\n",
      "  'q13_pulse_cos': { 'amp': 0.1226077247469517,\n",
      "                     'length': 0.023639843205722724,\n",
      "                     'omega_d': -0.08378522538959032,\n",
      "                     'phase': 0.00760574806680836},\n",
      "  'q22': { 'ec': -0.07143070554939267,\n",
      "           'ej': 0.027883114096305176,\n",
      "           'el': -0.06829565677939539},\n",
      "  'q22_pulse_cos': { 'amp': -0.1514861542144743,\n",
      "                     'length': -0.0004137275054945845,\n",
      "                     'omega_d': -0.40397032222735874,\n",
      "                     'phase': -0.023045497370974832},\n",
      "  'q23_pulse_cos': { 'amp': -0.14820643636574737,\n",
      "                     'length': -0.027288075189174525,\n",
      "                     'omega_d': -0.2424687090947586,\n",
      "                     'phase': -0.027900841356400807},\n",
      "  'single_q_compensation': { 'post_comp_q02': -0.029982160501806087,\n",
      "                             'post_comp_q03': -0.015094365741657845,\n",
      "                             'post_comp_q12': 0.002716169366036633,\n",
      "                             'post_comp_q13': 0.03290300780957872,\n",
      "                             'post_comp_q22': -0.02044666650391172,\n",
      "                             'post_comp_q23': 0.05788650777019478,\n",
      "                             'pre_comp_q02': 0.029982160501621807,\n",
      "                             'pre_comp_q03': 0.015094365741554403,\n",
      "                             'pre_comp_q12': -0.00271616936622226,\n",
      "                             'pre_comp_q13': -0.032903007809740245,\n",
      "                             'pre_comp_q22': 0.020446666504006058,\n",
      "                             'pre_comp_q23': -0.05788650777033777}}\n",
      "loss: -3.2592407923863385\n"
     ]
    },
    {
     "data": {
      "text/plain": [
       "{'capacitive_coupling_all_unify': {'strength': Array(0.07225963, dtype=float64)},\n",
       " 'inductive_coupling_all_unify': {'strength': Array(-0.01256337, dtype=float64)},\n",
       " 'q02': {'ec': Array(6.35323639, dtype=float64),\n",
       "  'ej': Array(25.11031176, dtype=float64),\n",
       "  'el': Array(6.34478467, dtype=float64)},\n",
       " 'q02_pulse_cos': {'amp': Array(0.07467669, dtype=float64),\n",
       "  'length': Array(39.82459368, dtype=float64),\n",
       "  'omega_d': Array(3.70771048, dtype=float64),\n",
       "  'phase': Array(0.75584101, dtype=float64)},\n",
       " 'q03': {'ec': Array(6.25505806, dtype=float64),\n",
       "  'ej': Array(25.1411431, dtype=float64),\n",
       "  'el': Array(5.00096106, dtype=float64)},\n",
       " 'q03_pulse_cos': {'amp': Array(0.06839658, dtype=float64),\n",
       "  'length': Array(39.8130292, dtype=float64),\n",
       "  'omega_d': Array(2.56897471, dtype=float64),\n",
       "  'phase': Array(0.85390463, dtype=float64)},\n",
       " 'q12': {'ec': Array(6.22334269, dtype=float64),\n",
       "  'ej': Array(25.15127277, dtype=float64),\n",
       "  'el': Array(5.60127635, dtype=float64)},\n",
       " 'q12_pulse_cos': {'amp': Array(0.07143055, dtype=float64),\n",
       "  'length': Array(39.85071144, dtype=float64),\n",
       "  'omega_d': Array(3.07586903, dtype=float64),\n",
       "  'phase': Array(1.58941292, dtype=float64)},\n",
       " 'q13': {'ec': Array(6.28679021, dtype=float64),\n",
       "  'ej': Array(25.13165205, dtype=float64),\n",
       "  'el': Array(6.91445599, dtype=float64)},\n",
       " 'q13_pulse_cos': {'amp': Array(0.07764115, dtype=float64),\n",
       "  'length': Array(39.85217585, dtype=float64),\n",
       "  'omega_d': Array(4.20299569, dtype=float64),\n",
       "  'phase': Array(1.4313524, dtype=float64)},\n",
       " 'q22': {'ec': Array(6.28284642, dtype=float64),\n",
       "  'ej': Array(25.13299666, dtype=float64),\n",
       "  'el': Array(7.53928627, dtype=float64)},\n",
       " 'q22_pulse_cos': {'amp': Array(0.08054709, dtype=float64),\n",
       "  'length': Array(39.80346405, dtype=float64),\n",
       "  'omega_d': Array(5.00262152, dtype=float64),\n",
       "  'phase': Array(1.39100238, dtype=float64)},\n",
       " 'q23_pulse_cos': {'amp': Array(0.0742271, dtype=float64),\n",
       "  'length': Array(39.85217601, dtype=float64),\n",
       "  'omega_d': Array(3.63596303, dtype=float64),\n",
       "  'phase': Array(0.26555031, dtype=float64)},\n",
       " 'single_q_compensation': {'post_comp_q02': Array(-0.41941917, dtype=float64),\n",
       "  'post_comp_q03': Array(-0.11531418, dtype=float64),\n",
       "  'post_comp_q12': Array(0.74593744, dtype=float64),\n",
       "  'post_comp_q13': Array(0.58729617, dtype=float64),\n",
       "  'post_comp_q22': Array(0.49022616, dtype=float64),\n",
       "  'post_comp_q23': Array(-1.02910252, dtype=float64),\n",
       "  'pre_comp_q02': Array(0.42591023, dtype=float64),\n",
       "  'pre_comp_q03': Array(0.11757535, dtype=float64),\n",
       "  'pre_comp_q12': Array(-0.74646366, dtype=float64),\n",
       "  'pre_comp_q13': Array(-0.58423447, dtype=float64),\n",
       "  'pre_comp_q22': Array(-0.48806632, dtype=float64),\n",
       "  'pre_comp_q23': Array(1.03747208, dtype=float64)}}"
      ]
     },
     "execution_count": 8,
     "metadata": {},
     "output_type": "execute_result"
    }
   ],
   "source": [
    "adam_opt(infidelity,\n",
    "         params,\n",
    "         args=(target_unitary,),\n",
    "         options={\n",
    "             'adam_lr': 1e-6,\n",
    "             'steps': 3\n",
    "         })\n"
   ]
  }
 ],
 "metadata": {
  "kernelspec": {
   "display_name": "base",
   "language": "python",
   "name": "python3"
  },
  "language_info": {
   "codemirror_mode": {
    "name": "ipython",
    "version": 3
   },
   "file_extension": ".py",
   "mimetype": "text/x-python",
   "name": "python",
   "nbconvert_exporter": "python",
   "pygments_lexer": "ipython3",
   "version": "3.10.13"
  },
  "orig_nbformat": 4
 },
 "nbformat": 4,
 "nbformat_minor": 2
}
