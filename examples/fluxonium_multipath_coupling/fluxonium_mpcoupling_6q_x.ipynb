{
 "cells": [
  {
   "cell_type": "markdown",
   "metadata": {},
   "source": [
    "# Fluxonium with multi-path coupling(Simultaneous X gate)\n",
    "\n",
    "This example is based on Nguyen, L. B. et al. Blueprint for a High-Performance Fluxonium Quantum Processor. PRX Quantum 3, 037001 (2022).\n",
    "We simulate a 6 fluxonium qubit system from an underlying periodic lattice.\n",
    "Idling hamiltonian of the system is\n",
    "$$ H(0) = \\sum_i H_{\\mathrm{f},i}  + \\sum_{\\langle i,j \\rangle } H_{ij}. $$\n",
    "Hamiltonian of single fluxonium is\n",
    "$$ H_{\\mathrm{f},i} = 4E_{\\mathrm{C},i} n_i^2 + \\frac{1}{2} E_{\\mathrm{L},i} (\\varphi_i +\\varphi_{\\mathrm{ext},i})^2\n",
    "    -E_{\\mathrm{J},i}\\cos \\left( \\varphi_i \\right).$$\n",
    "The coupling terms have the form\n",
    "$$H_{ij} = J_{\\mathrm{C}} n_i n_j - J_{\\mathrm{L}} \\varphi_i \\varphi_j.$$\n",
    "The couplings are chosen in a way such that the idling $ZZ$-crosstalk is almost zero."
   ]
  },
  {
   "cell_type": "code",
   "execution_count": 1,
   "metadata": {},
   "outputs": [],
   "source": [
    "import jax\n",
    "import jax.numpy as jnp\n",
    "\n",
    "import supergrad\n",
    "from supergrad.helper import Evolve\n",
    "from supergrad.utils import compute_fidelity_with_1q_rotation_axis\n",
    "from supergrad.utils.gates import sigmax\n",
    "from supergrad.utils.optimize import scipy_minimize, adam_opt\n",
    "from supergrad.utils.format_conv import tree_print\n",
    "from supergrad.utils.fidelity import pauli_diagnose_partition\n",
    "\n",
    "from supergrad.scgraph.graph_mpc_fluxonium_5x5_periodic import XGatePeriodicGraphOpt\n",
    "\n",
    "truncated_dim = 3  # how many levels we keep after diagonalization\n",
    "add_random = True  # whether to add deviations to fluxonium parameters ec,ej,el\n",
    "share_params = True  # whether we treat marked parameters as shared when computing gradients\n",
    "unify_coupling = True  # set all couplings to be equal\n",
    "compensation_option = 'only_vz'  # Use virtual-z compensation in fidelity computation\n",
    "\n",
    "# Note all options above should be applied to the parameters before performing any real calculations\n",
    "\n",
    "# instance the quantum processor graph, and choose a subset for time evolution\n",
    "gate_graph = XGatePeriodicGraphOpt(1)\n",
    "\n",
    "# Apply truncated_dim to fluxonium\n",
    "gate_graph.set_all_node_attr(truncated_dim=truncated_dim)\n",
    "\n",
    "# Apply random deviations to fluxonium parameters\n",
    "if add_random:\n",
    "    gate_graph.add_lcj_params_variance_to_graph()\n",
    "qubit_subset = gate_graph.subscgraph(['q02', 'q03', 'q12', 'q13', 'q22', 'q23'])\n",
    "\n",
    "# Set share_params and unify_coupling\n",
    "qubit_subset.share_params = share_params\n",
    "qubit_subset.unify_coupling = unify_coupling\n",
    "\n",
    "# Construct the Evolve object for time evolution\n",
    "evo = Evolve(qubit_subset)\n",
    "target_unitary = supergrad.tensor(*([sigmax()] * len(qubit_subset.nodes)))\n"
   ]
  },
  {
   "cell_type": "markdown",
   "metadata": {},
   "source": [
    "Let us print the parameters stored in the evo instance. These parameters are parsed from gate_graph. For how we construct this graph, please check `examples/fluxonium_multipath_coupling/graph_5x5_periodic.py` and the instructions inside."
   ]
  },
  {
   "cell_type": "code",
   "execution_count": 2,
   "metadata": {},
   "outputs": [
    {
     "name": "stdout",
     "output_type": "stream",
     "text": [
      "{ 'edges': { 'q02:q03': { 'capacitive_coupling': {'strength': 0.07225663},\n",
      "                          'inductive_coupling': {'strength': -0.01256637}}},\n",
      "  'nodes': { 'q02': { 'compensation': { 'post_comp': -0.41941967,\n",
      "                                        'pre_comp': 0.42591073},\n",
      "                      'ec': 6.3532393823,\n",
      "                      'ej': 25.1103087675,\n",
      "                      'el': 6.344787656,\n",
      "                      'pulse': { 'p1': { 'amp': 0.07467672,\n",
      "                                         'length': 39.82459069,\n",
      "                                         'omega_d': 3.70771137,\n",
      "                                         'phase': 0.7558433}}},\n",
      "             'q03': { 'compensation': { 'post_comp': -0.11531302,\n",
      "                                        'pre_comp': 0.11757419},\n",
      "                      'ec': 6.2550610547000005,\n",
      "                      'ej': 25.1411401038,\n",
      "                      'el': 5.000964059,\n",
      "                      'pulse': { 'p1': { 'amp': 0.06839676,\n",
      "                                         'length': 39.81302627,\n",
      "                                         'omega_d': 2.56897537,\n",
      "                                         'phase': 0.85390569}}},\n",
      "             'q12': { 'compensation': { 'post_comp': 0.74593951,\n",
      "                                        'pre_comp': -0.74646573},\n",
      "                      'ec': 6.2233456874,\n",
      "                      'ej': 25.1512697752,\n",
      "                      'el': 5.6012793457,\n",
      "                      'pulse': { 'p1': { 'amp': 0.07142831,\n",
      "                                         'length': 39.85070846,\n",
      "                                         'omega_d': 3.07586917,\n",
      "                                         'phase': 1.58941357}}},\n",
      "             'q13': { 'compensation': { 'post_comp': 0.58729911,\n",
      "                                        'pre_comp': -0.58423741},\n",
      "                      'ec': 6.2867872105,\n",
      "                      'ej': 25.1316550509,\n",
      "                      'el': 6.9144529962,\n",
      "                      'pulse': { 'p1': { 'amp': 0.07763859,\n",
      "                                         'length': 39.85217838,\n",
      "                                         'omega_d': 4.20299531,\n",
      "                                         'phase': 1.43135504}}},\n",
      "             'q22': { 'compensation': { 'post_comp': 0.49022838,\n",
      "                                        'pre_comp': -0.48806854},\n",
      "                      'ec': 6.282846661600001,\n",
      "                      'ej': 25.1329965509,\n",
      "                      'el': 7.539286440900001,\n",
      "                      'pulse': { 'p1': { 'amp': 0.08054434,\n",
      "                                         'length': 39.80346128,\n",
      "                                         'omega_d': 5.00262381,\n",
      "                                         'phase': 1.39100452}}},\n",
      "             'q23': { 'compensation': { 'post_comp': -1.02909962,\n",
      "                                        'pre_comp': 1.03746918},\n",
      "                      'pulse': { 'p1': { 'amp': 0.07422721,\n",
      "                                         'length': 39.85217838,\n",
      "                                         'omega_d': 3.63596315,\n",
      "                                         'phase': 0.26554983}}}}}\n"
     ]
    }
   ],
   "source": [
    "# This is the same as  evo.all_params\n",
    "params = qubit_subset.convert_graph_to_parameters()\n",
    "tree_print(params)\n"
   ]
  },
  {
   "cell_type": "code",
   "execution_count": 3,
   "metadata": {},
   "outputs": [],
   "source": [
    "def comp_u(params, target_unitary):\n",
    "    # evolve system on the eigen basis.\n",
    "    sim_u = evo.eigen_basis(params)\n",
    "    fidelity_vz, compensated_u = compute_fidelity_with_1q_rotation_axis(target_unitary,\n",
    "                                                            sim_u,\n",
    "                                                            opt_method=None)\n",
    "    return compensated_u\n",
    "\n",
    "compensated_u = comp_u(params, target_unitary)\n"
   ]
  },
  {
   "cell_type": "markdown",
   "metadata": {},
   "source": [
    "In the `comp_u` function in the above cell, we begin by computing the result of the time evolution unitary, `sim_u`, for the given parameters in `params`. The computation involves determining the time-evolution unitary matrix in the eigenbasis of the idling Hamiltonian. Subsequently, we calculate a suitable virtual-Z compensation, to ensure that the resulting `compensated_u` closely resembles the matrix of simultaneous X gates.\n",
    "\n",
    "We want to assess the level of correlation in the error. Let us define $U_\\mathrm{error} = U_{\\mathrm{compensated}}^{\\dagger} U_{\\mathrm{target}}$. By expanding $U_\\mathrm{error}$ in the Pauli basis, we obtain $U_\\mathrm{error} = \\sum_{\\vec{j}} a(\\vec{j})P_{\\vec{j}}$. In the following list, we will provide pairs of $(P_{\\vec{j}}, |a(\\vec{j})|^2)$. The values $|a(\\vec{j})|^2$ can be interpreted as the probabilities of stochastic errors after performing Pauli twirling.\n",
    "The colors of the text help visualize the weights of errors."
   ]
  },
  {
   "cell_type": "code",
   "execution_count": 4,
   "metadata": {},
   "outputs": [
    {
     "data": {
      "text/html": [
       "<pre style=\"white-space:pre;overflow-x:auto;line-height:normal;font-family:Menlo,'DejaVu Sans Mono',consolas,'Courier New',monospace\"><span style=\"color: #000000; text-decoration-color: #000000\">IIIIII   </span><span style=\"color: #000000; text-decoration-color: #000000; font-weight: bold\">9.9944e-01</span>\n",
       "</pre>\n"
      ],
      "text/plain": [
       "\u001b[30mIIIIII   \u001b[0m\u001b[1;30m9.9944e-01\u001b[0m\n"
      ]
     },
     "metadata": {},
     "output_type": "display_data"
    },
    {
     "data": {
      "text/html": [
       "<pre style=\"white-space:pre;overflow-x:auto;line-height:normal;font-family:Menlo,'DejaVu Sans Mono',consolas,'Courier New',monospace\"><span style=\"color: #ff00ff; text-decoration-color: #ff00ff\">IIIZIZ   </span><span style=\"color: #ff00ff; text-decoration-color: #ff00ff; font-weight: bold\">1.2491e-04</span>\n",
       "</pre>\n"
      ],
      "text/plain": [
       "\u001b[95mIIIZIZ   \u001b[0m\u001b[1;95m1.2491e-04\u001b[0m\n"
      ]
     },
     "metadata": {},
     "output_type": "display_data"
    },
    {
     "data": {
      "text/html": [
       "<pre style=\"white-space:pre;overflow-x:auto;line-height:normal;font-family:Menlo,'DejaVu Sans Mono',consolas,'Courier New',monospace\"><span style=\"color: #ff00ff; text-decoration-color: #ff00ff\">IIIXIY   </span><span style=\"color: #ff00ff; text-decoration-color: #ff00ff; font-weight: bold\">7.9678e-05</span>\n",
       "</pre>\n"
      ],
      "text/plain": [
       "\u001b[95mIIIXIY   \u001b[0m\u001b[1;95m7.9678e-05\u001b[0m\n"
      ]
     },
     "metadata": {},
     "output_type": "display_data"
    },
    {
     "data": {
      "text/html": [
       "<pre style=\"white-space:pre;overflow-x:auto;line-height:normal;font-family:Menlo,'DejaVu Sans Mono',consolas,'Courier New',monospace\"><span style=\"color: #ff00ff; text-decoration-color: #ff00ff\">IIIYIY   </span><span style=\"color: #ff00ff; text-decoration-color: #ff00ff; font-weight: bold\">3.5984e-05</span>\n",
       "</pre>\n"
      ],
      "text/plain": [
       "\u001b[95mIIIYIY   \u001b[0m\u001b[1;95m3.5984e-05\u001b[0m\n"
      ]
     },
     "metadata": {},
     "output_type": "display_data"
    },
    {
     "data": {
      "text/html": [
       "<pre style=\"white-space:pre;overflow-x:auto;line-height:normal;font-family:Menlo,'DejaVu Sans Mono',consolas,'Courier New',monospace\"><span style=\"color: #ff00ff; text-decoration-color: #ff00ff\">ZIXIII   </span><span style=\"color: #ff00ff; text-decoration-color: #ff00ff; font-weight: bold\">1.6916e-05</span>\n",
       "</pre>\n"
      ],
      "text/plain": [
       "\u001b[95mZIXIII   \u001b[0m\u001b[1;95m1.6916e-05\u001b[0m\n"
      ]
     },
     "metadata": {},
     "output_type": "display_data"
    },
    {
     "data": {
      "text/html": [
       "<pre style=\"white-space:pre;overflow-x:auto;line-height:normal;font-family:Menlo,'DejaVu Sans Mono',consolas,'Courier New',monospace\"><span style=\"color: #ff00ff; text-decoration-color: #ff00ff\">XIZIII   </span><span style=\"color: #ff00ff; text-decoration-color: #ff00ff; font-weight: bold\">1.6326e-05</span>\n",
       "</pre>\n"
      ],
      "text/plain": [
       "\u001b[95mXIZIII   \u001b[0m\u001b[1;95m1.6326e-05\u001b[0m\n"
      ]
     },
     "metadata": {},
     "output_type": "display_data"
    },
    {
     "data": {
      "text/html": [
       "<pre style=\"white-space:pre;overflow-x:auto;line-height:normal;font-family:Menlo,'DejaVu Sans Mono',consolas,'Courier New',monospace\"><span style=\"color: #ff00ff; text-decoration-color: #ff00ff\">ZIZIII   </span><span style=\"color: #ff00ff; text-decoration-color: #ff00ff; font-weight: bold\">1.4852e-05</span>\n",
       "</pre>\n"
      ],
      "text/plain": [
       "\u001b[95mZIZIII   \u001b[0m\u001b[1;95m1.4852e-05\u001b[0m\n"
      ]
     },
     "metadata": {},
     "output_type": "display_data"
    },
    {
     "data": {
      "text/html": [
       "<pre style=\"white-space:pre;overflow-x:auto;line-height:normal;font-family:Menlo,'DejaVu Sans Mono',consolas,'Courier New',monospace\"><span style=\"color: #ff00ff; text-decoration-color: #ff00ff\">XIXIII   </span><span style=\"color: #ff00ff; text-decoration-color: #ff00ff; font-weight: bold\">1.3981e-05</span>\n",
       "</pre>\n"
      ],
      "text/plain": [
       "\u001b[95mXIXIII   \u001b[0m\u001b[1;95m1.3981e-05\u001b[0m\n"
      ]
     },
     "metadata": {},
     "output_type": "display_data"
    },
    {
     "data": {
      "text/html": [
       "<pre style=\"white-space:pre;overflow-x:auto;line-height:normal;font-family:Menlo,'DejaVu Sans Mono',consolas,'Courier New',monospace\"><span style=\"color: #ff0000; text-decoration-color: #ff0000\">XYZIII   </span><span style=\"color: #ff0000; text-decoration-color: #ff0000; font-weight: bold\">1.3081e-05</span>\n",
       "</pre>\n"
      ],
      "text/plain": [
       "\u001b[91mXYZIII   \u001b[0m\u001b[1;91m1.3081e-05\u001b[0m\n"
      ]
     },
     "metadata": {},
     "output_type": "display_data"
    },
    {
     "data": {
      "text/html": [
       "<pre style=\"white-space:pre;overflow-x:auto;line-height:normal;font-family:Menlo,'DejaVu Sans Mono',consolas,'Courier New',monospace\"><span style=\"color: #ff0000; text-decoration-color: #ff0000\">ZZZIII   </span><span style=\"color: #ff0000; text-decoration-color: #ff0000; font-weight: bold\">1.2956e-05</span>\n",
       "</pre>\n"
      ],
      "text/plain": [
       "\u001b[91mZZZIII   \u001b[0m\u001b[1;91m1.2956e-05\u001b[0m\n"
      ]
     },
     "metadata": {},
     "output_type": "display_data"
    },
    {
     "data": {
      "text/html": [
       "<pre style=\"white-space:pre;overflow-x:auto;line-height:normal;font-family:Menlo,'DejaVu Sans Mono',consolas,'Courier New',monospace\"><span style=\"color: #ff0000; text-decoration-color: #ff0000\">XZXIII   </span><span style=\"color: #ff0000; text-decoration-color: #ff0000; font-weight: bold\">1.2304e-05</span>\n",
       "</pre>\n"
      ],
      "text/plain": [
       "\u001b[91mXZXIII   \u001b[0m\u001b[1;91m1.2304e-05\u001b[0m\n"
      ]
     },
     "metadata": {},
     "output_type": "display_data"
    },
    {
     "data": {
      "text/html": [
       "<pre style=\"white-space:pre;overflow-x:auto;line-height:normal;font-family:Menlo,'DejaVu Sans Mono',consolas,'Courier New',monospace\"><span style=\"color: #ff0000; text-decoration-color: #ff0000\">ZYXIII   </span><span style=\"color: #ff0000; text-decoration-color: #ff0000; font-weight: bold\">1.1377e-05</span>\n",
       "</pre>\n"
      ],
      "text/plain": [
       "\u001b[91mZYXIII   \u001b[0m\u001b[1;91m1.1377e-05\u001b[0m\n"
      ]
     },
     "metadata": {},
     "output_type": "display_data"
    },
    {
     "data": {
      "text/html": [
       "<pre style=\"white-space:pre;overflow-x:auto;line-height:normal;font-family:Menlo,'DejaVu Sans Mono',consolas,'Courier New',monospace\"><span style=\"color: #ff0000; text-decoration-color: #ff0000\">ZIZZII   </span><span style=\"color: #ff0000; text-decoration-color: #ff0000; font-weight: bold\">6.4210e-06</span>\n",
       "</pre>\n"
      ],
      "text/plain": [
       "\u001b[91mZIZZII   \u001b[0m\u001b[1;91m6.4210e-06\u001b[0m\n"
      ]
     },
     "metadata": {},
     "output_type": "display_data"
    },
    {
     "data": {
      "text/html": [
       "<pre style=\"white-space:pre;overflow-x:auto;line-height:normal;font-family:Menlo,'DejaVu Sans Mono',consolas,'Courier New',monospace\"><span style=\"color: #ff0000; text-decoration-color: #ff0000\">XIXZII   </span><span style=\"color: #ff0000; text-decoration-color: #ff0000; font-weight: bold\">6.1495e-06</span>\n",
       "</pre>\n"
      ],
      "text/plain": [
       "\u001b[91mXIXZII   \u001b[0m\u001b[1;91m6.1495e-06\u001b[0m\n"
      ]
     },
     "metadata": {},
     "output_type": "display_data"
    },
    {
     "data": {
      "text/html": [
       "<pre style=\"white-space:pre;overflow-x:auto;line-height:normal;font-family:Menlo,'DejaVu Sans Mono',consolas,'Courier New',monospace\"><span style=\"color: #ff0000; text-decoration-color: #ff0000\">ZIXYII   </span><span style=\"color: #ff0000; text-decoration-color: #ff0000; font-weight: bold\">4.9757e-06</span>\n",
       "</pre>\n"
      ],
      "text/plain": [
       "\u001b[91mZIXYII   \u001b[0m\u001b[1;91m4.9757e-06\u001b[0m\n"
      ]
     },
     "metadata": {},
     "output_type": "display_data"
    },
    {
     "data": {
      "text/html": [
       "<pre style=\"white-space:pre;overflow-x:auto;line-height:normal;font-family:Menlo,'DejaVu Sans Mono',consolas,'Courier New',monospace\">YIXXIZ   <span style=\"color: #008080; text-decoration-color: #008080; font-weight: bold\">4.8337e-06</span>\n",
       "</pre>\n"
      ],
      "text/plain": [
       "YIXXIZ   \u001b[1;36m4.8337e-06\u001b[0m\n"
      ]
     },
     "metadata": {},
     "output_type": "display_data"
    },
    {
     "data": {
      "text/html": [
       "<pre style=\"white-space:pre;overflow-x:auto;line-height:normal;font-family:Menlo,'DejaVu Sans Mono',consolas,'Courier New',monospace\"><span style=\"color: #ff0000; text-decoration-color: #ff0000\">XZYIII   </span><span style=\"color: #ff0000; text-decoration-color: #ff0000; font-weight: bold\">4.6187e-06</span>\n",
       "</pre>\n"
      ],
      "text/plain": [
       "\u001b[91mXZYIII   \u001b[0m\u001b[1;91m4.6187e-06\u001b[0m\n"
      ]
     },
     "metadata": {},
     "output_type": "display_data"
    },
    {
     "data": {
      "text/html": [
       "<pre style=\"white-space:pre;overflow-x:auto;line-height:normal;font-family:Menlo,'DejaVu Sans Mono',consolas,'Courier New',monospace\"><span style=\"color: #ff0000; text-decoration-color: #ff0000\">IZZZII   </span><span style=\"color: #ff0000; text-decoration-color: #ff0000; font-weight: bold\">4.6052e-06</span>\n",
       "</pre>\n"
      ],
      "text/plain": [
       "\u001b[91mIZZZII   \u001b[0m\u001b[1;91m4.6052e-06\u001b[0m\n"
      ]
     },
     "metadata": {},
     "output_type": "display_data"
    },
    {
     "data": {
      "text/html": [
       "<pre style=\"white-space:pre;overflow-x:auto;line-height:normal;font-family:Menlo,'DejaVu Sans Mono',consolas,'Courier New',monospace\"><span style=\"color: #ff0000; text-decoration-color: #ff0000\">XIZYII   </span><span style=\"color: #ff0000; text-decoration-color: #ff0000; font-weight: bold\">4.2224e-06</span>\n",
       "</pre>\n"
      ],
      "text/plain": [
       "\u001b[91mXIZYII   \u001b[0m\u001b[1;91m4.2224e-06\u001b[0m\n"
      ]
     },
     "metadata": {},
     "output_type": "display_data"
    },
    {
     "data": {
      "text/html": [
       "<pre style=\"white-space:pre;overflow-x:auto;line-height:normal;font-family:Menlo,'DejaVu Sans Mono',consolas,'Courier New',monospace\"><span style=\"color: #ff0000; text-decoration-color: #ff0000\">IYXZII   </span><span style=\"color: #ff0000; text-decoration-color: #ff0000; font-weight: bold\">4.2039e-06</span>\n",
       "</pre>\n"
      ],
      "text/plain": [
       "\u001b[91mIYXZII   \u001b[0m\u001b[1;91m4.2039e-06\u001b[0m\n"
      ]
     },
     "metadata": {},
     "output_type": "display_data"
    }
   ],
   "source": [
    "partition = [[0],[1],[2],[3],[4],[5]]\n",
    "res = pauli_diagnose_partition(target_unitary, compensated_u, 20, partition, 'black')\n"
   ]
  },
  {
   "cell_type": "markdown",
   "metadata": {},
   "source": [
    "For optimization, let us use an object function based on the average gate fidelity with leakage. The formula is from Physical Review A 87, 022309 (2013).\n",
    "$$\n",
    "\tC = 1 - \\frac{1}{D(D + 1)}[Tr(PU^{\\dagger}_{\\text{sim}}P U_{\\text{sim}}P)+|Tr(PU^{\\dagger}_{\\text{sim}} P U_{\\text{target}})|^2],   \n",
    "$$\n",
    "where $P$ is the projector into the computational subspace $S$, and $D=2^n$ is the dimension of $S$."
   ]
  },
  {
   "cell_type": "code",
   "execution_count": 5,
   "metadata": {},
   "outputs": [],
   "source": [
    "def infidelity(params, target_unitary):\n",
    "    # evolve system on the eigen basis.\n",
    "    sim_u = evo.eigen_basis(params)\n",
    "    # calculate fidelity\n",
    "    fidelity_vz, _ = compute_fidelity_with_1q_rotation_axis(target_unitary,\n",
    "                                                            sim_u,\n",
    "                                                            opt_method=None)\n",
    "\n",
    "    return jnp.log10(1 - fidelity_vz)\n"
   ]
  },
  {
   "cell_type": "code",
   "execution_count": 6,
   "metadata": {},
   "outputs": [
    {
     "name": "stdout",
     "output_type": "stream",
     "text": [
      "The infidelity of simultaneous X gates is  0.0005508189711008757\n"
     ]
    }
   ],
   "source": [
    "vg = jax.value_and_grad(infidelity)(params, target_unitary)\n",
    "print('The infidelity of simultaneous X gates is ', 10**vg[0])\n"
   ]
  },
  {
   "cell_type": "code",
   "execution_count": 7,
   "metadata": {},
   "outputs": [
    {
     "name": "stdout",
     "output_type": "stream",
     "text": [
      "The gradient of log10(infidelity):\n",
      "{ 'edges': { 'q02:q03': { 'capacitive_coupling': { 'strength': -0.5254040939255397},\n",
      "                          'inductive_coupling': { 'strength': -95.3640200890742}}},\n",
      "  'nodes': { 'q02': { 'compensation': { 'post_comp': 0.002912061010306388,\n",
      "                                        'pre_comp': -0.002912061010533762},\n",
      "                      'ec': 3.6308840077831386,\n",
      "                      'ej': -1.1561727006668847,\n",
      "                      'el': 3.1334022251140285,\n",
      "                      'pulse': { 'p1': { 'amp': 0.09382427071570856,\n",
      "                                         'length': -0.011382726347448776,\n",
      "                                         'omega_d': 0.7530296645143271,\n",
      "                                         'phase': 0.05968167697414312}}},\n",
      "             'q03': { 'compensation': { 'post_comp': 0.025252227306026498,\n",
      "                                        'pre_comp': -0.02525222730588439},\n",
      "                      'ec': 0.9169665253218147,\n",
      "                      'ej': -0.27179895687362954,\n",
      "                      'el': 0.8245148209246611,\n",
      "                      'pulse': { 'p1': { 'amp': -0.26441864462020664,\n",
      "                                         'length': -0.0036658774328935614,\n",
      "                                         'omega_d': 0.5164481187374367,\n",
      "                                         'phase': 0.029931504036951356}}},\n",
      "             'q12': { 'compensation': { 'post_comp': 0.03394491809399369,\n",
      "                                        'pre_comp': -0.03394491809410738},\n",
      "                      'ec': 0.6573186111877499,\n",
      "                      'ej': -0.19483476859816248,\n",
      "                      'el': 0.5608194619383071,\n",
      "                      'pulse': { 'p1': { 'amp': -0.9474579517719283,\n",
      "                                         'length': -0.013816284933549302,\n",
      "                                         'omega_d': 0.6331551995308371,\n",
      "                                         'phase': 0.033603526057279995}}},\n",
      "             'q13': { 'compensation': { 'post_comp': 0.029902121341706334,\n",
      "                                        'pre_comp': -0.029902121341706334},\n",
      "                      'ec': -5.444645176105246,\n",
      "                      'ej': 1.7969213573247316,\n",
      "                      'el': -4.752177209801677,\n",
      "                      'pulse': { 'p1': { 'amp': -0.4908238581088164,\n",
      "                                         'length': 0.20224316132789805,\n",
      "                                         'omega_d': 0.8818331750346519,\n",
      "                                         'phase': 0.04621704763334665}}},\n",
      "             'q22': { 'compensation': { 'post_comp': 0.053764711778285346,\n",
      "                                        'pre_comp': -0.05376471177805797},\n",
      "                      'ec': 0.0213835765033833,\n",
      "                      'ej': -0.008410700220237783,\n",
      "                      'el': 0.022285454516640112,\n",
      "                      'pulse': { 'p1': { 'amp': -1.3101671548190512,\n",
      "                                         'length': -0.0027403314491558153,\n",
      "                                         'omega_d': 1.0513632999910518,\n",
      "                                         'phase': 0.054675961900970405}}},\n",
      "             'q23': { 'compensation': { 'post_comp': 0.08912371509654804,\n",
      "                                        'pre_comp': -0.08912371509666173},\n",
      "                      'pulse': { 'p1': { 'amp': -0.3770078681560536,\n",
      "                                         'length': 0.20544205608719213,\n",
      "                                         'omega_d': 0.44259168377572217,\n",
      "                                         'phase': 0.004675093614478617}}}}}\n"
     ]
    }
   ],
   "source": [
    "print('The gradient of log10(infidelity):')\n",
    "tree_print(vg[1])\n"
   ]
  },
  {
   "cell_type": "markdown",
   "metadata": {},
   "source": [
    "Show the optimization procedure of control parameters"
   ]
  },
  {
   "cell_type": "code",
   "execution_count": 8,
   "metadata": {},
   "outputs": [
    {
     "name": "stdout",
     "output_type": "stream",
     "text": [
      "{'adam_lr': 1e-06, 'adam_lr_decay_rate': 1000, 'steps': 3, 'adam_b1': 0.9, 'adam_b2': 0.999}\n",
      "step: 0\n",
      "parameters:\n",
      "{ 'edges': { 'q02:q03': { 'capacitive_coupling': {'strength': 0.07225663},\n",
      "                          'inductive_coupling': {'strength': -0.01256637}}},\n",
      "  'nodes': { 'q02': { 'compensation': { 'post_comp': -0.41941967,\n",
      "                                        'pre_comp': 0.42591073},\n",
      "                      'ec': 6.3532393823,\n",
      "                      'ej': 25.1103087675,\n",
      "                      'el': 6.344787656,\n",
      "                      'pulse': { 'p1': { 'amp': 0.07467672,\n",
      "                                         'length': 39.82459069,\n",
      "                                         'omega_d': 3.70771137,\n",
      "                                         'phase': 0.7558433}}},\n",
      "             'q03': { 'compensation': { 'post_comp': -0.11531302,\n",
      "                                        'pre_comp': 0.11757419},\n",
      "                      'ec': 6.2550610547000005,\n",
      "                      'ej': 25.1411401038,\n",
      "                      'el': 5.000964059,\n",
      "                      'pulse': { 'p1': { 'amp': 0.06839676,\n",
      "                                         'length': 39.81302627,\n",
      "                                         'omega_d': 2.56897537,\n",
      "                                         'phase': 0.85390569}}},\n",
      "             'q12': { 'compensation': { 'post_comp': 0.74593951,\n",
      "                                        'pre_comp': -0.74646573},\n",
      "                      'ec': 6.2233456874,\n",
      "                      'ej': 25.1512697752,\n",
      "                      'el': 5.6012793457,\n",
      "                      'pulse': { 'p1': { 'amp': 0.07142831,\n",
      "                                         'length': 39.85070846,\n",
      "                                         'omega_d': 3.07586917,\n",
      "                                         'phase': 1.58941357}}},\n",
      "             'q13': { 'compensation': { 'post_comp': 0.58729911,\n",
      "                                        'pre_comp': -0.58423741},\n",
      "                      'ec': 6.2867872105,\n",
      "                      'ej': 25.1316550509,\n",
      "                      'el': 6.9144529962,\n",
      "                      'pulse': { 'p1': { 'amp': 0.07763859,\n",
      "                                         'length': 39.85217838,\n",
      "                                         'omega_d': 4.20299531,\n",
      "                                         'phase': 1.43135504}}},\n",
      "             'q22': { 'compensation': { 'post_comp': 0.49022838,\n",
      "                                        'pre_comp': -0.48806854},\n",
      "                      'ec': 6.282846661600001,\n",
      "                      'ej': 25.1329965509,\n",
      "                      'el': 7.539286440900001,\n",
      "                      'pulse': { 'p1': { 'amp': 0.08054434,\n",
      "                                         'length': 39.80346128,\n",
      "                                         'omega_d': 5.00262381,\n",
      "                                         'phase': 1.39100452}}},\n",
      "             'q23': { 'compensation': { 'post_comp': -1.02909962,\n",
      "                                        'pre_comp': 1.03746918},\n",
      "                      'pulse': { 'p1': { 'amp': 0.07422721,\n",
      "                                         'length': 39.85217838,\n",
      "                                         'omega_d': 3.63596315,\n",
      "                                         'phase': 0.26554983}}}}}\n",
      "gradient:\n",
      "{ 'edges': { 'q02:q03': { 'capacitive_coupling': { 'strength': -0.5254040926554201},\n",
      "                          'inductive_coupling': { 'strength': -12.566370000000001}}},\n",
      "  'nodes': { 'q02': { 'compensation': { 'post_comp': 0.0029120609663387145,\n",
      "                                        'pre_comp': -0.00291206096625285},\n",
      "                      'ec': 3.6308847429075453,\n",
      "                      'ej': -1.1561729376094316,\n",
      "                      'el': 3.1334028692714977,\n",
      "                      'pulse': { 'p1': { 'amp': 0.09382427725301364,\n",
      "                                         'length': -0.01138272633208559,\n",
      "                                         'omega_d': 0.7530298357879294,\n",
      "                                         'phase': 0.05968167696726522}}},\n",
      "             'q03': { 'compensation': { 'post_comp': 0.025252227361883726,\n",
      "                                        'pre_comp': -0.025252227361863527},\n",
      "                      'ec': 0.916966640416559,\n",
      "                      'ej': -0.2717989912937101,\n",
      "                      'el': 0.8245149257334843,\n",
      "                      'pulse': { 'p1': { 'amp': -0.26441863780737035,\n",
      "                                         'length': -0.003665877433070533,\n",
      "                                         'omega_d': 0.5164479718693538,\n",
      "                                         'phase': 0.02993150409874093}}},\n",
      "             'q12': { 'compensation': { 'post_comp': 0.033944917976270375,\n",
      "                                        'pre_comp': -0.03394491797610823},\n",
      "                      'ec': 0.6573180212226529,\n",
      "                      'ej': -0.19483458778881044,\n",
      "                      'el': 0.5608189349486412,\n",
      "                      'pulse': { 'p1': { 'amp': -0.9474579697372502,\n",
      "                                         'length': -0.013816284925848894,\n",
      "                                         'omega_d': 0.6331558785008449,\n",
      "                                         'phase': 0.03360352593693751}}},\n",
      "             'q13': { 'compensation': { 'post_comp': 0.029902121417466856,\n",
      "                                        'pre_comp': -0.02990212141732799},\n",
      "                      'ec': -5.444644968564686,\n",
      "                      'ej': 1.7969212892308704,\n",
      "                      'el': -4.752177029947496,\n",
      "                      'pulse': { 'p1': { 'amp': -0.49082386453991905,\n",
      "                                         'length': 0.20224316152853578,\n",
      "                                         'omega_d': 0.8818329803528587,\n",
      "                                         'phase': 0.04621704771110202}}},\n",
      "             'q22': { 'compensation': { 'post_comp': 0.0537647117895762,\n",
      "                                        'pre_comp': -0.05376471178951307},\n",
      "                      'ec': 0.02138363830947749,\n",
      "                      'ej': -0.008410720583624184,\n",
      "                      'el': 0.02228550672027391,\n",
      "                      'pulse': { 'p1': { 'amp': -1.3101671519067135,\n",
      "                                         'length': -0.002740331444816086,\n",
      "                                         'omega_d': 1.0513632468113006,\n",
      "                                         'phase': 0.05467596191192609}}},\n",
      "             'q23': { 'compensation': { 'post_comp': 0.08912371535017394,\n",
      "                                        'pre_comp': -0.08912371535025462},\n",
      "                      'pulse': { 'p1': { 'amp': -0.377007855234032,\n",
      "                                         'length': 0.20544205627873713,\n",
      "                                         'omega_d': 0.4425907312711523,\n",
      "                                         'phase': 0.004675093824258255}}}}}\n",
      "loss: -3.2589911104499016\n",
      "step: 1\n",
      "parameters:\n",
      "{ 'edges': { 'q02:q03': { 'capacitive_coupling': { 'strength': 0.07225762999998096},\n",
      "                          'inductive_coupling': { 'strength': -0.012565370000000796}}},\n",
      "  'nodes': { 'q02': { 'compensation': { 'post_comp': -0.419420669996566,\n",
      "                                        'pre_comp': 0.425911729996566},\n",
      "                      'ec': 6.3532383823000025,\n",
      "                      'ej': 25.11030976749999,\n",
      "                      'el': 6.344786656000004,\n",
      "                      'pulse': { 'p1': { 'amp': 0.07467572000010658,\n",
      "                                         'length': 39.824591689999124,\n",
      "                                         'omega_d': 3.7077103700000134,\n",
      "                                         'phase': 0.7558423000001675}}},\n",
      "             'q03': { 'compensation': { 'post_comp': -0.115314019999604,\n",
      "                                        'pre_comp': 0.117575189999604},\n",
      "                      'ec': 6.255060054700011,\n",
      "                      'ej': 25.141141103799963,\n",
      "                      'el': 5.0009630590000125,\n",
      "                      'pulse': { 'p1': { 'amp': 0.06839775999996218,\n",
      "                                         'length': 39.81302726999727,\n",
      "                                         'omega_d': 2.5689743700000194,\n",
      "                                         'phase': 0.8539046900003342}}},\n",
      "             'q12': { 'compensation': { 'post_comp': 0.7459385100002947,\n",
      "                                        'pre_comp': -0.7464647300002947},\n",
      "                      'ec': 6.223344687400015,\n",
      "                      'ej': 25.151270775199947,\n",
      "                      'el': 5.601278345700018,\n",
      "                      'pulse': { 'p1': { 'amp': 0.07142930999998943,\n",
      "                                         'length': 39.85070945999927,\n",
      "                                         'omega_d': 3.0758681700000157,\n",
      "                                         'phase': 1.5894125700002977}}},\n",
      "             'q13': { 'compensation': { 'post_comp': 0.5872981100003344,\n",
      "                                        'pre_comp': -0.5842364100003343},\n",
      "                      'ec': 6.286788210499998,\n",
      "                      'ej': 25.131654050900007,\n",
      "                      'el': 6.914453996199997,\n",
      "                      'pulse': { 'p1': { 'amp': 0.07763958999997962,\n",
      "                                         'length': 39.85217738000005,\n",
      "                                         'omega_d': 4.202994310000012,\n",
      "                                         'phase': 1.4313540400002163}}},\n",
      "             'q22': { 'compensation': { 'post_comp': 0.490227380000186,\n",
      "                                        'pre_comp': -0.488067540000186},\n",
      "                      'ec': 6.282845661600469,\n",
      "                      'ej': 25.13299755089881,\n",
      "                      'el': 7.539285440900449,\n",
      "                      'pulse': { 'p1': { 'amp': 0.08054533999999237,\n",
      "                                         'length': 39.80346227999635,\n",
      "                                         'omega_d': 5.00262281000001,\n",
      "                                         'phase': 1.391003520000183}}},\n",
      "             'q23': { 'compensation': { 'post_comp': -1.0291006199998878,\n",
      "                                        'pre_comp': 1.0374701799998878},\n",
      "                      'pulse': { 'p1': { 'amp': 0.07422820999997348,\n",
      "                                         'length': 39.85217738000004,\n",
      "                                         'omega_d': 3.6359621500000223,\n",
      "                                         'phase': 0.26554883000213897}}}}}\n",
      "gradient:\n",
      "{ 'edges': { 'q02:q03': { 'capacitive_coupling': { 'strength': -0.523295130033684},\n",
      "                          'inductive_coupling': { 'strength': -12.565370000000796}}},\n",
      "  'nodes': { 'q02': { 'compensation': { 'post_comp': -0.03560672523391993,\n",
      "                                        'pre_comp': 0.035606725233871844},\n",
      "                      'ec': 3.392905263599927,\n",
      "                      'ej': -1.0791902373391358,\n",
      "                      'el': 2.923169423968166,\n",
      "                      'pulse': { 'p1': { 'amp': -0.5338725926220736,\n",
      "                                         'length': -0.012562381784010732,\n",
      "                                         'omega_d': 0.23552247518061753,\n",
      "                                         'phase': 0.021154023487574607}}},\n",
      "             'q03': { 'compensation': { 'post_comp': -0.012356428175792694,\n",
      "                                        'pre_comp': 0.012356428175783842},\n",
      "                      'ec': 0.9187319760106556,\n",
      "                      'ej': -0.2716723568539731,\n",
      "                      'el': 0.8232469266062454,\n",
      "                      'pulse': { 'p1': { 'amp': 0.5744202647452593,\n",
      "                                         'length': -0.002255883692859574,\n",
      "                                         'omega_d': -0.23707416846535023,\n",
      "                                         'phase': -0.007678771689723557}}},\n",
      "             'q12': { 'compensation': { 'post_comp': -0.004069313642661027,\n",
      "                                        'pre_comp': 0.004069313642422709},\n",
      "                      'ec': 0.6944516434837711,\n",
      "                      'ej': -0.20550748885084244,\n",
      "                      'el': 0.5911866541543116,\n",
      "                      'pulse': { 'p1': { 'amp': -0.14429934161342695,\n",
      "                                         'length': -0.012405688799114278,\n",
      "                                         'omega_d': -0.17059308404350243,\n",
      "                                         'phase': -0.0044083612679059695}}},\n",
      "             'q13': { 'compensation': { 'post_comp': -0.008875290471173256,\n",
      "                                        'pre_comp': 0.008875290470948505},\n",
      "                      'ec': -5.305706253359004,\n",
      "                      'ej': 1.7522502659277228,\n",
      "                      'el': -4.6347650138675265,\n",
      "                      'pulse': { 'p1': { 'amp': 0.20978642224257663,\n",
      "                                         'length': 0.007841032596140645,\n",
      "                                         'omega_d': -0.025300091278301604,\n",
      "                                         'phase': 0.007439919460576861}}},\n",
      "             'q22': { 'compensation': { 'post_comp': 0.014201773952627207,\n",
      "                                        'pre_comp': -0.014201773952857133},\n",
      "                      'ec': -0.20337809988496738,\n",
      "                      'ej': 0.06637464416877012,\n",
      "                      'el': -0.16986058936403536,\n",
      "                      'pulse': { 'p1': { 'amp': -0.7067450824995167,\n",
      "                                         'length': -0.0015255991387329306,\n",
      "                                         'omega_d': 0.4596111946521761,\n",
      "                                         'phase': 0.015113166620349814}}},\n",
      "             'q23': { 'compensation': { 'post_comp': 0.05067617109512068,\n",
      "                                        'pre_comp': -0.050676171095030906},\n",
      "                      'pulse': { 'p1': { 'amp': 0.3640896008353013,\n",
      "                                         'length': -0.026074657969017458,\n",
      "                                         'omega_d': -0.3246598641583383,\n",
      "                                         'phase': -0.0337661884899174}}}}}\n",
      "loss: -3.259113550764336\n",
      "step: 2\n",
      "parameters:\n",
      "{ 'edges': { 'q02:q03': { 'capacitive_coupling': { 'strength': 0.07225862920026942},\n",
      "                          'inductive_coupling': { 'strength': -0.012564370694982277}}},\n",
      "  'nodes': { 'q02': { 'compensation': { 'post_comp': -0.4194199834004049,\n",
      "                                        'pre_comp': 0.4259110434004049},\n",
      "                      'ec': 6.353237385330136,\n",
      "                      'ej': 25.110310764421932,\n",
      "                      'el': 6.3447856591016745,\n",
      "                      'pulse': { 'p1': { 'amp': 0.07467633656414044,\n",
      "                                         'length': 39.824592690658264,\n",
      "                                         'omega_d': 3.7077095088859355,\n",
      "                                         'phase': 0.755841420372765}}},\n",
      "             'q03': { 'compensation': { 'post_comp': -0.11531429442117962,\n",
      "                                        'pre_comp': 0.11757546442117961},\n",
      "                      'ec': 6.255059055343293,\n",
      "                      'ej': 25.141142103094854,\n",
      "                      'el': 5.000962059733316,\n",
      "                      'pulse': { 'p1': { 'amp': 0.06839736432436554,\n",
      "                                         'length': 39.8130282300501,\n",
      "                                         'omega_d': 2.5689740718737353,\n",
      "                                         'phase': 0.8539042263049686}}},\n",
      "             'q12': { 'compensation': { 'post_comp': 0.7459379337266305,\n",
      "                                        'pre_comp': -0.7464641537266306},\n",
      "                      'ec': 6.223343687039247,\n",
      "                      'ej': 25.15127177554039,\n",
      "                      'el': 5.6012773453671825,\n",
      "                      'pulse': { 'p1': { 'amp': 0.07143008397143906,\n",
      "                                         'length': 39.85071045506428,\n",
      "                                         'omega_d': 3.0758677170316897,\n",
      "                                         'phase': 1.5894120028733574}}},\n",
      "             'q13': { 'compensation': { 'post_comp': 0.5872976798001963,\n",
      "                                        'pre_comp': -0.5842359798001963},\n",
      "                      'ec': 6.286789209050408,\n",
      "                      'ej': 25.131653052327703,\n",
      "                      'el': 6.914454994777365,\n",
      "                      'pulse': { 'p1': { 'amp': 0.07763991328011956,\n",
      "                                         'length': 39.85217668208613,\n",
      "                                         'omega_d': 4.20299366201838,\n",
      "                                         'phase': 1.431353260683026}}},\n",
      "             'q22': { 'compensation': { 'post_comp': 0.49022654263182724,\n",
      "                                        'pre_comp': -0.4880667026318272},\n",
      "                      'ec': 6.282846331167055,\n",
      "                      'ej': 25.13299689730474,\n",
      "                      'el': 7.5392860911486315,\n",
      "                      'pulse': { 'p1': { 'amp': 0.0805462824323223,\n",
      "                                         'length': 39.803463226814486,\n",
      "                                         'omega_d': 5.002621898532153,\n",
      "                                         'phase': 1.391002676421273}}},\n",
      "             'q23': { 'compensation': { 'post_comp': -1.0291015697071826,\n",
      "                                        'pre_comp': 1.0374711297071826},\n",
      "                      'pulse': { 'p1': { 'amp': 0.07422817482907144,\n",
      "                                         'length': 39.85217680941545,\n",
      "                                         'omega_d': 3.6359620501607406,\n",
      "                                         'phase': 0.26554947481588365}}}}}\n",
      "gradient:\n",
      "{ 'edges': { 'q02:q03': { 'capacitive_coupling': { 'strength': -0.5237440062927183},\n",
      "                          'inductive_coupling': { 'strength': -12.564370694982278}}},\n",
      "  'nodes': { 'q02': { 'compensation': { 'post_comp': -0.06318917609723038,\n",
      "                                        'pre_comp': 0.06318917609764353},\n",
      "                      'ec': 3.0694781989148012,\n",
      "                      'ej': -0.974166988469306,\n",
      "                      'el': 2.63622981213104,\n",
      "                      'pulse': { 'p1': { 'amp': -0.0526751869970474,\n",
      "                                         'length': -0.011657978209274625,\n",
      "                                         'omega_d': -0.05616242633776542,\n",
      "                                         'phase': -0.006439401845058101}}},\n",
      "             'q03': { 'compensation': { 'post_comp': -0.02434967518715607,\n",
      "                                        'pre_comp': 0.024349675187175242},\n",
      "                      'ec': 0.8661227141036283,\n",
      "                      'ej': -0.25620261916386966,\n",
      "                      'el': 0.7764896648856237,\n",
      "                      'pulse': { 'p1': { 'amp': 0.26779148880157744,\n",
      "                                         'length': -0.0027872513396066784,\n",
      "                                         'omega_d': -0.4089294260784469,\n",
      "                                         'phase': -0.01967365415763679}}},\n",
      "             'q12': { 'compensation': { 'post_comp': -0.022167130116204206,\n",
      "                                        'pre_comp': 0.022167130116323656},\n",
      "                      'ec': 0.6858754497008757,\n",
      "                      'ej': -0.20232677989583825,\n",
      "                      'el': 0.5813399707073178,\n",
      "                      'pulse': { 'p1': { 'amp': 0.48616751954198034,\n",
      "                                         'length': -0.011287097231418585,\n",
      "                                         'omega_d': -0.5253056435381864,\n",
      "                                         'phase': -0.02250320811082656}}},\n",
      "             'q13': { 'compensation': { 'post_comp': -0.03326842091428969,\n",
      "                                        'pre_comp': 0.033268420914287916},\n",
      "                      'ec': -5.204841388755949,\n",
      "                      'ej': 1.7195639121257402,\n",
      "                      'el': -4.548682186924611,\n",
      "                      'pulse': { 'p1': { 'amp': 0.4829231298278289,\n",
      "                                         'length': -0.028767155563384238,\n",
      "                                         'omega_d': -0.6109973670723581,\n",
      "                                         'phase': -0.016953278751407324}}},\n",
      "             'q22': { 'compensation': { 'post_comp': -0.020012114490751853,\n",
      "                                        'pre_comp': 0.020012114490572813},\n",
      "                      'ec': -0.0021526611362033487,\n",
      "                      'ej': 0.0009522346466670552,\n",
      "                      'el': -0.002541754251735808,\n",
      "                      'pulse': { 'p1': { 'amp': -0.13704491296396779,\n",
      "                                         'length': -0.0003894305733349962,\n",
      "                                         'omega_d': -0.39926842746627,\n",
      "                                         'phase': -0.019100516385723115}}},\n",
      "             'q23': { 'compensation': { 'post_comp': 0.043975893816941704,\n",
      "                                        'pre_comp': -0.0439758938167439},\n",
      "                      'pulse': { 'p1': { 'amp': 0.38607090261920884,\n",
      "                                         'length': -0.23236722770552024,\n",
      "                                         'omega_d': -0.37399283010706086,\n",
      "                                         'phase': -0.04045733882296774}}}}}\n",
      "loss: -3.2592312212680903\n"
     ]
    },
    {
     "data": {
      "text/plain": [
       "{'edges': {('q02',\n",
       "   'q03'): {'capacitive_coupling': {'strength': Array(0.07225963, dtype=float64)}, 'inductive_coupling': {'strength': Array(-0.01256337, dtype=float64)}}},\n",
       " 'nodes': {'q02': {'compensation': {'post_comp': Array(-0.41941917, dtype=float64),\n",
       "    'pre_comp': Array(0.42591023, dtype=float64)},\n",
       "   'ec': Array(6.35323639, dtype=float64),\n",
       "   'ej': Array(25.11031175, dtype=float64),\n",
       "   'el': Array(6.34478467, dtype=float64),\n",
       "   'pulse': {'p1': {'amp': Array(0.07467687, dtype=float64),\n",
       "     'length': Array(39.82459369, dtype=float64),\n",
       "     'omega_d': Array(3.70770889, dtype=float64),\n",
       "     'phase': Array(0.75584081, dtype=float64)}}},\n",
       "  'q03': {'compensation': {'post_comp': Array(-0.11531404, dtype=float64),\n",
       "    'pre_comp': Array(0.11757521, dtype=float64)},\n",
       "   'ec': Array(6.25505806, dtype=float64),\n",
       "   'ej': Array(25.1411431, dtype=float64),\n",
       "   'el': Array(5.00096106, dtype=float64),\n",
       "   'pulse': {'p1': {'amp': Array(0.06839683, dtype=float64),\n",
       "     'length': Array(39.8130292, dtype=float64),\n",
       "     'omega_d': Array(2.56897426, dtype=float64),\n",
       "     'phase': Array(0.85390427, dtype=float64)}}},\n",
       "  'q12': {'compensation': {'post_comp': Array(0.74593791, dtype=float64),\n",
       "    'pre_comp': Array(-0.74646413, dtype=float64)},\n",
       "   'ec': Array(6.22334269, dtype=float64),\n",
       "   'ej': Array(25.15127278, dtype=float64),\n",
       "   'el': Array(5.60127635, dtype=float64),\n",
       "   'pulse': {'p1': {'amp': Array(0.07143033, dtype=float64),\n",
       "     'length': Array(39.85071144, dtype=float64),\n",
       "     'omega_d': Array(3.07586784, dtype=float64),\n",
       "     'phase': Array(1.58941199, dtype=float64)}}},\n",
       "  'q13': {'compensation': {'post_comp': Array(0.58729792, dtype=float64),\n",
       "    'pre_comp': Array(-0.58423622, dtype=float64)},\n",
       "   'ec': Array(6.28679021, dtype=float64),\n",
       "   'ej': Array(25.13165206, dtype=float64),\n",
       "   'el': Array(6.91445599, dtype=float64),\n",
       "   'pulse': {'p1': {'amp': Array(0.07763967, dtype=float64),\n",
       "     'length': Array(39.85217624, dtype=float64),\n",
       "     'omega_d': Array(4.20299361, dtype=float64),\n",
       "     'phase': Array(1.43135291, dtype=float64)}}},\n",
       "  'q22': {'compensation': {'post_comp': Array(0.49022615, dtype=float64),\n",
       "    'pre_comp': Array(-0.48806631, dtype=float64)},\n",
       "   'ec': Array(6.28284686, dtype=float64),\n",
       "   'ej': Array(25.13299638, dtype=float64),\n",
       "   'el': Array(7.5392866, dtype=float64),\n",
       "   'pulse': {'p1': {'amp': Array(0.08054707, dtype=float64),\n",
       "     'length': Array(39.80346403, dtype=float64),\n",
       "     'omega_d': Array(5.00262144, dtype=float64),\n",
       "     'phase': Array(1.39100226, dtype=float64)}}},\n",
       "  'q23': {'compensation': {'post_comp': Array(-1.0291025, dtype=float64),\n",
       "    'pre_comp': Array(1.03747206, dtype=float64)},\n",
       "   'pulse': {'p1': {'amp': Array(0.07422777, dtype=float64),\n",
       "     'length': Array(39.85217699, dtype=float64),\n",
       "     'omega_d': Array(3.63596235, dtype=float64),\n",
       "     'phase': Array(0.26555028, dtype=float64)}}}}}"
      ]
     },
     "execution_count": 8,
     "metadata": {},
     "output_type": "execute_result"
    }
   ],
   "source": [
    "adam_opt(infidelity,\n",
    "         params,\n",
    "         args=(target_unitary,),\n",
    "         options={\n",
    "             'adam_lr': 1e-6,\n",
    "             'steps': 3\n",
    "         })\n"
   ]
  },
  {
   "cell_type": "code",
   "execution_count": null,
   "metadata": {},
   "outputs": [],
   "source": []
  }
 ],
 "metadata": {
  "kernelspec": {
   "display_name": "Python 3 (ipykernel)",
   "language": "python",
   "name": "python3"
  },
  "language_info": {
   "codemirror_mode": {
    "name": "ipython",
    "version": 3
   },
   "file_extension": ".py",
   "mimetype": "text/x-python",
   "name": "python",
   "nbconvert_exporter": "python",
   "pygments_lexer": "ipython3",
   "version": "3.10.13"
  }
 },
 "nbformat": 4,
 "nbformat_minor": 4
}
