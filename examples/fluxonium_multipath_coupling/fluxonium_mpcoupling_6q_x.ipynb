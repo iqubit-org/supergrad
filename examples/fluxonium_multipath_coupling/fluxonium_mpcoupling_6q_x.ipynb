{
 "cells": [
  {
   "cell_type": "markdown",
   "metadata": {},
   "source": [
    "# Fluxonium with multi-path coupling(Simultaneous X gate)\n",
    "\n",
    "This example is based on Nguyen, L. B. et al. Blueprint for a High-Performance Fluxonium Quantum Processor. PRX Quantum 3, 037001 (2022).\n",
    "We simulate a 6 fluxonium qubit system from an underlying periodic lattice.\n",
    "Idling hamiltonian of the system is\n",
    "$$ H(0) = \\sum_i H_{\\mathrm{f},i}  + \\sum_{\\langle i,j \\rangle } H_{ij}. $$\n",
    "Hamiltonian of single fluxonium is\n",
    "$$ H_{\\mathrm{f},i} = 4E_{\\mathrm{C},i} n_i^2 + \\frac{1}{2} E_{\\mathrm{L},i} (\\varphi_i +\\varphi_{\\mathrm{ext},i})^2\n",
    "    -E_{\\mathrm{J},i}\\cos \\left( \\varphi_i \\right).$$\n",
    "The coupling terms have the form\n",
    "$$H_{ij} = J_{\\mathrm{C}} n_i n_j - J_{\\mathrm{L}} \\varphi_i \\varphi_j.$$\n",
    "The couplings are chosen in a way such that the idling $ZZ$-crosstalk is almost zero."
   ]
  },
  {
   "cell_type": "code",
   "execution_count": 1,
   "metadata": {},
   "outputs": [],
   "source": [
    "import jax\n",
    "import jax.numpy as jnp\n",
    "import haiku as hk\n",
    "\n",
    "import supergrad\n",
    "from supergrad.helper import Evolve\n",
    "from supergrad.utils import compute_fidelity_with_1q_rotation_axis\n",
    "from supergrad.utils.gates import sigmax\n",
    "from supergrad.utils.optimize import scipy_minimize, adam_opt\n",
    "from supergrad.utils.utility import tree_print\n",
    "from supergrad.utils.fidelity import pauli_diagnose_partition\n",
    "\n",
    "from supergrad.scgraph.graph_mpc_fluxonium_5x5_periodic import XGatePeriodicGraphOpt\n",
    "\n",
    "truncated_dim = 3  # how many levels we keep after diagonalization\n",
    "add_random = True  # whether to add deviations to fluxonium parameters ec,ej,el\n",
    "share_params = True  # whether we treat marked parameters as shared when computing gradients\n",
    "unify_coupling = True  # set all couplings to be equal\n",
    "compensation_option = 'only_vz'  # Use virtual-z compensation in fidelity computation\n",
    "\n",
    "# instance the quantum processor graph, and choose a subset for time evolution\n",
    "gate_graph = XGatePeriodicGraphOpt(1)\n",
    "qubit_subset = gate_graph.subgraph(['q02', 'q03', 'q12', 'q13', 'q22', 'q23'])\n",
    "\n",
    "evo = Evolve(qubit_subset, truncated_dim, add_random, share_params, unify_coupling, compensation_option)\n",
    "target_unitary = supergrad.tensor(*([sigmax()] * len(qubit_subset.nodes)))\n"
   ]
  },
  {
   "cell_type": "markdown",
   "metadata": {},
   "source": [
    "Let us print the parameters stored in the evo instance. These parameters are parsed from gate_graph. For how we construct this graph, please check `examples/fluxonium_multipath_coupling/graph_5x5_periodic.py` and the instructions inside."
   ]
  },
  {
   "cell_type": "code",
   "execution_count": 2,
   "metadata": {},
   "outputs": [
    {
     "name": "stdout",
     "output_type": "stream",
     "text": [
      "{ 'capacitive_coupling_all_unify': {'strength': 0.07225663},\n",
      "  'inductive_coupling_all_unify': {'strength': -0.01256637},\n",
      "  'q02': {'ec': 6.3532393823, 'ej': 25.1103087675, 'el': 6.344787656},\n",
      "  'q02_pulse_cos': { 'amp': 0.07467672,\n",
      "                     'length': 39.82459069,\n",
      "                     'omega_d': 3.70771137,\n",
      "                     'phase': 0.7558433},\n",
      "  'q03': {'ec': 6.2550610547000005, 'ej': 25.1411401038, 'el': 5.000964059},\n",
      "  'q03_pulse_cos': { 'amp': 0.06839676,\n",
      "                     'length': 39.81302627,\n",
      "                     'omega_d': 2.56897537,\n",
      "                     'phase': 0.85390569},\n",
      "  'q12': {'ec': 6.2233456874, 'ej': 25.1512697752, 'el': 5.6012793457},\n",
      "  'q12_pulse_cos': { 'amp': 0.07142831,\n",
      "                     'length': 39.85070846,\n",
      "                     'omega_d': 3.07586917,\n",
      "                     'phase': 1.58941357},\n",
      "  'q13': {'ec': 6.2867872105, 'ej': 25.1316550509, 'el': 6.9144529962},\n",
      "  'q13_pulse_cos': { 'amp': 0.07763859,\n",
      "                     'length': 39.85217838,\n",
      "                     'omega_d': 4.20299531,\n",
      "                     'phase': 1.43135504},\n",
      "  'q22': { 'ec': 6.282846661600001,\n",
      "           'ej': 25.1329965509,\n",
      "           'el': 7.539286440900001},\n",
      "  'q22_pulse_cos': { 'amp': 0.08054434,\n",
      "                     'length': 39.80346128,\n",
      "                     'omega_d': 5.00262381,\n",
      "                     'phase': 1.39100452},\n",
      "  'q23_pulse_cos': { 'amp': 0.07422721,\n",
      "                     'length': 39.85217838,\n",
      "                     'omega_d': 3.63596315,\n",
      "                     'phase': 0.26554983},\n",
      "  'single_q_compensation': { 'post_comp_q02': -0.41941967,\n",
      "                             'post_comp_q03': -0.11531302,\n",
      "                             'post_comp_q12': 0.74593951,\n",
      "                             'post_comp_q13': 0.58729911,\n",
      "                             'post_comp_q22': 0.49022838,\n",
      "                             'post_comp_q23': -1.02909962,\n",
      "                             'pre_comp_q02': 0.42591073,\n",
      "                             'pre_comp_q03': 0.11757419,\n",
      "                             'pre_comp_q12': -0.74646573,\n",
      "                             'pre_comp_q13': -0.58423741,\n",
      "                             'pre_comp_q22': -0.48806854,\n",
      "                             'pre_comp_q23': 1.03746918}}\n"
     ]
    }
   ],
   "source": [
    "params = evo.all_params\n",
    "tree_print(params)\n"
   ]
  },
  {
   "cell_type": "code",
   "execution_count": 3,
   "metadata": {},
   "outputs": [],
   "source": [
    "def comp_u(params, target_unitary):\n",
    "    params = hk.data_structures.merge(evo.all_params, params)\n",
    "    # evolve system on the eigen basis.\n",
    "    sim_u = evo.eigen_basis(params)\n",
    "    fidelity_vz, compensated_u = compute_fidelity_with_1q_rotation_axis(target_unitary,\n",
    "                                                            sim_u,\n",
    "                                                            opt_method=None)\n",
    "    return compensated_u\n",
    "\n",
    "compensated_u = comp_u(params, target_unitary)\n"
   ]
  },
  {
   "cell_type": "markdown",
   "metadata": {},
   "source": [
    "In the `comp_u` function in the above cell, we begin by computing the result of the time evolution unitary, `sim_u`, for the given parameters in `params`. The computation involves determining the time-evolution unitary matrix in the eigenbasis of the idling Hamiltonian. Subsequently, we calculate a suitable virtual-Z compensation, to ensure that the resulting `compensated_u` closely resembles the matrix of simultaneous X gates.\n",
    "\n",
    "We want to assess the level of correlation in the error. Let us define $U_\\mathrm{error} = U_{\\mathrm{compensated}}^{\\dagger} U_{\\mathrm{target}}$. By expanding $U_\\mathrm{error}$ in the Pauli basis, we obtain $U_\\mathrm{error} = \\sum_{\\vec{j}} a(\\vec{j})P_{\\vec{j}}$. In the following list, we will provide pairs of $(P_{\\vec{j}}, |a(\\vec{j})|^2)$. The values $|a(\\vec{j})|^2$ can be interpreted as the probabilities of stochastic errors after performing Pauli twirling.\n",
    "The colors of the text help visualize the weights of errors."
   ]
  },
  {
   "cell_type": "code",
   "execution_count": 4,
   "metadata": {},
   "outputs": [
    {
     "data": {
      "text/html": [
       "<pre style=\"white-space:pre;overflow-x:auto;line-height:normal;font-family:Menlo,'DejaVu Sans Mono',consolas,'Courier New',monospace\"><span style=\"color: #000000; text-decoration-color: #000000\">IIIIII   </span><span style=\"color: #000000; text-decoration-color: #000000; font-weight: bold\">9.9944e-01</span>\n",
       "</pre>\n"
      ],
      "text/plain": [
       "\u001b[30mIIIIII   \u001b[0m\u001b[1;30m9.9944e-01\u001b[0m\n"
      ]
     },
     "metadata": {},
     "output_type": "display_data"
    },
    {
     "data": {
      "text/html": [
       "<pre style=\"white-space:pre;overflow-x:auto;line-height:normal;font-family:Menlo,'DejaVu Sans Mono',consolas,'Courier New',monospace\"><span style=\"color: #ff00ff; text-decoration-color: #ff00ff\">IIIZIZ   </span><span style=\"color: #ff00ff; text-decoration-color: #ff00ff; font-weight: bold\">1.2491e-04</span>\n",
       "</pre>\n"
      ],
      "text/plain": [
       "\u001b[95mIIIZIZ   \u001b[0m\u001b[1;95m1.2491e-04\u001b[0m\n"
      ]
     },
     "metadata": {},
     "output_type": "display_data"
    },
    {
     "data": {
      "text/html": [
       "<pre style=\"white-space:pre;overflow-x:auto;line-height:normal;font-family:Menlo,'DejaVu Sans Mono',consolas,'Courier New',monospace\"><span style=\"color: #ff00ff; text-decoration-color: #ff00ff\">IIIXIY   </span><span style=\"color: #ff00ff; text-decoration-color: #ff00ff; font-weight: bold\">7.9677e-05</span>\n",
       "</pre>\n"
      ],
      "text/plain": [
       "\u001b[95mIIIXIY   \u001b[0m\u001b[1;95m7.9677e-05\u001b[0m\n"
      ]
     },
     "metadata": {},
     "output_type": "display_data"
    },
    {
     "data": {
      "text/html": [
       "<pre style=\"white-space:pre;overflow-x:auto;line-height:normal;font-family:Menlo,'DejaVu Sans Mono',consolas,'Courier New',monospace\"><span style=\"color: #ff00ff; text-decoration-color: #ff00ff\">IIIYIY   </span><span style=\"color: #ff00ff; text-decoration-color: #ff00ff; font-weight: bold\">3.5984e-05</span>\n",
       "</pre>\n"
      ],
      "text/plain": [
       "\u001b[95mIIIYIY   \u001b[0m\u001b[1;95m3.5984e-05\u001b[0m\n"
      ]
     },
     "metadata": {},
     "output_type": "display_data"
    },
    {
     "data": {
      "text/html": [
       "<pre style=\"white-space:pre;overflow-x:auto;line-height:normal;font-family:Menlo,'DejaVu Sans Mono',consolas,'Courier New',monospace\"><span style=\"color: #ff00ff; text-decoration-color: #ff00ff\">ZIXIII   </span><span style=\"color: #ff00ff; text-decoration-color: #ff00ff; font-weight: bold\">1.6914e-05</span>\n",
       "</pre>\n"
      ],
      "text/plain": [
       "\u001b[95mZIXIII   \u001b[0m\u001b[1;95m1.6914e-05\u001b[0m\n"
      ]
     },
     "metadata": {},
     "output_type": "display_data"
    },
    {
     "data": {
      "text/html": [
       "<pre style=\"white-space:pre;overflow-x:auto;line-height:normal;font-family:Menlo,'DejaVu Sans Mono',consolas,'Courier New',monospace\"><span style=\"color: #ff00ff; text-decoration-color: #ff00ff\">XIZIII   </span><span style=\"color: #ff00ff; text-decoration-color: #ff00ff; font-weight: bold\">1.6327e-05</span>\n",
       "</pre>\n"
      ],
      "text/plain": [
       "\u001b[95mXIZIII   \u001b[0m\u001b[1;95m1.6327e-05\u001b[0m\n"
      ]
     },
     "metadata": {},
     "output_type": "display_data"
    },
    {
     "data": {
      "text/html": [
       "<pre style=\"white-space:pre;overflow-x:auto;line-height:normal;font-family:Menlo,'DejaVu Sans Mono',consolas,'Courier New',monospace\"><span style=\"color: #ff00ff; text-decoration-color: #ff00ff\">ZIZIII   </span><span style=\"color: #ff00ff; text-decoration-color: #ff00ff; font-weight: bold\">1.4852e-05</span>\n",
       "</pre>\n"
      ],
      "text/plain": [
       "\u001b[95mZIZIII   \u001b[0m\u001b[1;95m1.4852e-05\u001b[0m\n"
      ]
     },
     "metadata": {},
     "output_type": "display_data"
    },
    {
     "data": {
      "text/html": [
       "<pre style=\"white-space:pre;overflow-x:auto;line-height:normal;font-family:Menlo,'DejaVu Sans Mono',consolas,'Courier New',monospace\"><span style=\"color: #ff00ff; text-decoration-color: #ff00ff\">XIXIII   </span><span style=\"color: #ff00ff; text-decoration-color: #ff00ff; font-weight: bold\">1.3981e-05</span>\n",
       "</pre>\n"
      ],
      "text/plain": [
       "\u001b[95mXIXIII   \u001b[0m\u001b[1;95m1.3981e-05\u001b[0m\n"
      ]
     },
     "metadata": {},
     "output_type": "display_data"
    },
    {
     "data": {
      "text/html": [
       "<pre style=\"white-space:pre;overflow-x:auto;line-height:normal;font-family:Menlo,'DejaVu Sans Mono',consolas,'Courier New',monospace\"><span style=\"color: #ff0000; text-decoration-color: #ff0000\">XYZIII   </span><span style=\"color: #ff0000; text-decoration-color: #ff0000; font-weight: bold\">1.3079e-05</span>\n",
       "</pre>\n"
      ],
      "text/plain": [
       "\u001b[91mXYZIII   \u001b[0m\u001b[1;91m1.3079e-05\u001b[0m\n"
      ]
     },
     "metadata": {},
     "output_type": "display_data"
    },
    {
     "data": {
      "text/html": [
       "<pre style=\"white-space:pre;overflow-x:auto;line-height:normal;font-family:Menlo,'DejaVu Sans Mono',consolas,'Courier New',monospace\"><span style=\"color: #ff0000; text-decoration-color: #ff0000\">ZZZIII   </span><span style=\"color: #ff0000; text-decoration-color: #ff0000; font-weight: bold\">1.2957e-05</span>\n",
       "</pre>\n"
      ],
      "text/plain": [
       "\u001b[91mZZZIII   \u001b[0m\u001b[1;91m1.2957e-05\u001b[0m\n"
      ]
     },
     "metadata": {},
     "output_type": "display_data"
    },
    {
     "data": {
      "text/html": [
       "<pre style=\"white-space:pre;overflow-x:auto;line-height:normal;font-family:Menlo,'DejaVu Sans Mono',consolas,'Courier New',monospace\"><span style=\"color: #ff0000; text-decoration-color: #ff0000\">XZXIII   </span><span style=\"color: #ff0000; text-decoration-color: #ff0000; font-weight: bold\">1.2299e-05</span>\n",
       "</pre>\n"
      ],
      "text/plain": [
       "\u001b[91mXZXIII   \u001b[0m\u001b[1;91m1.2299e-05\u001b[0m\n"
      ]
     },
     "metadata": {},
     "output_type": "display_data"
    },
    {
     "data": {
      "text/html": [
       "<pre style=\"white-space:pre;overflow-x:auto;line-height:normal;font-family:Menlo,'DejaVu Sans Mono',consolas,'Courier New',monospace\"><span style=\"color: #ff0000; text-decoration-color: #ff0000\">ZYXIII   </span><span style=\"color: #ff0000; text-decoration-color: #ff0000; font-weight: bold\">1.1375e-05</span>\n",
       "</pre>\n"
      ],
      "text/plain": [
       "\u001b[91mZYXIII   \u001b[0m\u001b[1;91m1.1375e-05\u001b[0m\n"
      ]
     },
     "metadata": {},
     "output_type": "display_data"
    },
    {
     "data": {
      "text/html": [
       "<pre style=\"white-space:pre;overflow-x:auto;line-height:normal;font-family:Menlo,'DejaVu Sans Mono',consolas,'Courier New',monospace\"><span style=\"color: #ff0000; text-decoration-color: #ff0000\">ZIZZII   </span><span style=\"color: #ff0000; text-decoration-color: #ff0000; font-weight: bold\">6.4212e-06</span>\n",
       "</pre>\n"
      ],
      "text/plain": [
       "\u001b[91mZIZZII   \u001b[0m\u001b[1;91m6.4212e-06\u001b[0m\n"
      ]
     },
     "metadata": {},
     "output_type": "display_data"
    },
    {
     "data": {
      "text/html": [
       "<pre style=\"white-space:pre;overflow-x:auto;line-height:normal;font-family:Menlo,'DejaVu Sans Mono',consolas,'Courier New',monospace\"><span style=\"color: #ff0000; text-decoration-color: #ff0000\">XIXZII   </span><span style=\"color: #ff0000; text-decoration-color: #ff0000; font-weight: bold\">6.1497e-06</span>\n",
       "</pre>\n"
      ],
      "text/plain": [
       "\u001b[91mXIXZII   \u001b[0m\u001b[1;91m6.1497e-06\u001b[0m\n"
      ]
     },
     "metadata": {},
     "output_type": "display_data"
    },
    {
     "data": {
      "text/html": [
       "<pre style=\"white-space:pre;overflow-x:auto;line-height:normal;font-family:Menlo,'DejaVu Sans Mono',consolas,'Courier New',monospace\"><span style=\"color: #ff0000; text-decoration-color: #ff0000\">ZIXYII   </span><span style=\"color: #ff0000; text-decoration-color: #ff0000; font-weight: bold\">4.9756e-06</span>\n",
       "</pre>\n"
      ],
      "text/plain": [
       "\u001b[91mZIXYII   \u001b[0m\u001b[1;91m4.9756e-06\u001b[0m\n"
      ]
     },
     "metadata": {},
     "output_type": "display_data"
    },
    {
     "data": {
      "text/html": [
       "<pre style=\"white-space:pre;overflow-x:auto;line-height:normal;font-family:Menlo,'DejaVu Sans Mono',consolas,'Courier New',monospace\">YIXXIZ   <span style=\"color: #008080; text-decoration-color: #008080; font-weight: bold\">4.8337e-06</span>\n",
       "</pre>\n"
      ],
      "text/plain": [
       "YIXXIZ   \u001b[1;36m4.8337e-06\u001b[0m\n"
      ]
     },
     "metadata": {},
     "output_type": "display_data"
    },
    {
     "data": {
      "text/html": [
       "<pre style=\"white-space:pre;overflow-x:auto;line-height:normal;font-family:Menlo,'DejaVu Sans Mono',consolas,'Courier New',monospace\"><span style=\"color: #ff0000; text-decoration-color: #ff0000\">XZYIII   </span><span style=\"color: #ff0000; text-decoration-color: #ff0000; font-weight: bold\">4.6177e-06</span>\n",
       "</pre>\n"
      ],
      "text/plain": [
       "\u001b[91mXZYIII   \u001b[0m\u001b[1;91m4.6177e-06\u001b[0m\n"
      ]
     },
     "metadata": {},
     "output_type": "display_data"
    },
    {
     "data": {
      "text/html": [
       "<pre style=\"white-space:pre;overflow-x:auto;line-height:normal;font-family:Menlo,'DejaVu Sans Mono',consolas,'Courier New',monospace\"><span style=\"color: #ff0000; text-decoration-color: #ff0000\">IZZZII   </span><span style=\"color: #ff0000; text-decoration-color: #ff0000; font-weight: bold\">4.6046e-06</span>\n",
       "</pre>\n"
      ],
      "text/plain": [
       "\u001b[91mIZZZII   \u001b[0m\u001b[1;91m4.6046e-06\u001b[0m\n"
      ]
     },
     "metadata": {},
     "output_type": "display_data"
    },
    {
     "data": {
      "text/html": [
       "<pre style=\"white-space:pre;overflow-x:auto;line-height:normal;font-family:Menlo,'DejaVu Sans Mono',consolas,'Courier New',monospace\"><span style=\"color: #ff0000; text-decoration-color: #ff0000\">XIZYII   </span><span style=\"color: #ff0000; text-decoration-color: #ff0000; font-weight: bold\">4.2224e-06</span>\n",
       "</pre>\n"
      ],
      "text/plain": [
       "\u001b[91mXIZYII   \u001b[0m\u001b[1;91m4.2224e-06\u001b[0m\n"
      ]
     },
     "metadata": {},
     "output_type": "display_data"
    },
    {
     "data": {
      "text/html": [
       "<pre style=\"white-space:pre;overflow-x:auto;line-height:normal;font-family:Menlo,'DejaVu Sans Mono',consolas,'Courier New',monospace\"><span style=\"color: #ff0000; text-decoration-color: #ff0000\">IYXZII   </span><span style=\"color: #ff0000; text-decoration-color: #ff0000; font-weight: bold\">4.2033e-06</span>\n",
       "</pre>\n"
      ],
      "text/plain": [
       "\u001b[91mIYXZII   \u001b[0m\u001b[1;91m4.2033e-06\u001b[0m\n"
      ]
     },
     "metadata": {},
     "output_type": "display_data"
    }
   ],
   "source": [
    "partition = [[0],[1],[2],[3],[4],[5]]\n",
    "res = pauli_diagnose_partition(target_unitary, compensated_u, 20, partition, 'black')\n"
   ]
  },
  {
   "cell_type": "markdown",
   "metadata": {},
   "source": [
    "For optimization, let us use an object function based on the average gate fidelity with leakage. The formula is from Physical Review A 87, 022309 (2013).\n",
    "$$\n",
    "\tC = 1 - \\frac{1}{D(D + 1)}[Tr(PU^{\\dagger}_{\\text{sim}}P U_{\\text{sim}}P)+|Tr(PU^{\\dagger}_{\\text{sim}} P U_{\\text{target}})|^2],   \n",
    "$$\n",
    "where $P$ is the projector into the computational subspace $S$, and $D=2^n$ is the dimension of $S$."
   ]
  },
  {
   "cell_type": "code",
   "execution_count": 5,
   "metadata": {},
   "outputs": [],
   "source": [
    "def infidelity(params, target_unitary):\n",
    "    params = hk.data_structures.merge(evo.all_params, params)\n",
    "    # evolve system on the eigen basis.\n",
    "    sim_u = evo.eigen_basis(params)\n",
    "    # calculate fidelity\n",
    "    fidelity_vz, _ = compute_fidelity_with_1q_rotation_axis(target_unitary,\n",
    "                                                            sim_u,\n",
    "                                                            opt_method=None)\n",
    "\n",
    "    return jnp.log10(1 - fidelity_vz)\n"
   ]
  },
  {
   "cell_type": "code",
   "execution_count": 6,
   "metadata": {},
   "outputs": [
    {
     "name": "stdout",
     "output_type": "stream",
     "text": [
      "The infidelity of simultaneous X gates is  0.000550805312423797\n"
     ]
    }
   ],
   "source": [
    "vg = jax.value_and_grad(infidelity)(params, target_unitary)\n",
    "print('The infidelity of simultaneous X gates is ', 10**vg[0])\n"
   ]
  },
  {
   "cell_type": "code",
   "execution_count": 7,
   "metadata": {},
   "outputs": [
    {
     "name": "stdout",
     "output_type": "stream",
     "text": [
      "The gradient of log10(infidelity):\n",
      "{ 'capacitive_coupling_all_unify': {'strength': -0.5255497486236811},\n",
      "  'inductive_coupling_all_unify': {'strength': -95.36296551953433},\n",
      "  'q02': { 'ec': 3.6309946564779216,\n",
      "           'ej': -1.1562086889388574,\n",
      "           'el': 3.1335004633213988},\n",
      "  'q02_pulse_cos': { 'amp': 0.09361627454710687,\n",
      "                     'length': -0.011383359474712581,\n",
      "                     'omega_d': 0.7530556302284802,\n",
      "                     'phase': 0.05968693463255801},\n",
      "  'q03': { 'ec': 0.9170256844994974,\n",
      "           'ej': -0.27181664797136296,\n",
      "           'el': 0.8245691473517796},\n",
      "  'q03_pulse_cos': { 'amp': -0.2644388751359112,\n",
      "                     'length': -0.0036655382182900955,\n",
      "                     'omega_d': 0.516913680355986,\n",
      "                     'phase': 0.02995326603035853},\n",
      "  'q12': { 'ec': 0.6572720899711331,\n",
      "           'ej': -0.1948206460831732,\n",
      "           'el': 0.5607785992407223},\n",
      "  'q12_pulse_cos': { 'amp': -0.9476511103827258,\n",
      "                     'length': -0.013816211007660497,\n",
      "                     'omega_d': 0.6325381474430517,\n",
      "                     'phase': 0.03357086332053572},\n",
      "  'q13': { 'ec': -5.444787492689281,\n",
      "           'ej': 1.7969684280513278,\n",
      "           'el': -4.752301486907613},\n",
      "  'q13_pulse_cos': { 'amp': -0.4908343988670345,\n",
      "                     'length': 0.20222387212347862,\n",
      "                     'omega_d': 0.8817952284279185,\n",
      "                     'phase': 0.046214893017603995},\n",
      "  'q22': { 'ec': 0.02138339157182713,\n",
      "           'ej': -0.008410670279555305,\n",
      "           'el': 0.022285394233663085},\n",
      "  'q22_pulse_cos': { 'amp': -1.3102000009429753,\n",
      "                     'length': -0.002740399948947769,\n",
      "                     'omega_d': 1.0513900064279984,\n",
      "                     'phase': 0.05467732102435235},\n",
      "  'q23_pulse_cos': { 'amp': -0.37701776276663185,\n",
      "                     'length': 0.20542277701353961,\n",
      "                     'omega_d': 0.4423874200281446,\n",
      "                     'phase': 0.004664256015479895},\n",
      "  'single_q_compensation': { 'post_comp_q02': 0.0029145604457880836,\n",
      "                             'post_comp_q03': 0.025256846380102616,\n",
      "                             'post_comp_q12': 0.03393082003753989,\n",
      "                             'post_comp_q13': 0.02989032865059471,\n",
      "                             'post_comp_q22': 0.05376604636808224,\n",
      "                             'post_comp_q23': 0.08912374246733634,\n",
      "                             'pre_comp_q02': -0.0029145604459017704,\n",
      "                             'pre_comp_q03': -0.025256846380102616,\n",
      "                             'pre_comp_q12': -0.03393082003708514,\n",
      "                             'pre_comp_q13': -0.029890328650481024,\n",
      "                             'pre_comp_q22': -0.05376604636808224,\n",
      "                             'pre_comp_q23': -0.08912374246745003}}\n"
     ]
    }
   ],
   "source": [
    "print('The gradient of log10(infidelity):')\n",
    "tree_print(vg[1])\n"
   ]
  },
  {
   "cell_type": "markdown",
   "metadata": {},
   "source": [
    "Show the optimization procedure of control parameters"
   ]
  },
  {
   "cell_type": "code",
   "execution_count": 8,
   "metadata": {},
   "outputs": [
    {
     "name": "stdout",
     "output_type": "stream",
     "text": [
      "{'adam_lr': 1e-06, 'adam_lr_decay_rate': 1000, 'steps': 3, 'adam_b1': 0.9, 'adam_b2': 0.999}\n",
      "step: 0\n",
      "parameters:\n",
      "{ 'capacitive_coupling_all_unify': {'strength': 0.07225663},\n",
      "  'inductive_coupling_all_unify': {'strength': -0.01256637},\n",
      "  'q02': {'ec': 6.3532393823, 'ej': 25.1103087675, 'el': 6.344787656},\n",
      "  'q02_pulse_cos': { 'amp': 0.07467672,\n",
      "                     'length': 39.82459069,\n",
      "                     'omega_d': 3.70771137,\n",
      "                     'phase': 0.7558433},\n",
      "  'q03': {'ec': 6.2550610547000005, 'ej': 25.1411401038, 'el': 5.000964059},\n",
      "  'q03_pulse_cos': { 'amp': 0.06839676,\n",
      "                     'length': 39.81302627,\n",
      "                     'omega_d': 2.56897537,\n",
      "                     'phase': 0.85390569},\n",
      "  'q12': {'ec': 6.2233456874, 'ej': 25.1512697752, 'el': 5.6012793457},\n",
      "  'q12_pulse_cos': { 'amp': 0.07142831,\n",
      "                     'length': 39.85070846,\n",
      "                     'omega_d': 3.07586917,\n",
      "                     'phase': 1.58941357},\n",
      "  'q13': {'ec': 6.2867872105, 'ej': 25.1316550509, 'el': 6.9144529962},\n",
      "  'q13_pulse_cos': { 'amp': 0.07763859,\n",
      "                     'length': 39.85217838,\n",
      "                     'omega_d': 4.20299531,\n",
      "                     'phase': 1.43135504},\n",
      "  'q22': { 'ec': 6.282846661600001,\n",
      "           'ej': 25.1329965509,\n",
      "           'el': 7.539286440900001},\n",
      "  'q22_pulse_cos': { 'amp': 0.08054434,\n",
      "                     'length': 39.80346128,\n",
      "                     'omega_d': 5.00262381,\n",
      "                     'phase': 1.39100452},\n",
      "  'q23_pulse_cos': { 'amp': 0.07422721,\n",
      "                     'length': 39.85217838,\n",
      "                     'omega_d': 3.63596315,\n",
      "                     'phase': 0.26554983},\n",
      "  'single_q_compensation': { 'post_comp_q02': -0.41941967,\n",
      "                             'post_comp_q03': -0.11531302,\n",
      "                             'post_comp_q12': 0.74593951,\n",
      "                             'post_comp_q13': 0.58729911,\n",
      "                             'post_comp_q22': 0.49022838,\n",
      "                             'post_comp_q23': -1.02909962,\n",
      "                             'pre_comp_q02': 0.42591073,\n",
      "                             'pre_comp_q03': 0.11757419,\n",
      "                             'pre_comp_q12': -0.74646573,\n",
      "                             'pre_comp_q13': -0.58423741,\n",
      "                             'pre_comp_q22': -0.48806854,\n",
      "                             'pre_comp_q23': 1.03746918}}\n",
      "gradient:\n",
      "{ 'capacitive_coupling_all_unify': {'strength': -0.5255497598917374},\n",
      "  'inductive_coupling_all_unify': {'strength': -12.566370000000001},\n",
      "  'q02': { 'ec': 3.6309942785873095,\n",
      "           'ej': -1.1562085667038446,\n",
      "           'el': 3.1335001299382346},\n",
      "  'q02_pulse_cos': { 'amp': 0.09361626489570143,\n",
      "                     'length': -0.011383359493395128,\n",
      "                     'omega_d': 0.7530558453276233,\n",
      "                     'phase': 0.05968693463024582},\n",
      "  'q03': { 'ec': 0.9170255525966583,\n",
      "           'ej': -0.2718166085340673,\n",
      "           'el': 0.8245690272678281},\n",
      "  'q03_pulse_cos': { 'amp': -0.26443888489099915,\n",
      "                     'length': -0.0036655382244966932,\n",
      "                     'omega_d': 0.5169138484377839,\n",
      "                     'phase': 0.029953265932697995},\n",
      "  'q12': { 'ec': 0.6572714613891459,\n",
      "           'ej': -0.19482045341203527,\n",
      "           'el': 0.560778037670171},\n",
      "  'q12_pulse_cos': { 'amp': -0.9476511271005587,\n",
      "                     'length': -0.013816211000593045,\n",
      "                     'omega_d': 0.6325388711506057,\n",
      "                     'phase': 0.03357086319020996},\n",
      "  'q13': { 'ec': -5.444787236283803,\n",
      "           'ej': 1.7969683442077025,\n",
      "           'el': -4.752301265602476},\n",
      "  'q13_pulse_cos': { 'amp': -0.4908343780213991,\n",
      "                     'length': 0.2022238724439207,\n",
      "                     'omega_d': 0.8817949708789043,\n",
      "                     'phase': 0.04621489302506948},\n",
      "  'q22': { 'ec': 0.02138400953770716,\n",
      "           'ej': -0.008410873557412844,\n",
      "           'el': 0.022285915341047298},\n",
      "  'q22_pulse_cos': { 'amp': -1.3101999871863312,\n",
      "                     'length': -0.002740399938478913,\n",
      "                     'omega_d': 1.051389471330364,\n",
      "                     'phase': 0.05467732140677204},\n",
      "  'q23_pulse_cos': { 'amp': -0.3770177563265848,\n",
      "                     'length': 0.2054227773285911,\n",
      "                     'omega_d': 0.442387601819543,\n",
      "                     'phase': 0.004664255997991093},\n",
      "  'single_q_compensation': { 'post_comp_q02': 0.0029145603999161836,\n",
      "                             'post_comp_q03': 0.025256846281773604,\n",
      "                             'post_comp_q12': 0.033930819903695425,\n",
      "                             'post_comp_q13': 0.029890328650877398,\n",
      "                             'post_comp_q22': 0.05376604674811347,\n",
      "                             'post_comp_q23': 0.0891237425062294,\n",
      "                             'pre_comp_q02': -0.0029145604000086547,\n",
      "                             'pre_comp_q03': -0.025256846281771998,\n",
      "                             'pre_comp_q12': -0.033930819903736996,\n",
      "                             'pre_comp_q13': -0.02989032865067103,\n",
      "                             'pre_comp_q22': -0.05376604674804717,\n",
      "                             'pre_comp_q23': -0.08912374250615383}}\n",
      "loss: -3.259001880001806\n",
      "step: 1\n",
      "parameters:\n",
      "{ 'capacitive_coupling_all_unify': {'strength': 0.07225762999998098},\n",
      "  'inductive_coupling_all_unify': {'strength': -0.012565370000000796},\n",
      "  'q02': { 'ec': 6.3532383823000025,\n",
      "           'ej': 25.11030976749999,\n",
      "           'el': 6.344786656000004},\n",
      "  'q02_pulse_cos': { 'amp': 0.07467572000010682,\n",
      "                     'length': 39.824591689999124,\n",
      "                     'omega_d': 3.7077103700000134,\n",
      "                     'phase': 0.7558423000001675},\n",
      "  'q03': { 'ec': 6.255060054700011,\n",
      "           'ej': 25.141141103799963,\n",
      "           'el': 5.0009630590000125},\n",
      "  'q03_pulse_cos': { 'amp': 0.06839775999996218,\n",
      "                     'length': 39.81302726999727,\n",
      "                     'omega_d': 2.5689743700000194,\n",
      "                     'phase': 0.8539046900003339},\n",
      "  'q12': { 'ec': 6.223344687400015,\n",
      "           'ej': 25.151270775199947,\n",
      "           'el': 5.601278345700018},\n",
      "  'q12_pulse_cos': { 'amp': 0.07142930999998945,\n",
      "                     'length': 39.85070945999927,\n",
      "                     'omega_d': 3.0758681700000157,\n",
      "                     'phase': 1.589412570000298},\n",
      "  'q13': { 'ec': 6.286788210499998,\n",
      "           'ej': 25.131654050900007,\n",
      "           'el': 6.914453996199997},\n",
      "  'q13_pulse_cos': { 'amp': 0.07763958999997962,\n",
      "                     'length': 39.85217738000005,\n",
      "                     'omega_d': 4.202994310000012,\n",
      "                     'phase': 1.4313540400002163},\n",
      "  'q22': { 'ec': 6.282845661600469,\n",
      "           'ej': 25.13299755089881,\n",
      "           'el': 7.539285440900449},\n",
      "  'q22_pulse_cos': { 'amp': 0.08054533999999237,\n",
      "                     'length': 39.80346227999635,\n",
      "                     'omega_d': 5.00262281000001,\n",
      "                     'phase': 1.391003520000183},\n",
      "  'q23_pulse_cos': { 'amp': 0.07422820999997348,\n",
      "                     'length': 39.85217738000004,\n",
      "                     'omega_d': 3.6359621500000223,\n",
      "                     'phase': 0.26554883000214397},\n",
      "  'single_q_compensation': { 'post_comp_q02': -0.41942066999656896,\n",
      "                             'post_comp_q03': -0.11531401999960407,\n",
      "                             'post_comp_q12': 0.7459385100002948,\n",
      "                             'post_comp_q13': 0.5872981100003346,\n",
      "                             'post_comp_q22': 0.490227380000186,\n",
      "                             'post_comp_q23': -1.0291006199998878,\n",
      "                             'pre_comp_q02': 0.42591172999656896,\n",
      "                             'pre_comp_q03': 0.11757518999960406,\n",
      "                             'pre_comp_q12': -0.7464647300002948,\n",
      "                             'pre_comp_q13': -0.5842364100003345,\n",
      "                             'pre_comp_q22': -0.488067540000186,\n",
      "                             'pre_comp_q23': 1.0374701799998878}}\n",
      "gradient:\n",
      "{ 'capacitive_coupling_all_unify': {'strength': -0.5234407253048046},\n",
      "  'inductive_coupling_all_unify': {'strength': -12.565370000000796},\n",
      "  'q02': { 'ec': 3.393009965231798,\n",
      "           'ej': -1.079224302018632,\n",
      "           'el': 2.923262410852454},\n",
      "  'q02_pulse_cos': { 'amp': -0.5340961328040921,\n",
      "                     'length': -0.012563044117078048,\n",
      "                     'omega_d': 0.2355350875282743,\n",
      "                     'phase': 0.021158328441054076},\n",
      "  'q03': { 'ec': 0.9187913468252539,\n",
      "           'ej': -0.2716900949924503,\n",
      "           'el': 0.8233013744237385},\n",
      "  'q03_pulse_cos': { 'amp': 0.574420762584063,\n",
      "                     'length': -0.002255509655853576,\n",
      "                     'omega_d': -0.23662754804229824,\n",
      "                     'phase': -0.007657944578013199},\n",
      "  'q12': { 'ec': 0.694406246779351,\n",
      "           'ej': -0.205493693261122,\n",
      "           'el': 0.5911467258611843},\n",
      "  'q12_pulse_cos': { 'amp': -0.14447252900828503,\n",
      "                     'length': -0.012405579765067652,\n",
      "                     'omega_d': -0.17123031364197638,\n",
      "                     'phase': -0.0044419670965691604},\n",
      "  'q13': { 'ec': -5.305844705627387,\n",
      "           'ej': 1.7522960919097998,\n",
      "           'el': -4.6348860175608895},\n",
      "  'q13_pulse_cos': { 'amp': 0.20979329697689172,\n",
      "                     'length': 0.007792479853726279,\n",
      "                     'omega_d': -0.02536095839076193,\n",
      "                     'phase': 0.007436801942362272},\n",
      "  'q22': { 'ec': -0.20338340631214455,\n",
      "           'ej': 0.0663763798989392,\n",
      "           'el': -0.16986503314626772},\n",
      "  'q22_pulse_cos': { 'amp': -0.7067629569934102,\n",
      "                     'length': -0.0015256375120322975,\n",
      "                     'omega_d': 0.4596228244333645,\n",
      "                     'phase': 0.015113544399181887},\n",
      "  'q23_pulse_cos': { 'amp': 0.3640980742864793,\n",
      "                     'length': -0.026075237041069534,\n",
      "                     'omega_d': -0.3248825280009749,\n",
      "                     'phase': -0.0337779793123182},\n",
      "  'single_q_compensation': { 'post_comp_q02': -0.03560517810440088,\n",
      "                             'post_comp_q03': -0.01235274261467591,\n",
      "                             'post_comp_q12': -0.004084356129563311,\n",
      "                             'post_comp_q13': -0.008888045115724314,\n",
      "                             'post_comp_q22': 0.014202127196295137,\n",
      "                             'post_comp_q23': 0.0506752438958872,\n",
      "                             'pre_comp_q02': 0.03560517810463019,\n",
      "                             'pre_comp_q03': 0.012352742614617624,\n",
      "                             'pre_comp_q12': 0.004084356129569275,\n",
      "                             'pre_comp_q13': 0.008888045115748155,\n",
      "                             'pre_comp_q22': -0.014202127196357205,\n",
      "                             'pre_comp_q23': -0.05067524389591071}}\n",
      "loss: -3.2591243189419896\n",
      "step: 2\n",
      "parameters:\n",
      "{ 'capacitive_coupling_all_unify': {'strength': 0.07225862920029594},\n",
      "  'inductive_coupling_all_unify': {'strength': -0.012564370694982277},\n",
      "  'q02': { 'ec': 6.3532373853301065,\n",
      "           'ej': 25.110310764421964,\n",
      "           'el': 6.344785659101641},\n",
      "  'q02_pulse_cos': { 'amp': 0.07467633691793601,\n",
      "                     'length': 39.824592690658264,\n",
      "                     'omega_d': 3.7077095088831737,\n",
      "                     'phase': 0.7558414203554238},\n",
      "  'q03': { 'ec': 6.255059055343283,\n",
      "           'ej': 25.141142103094865,\n",
      "           'el': 5.000962059733302},\n",
      "  'q03_pulse_cos': { 'amp': 0.06839736435078644,\n",
      "                     'length': 39.813028230040864,\n",
      "                     'omega_d': 2.568974070864992,\n",
      "                     'phase': 0.8539042255710818},\n",
      "  'q12': { 'ec': 6.22334368703918,\n",
      "           'ej': 25.151271775540458,\n",
      "           'el': 5.601277345367113},\n",
      "  'q12_pulse_cos': { 'amp': 0.07143008406551754,\n",
      "                     'length': 39.8507104550641,\n",
      "                     'omega_d': 3.07586771808881,\n",
      "                     'phase': 1.5894120037887967},\n",
      "  'q13': { 'ec': 6.286789209050407,\n",
      "           'ej': 25.131653052327703,\n",
      "           'el': 6.914454994777364},\n",
      "  'q13_pulse_cos': { 'amp': 0.0776399132762338,\n",
      "                     'length': 39.852176682255504,\n",
      "                     'omega_d': 4.2029936620719415,\n",
      "                     'phase': 1.4313532607197255},\n",
      "  'q22': { 'ec': 6.28284633116773,\n",
      "           'ej': 25.132996897303986,\n",
      "           'el': 7.539286091149399},\n",
      "  'q22_pulse_cos': { 'amp': 0.08054628243235455,\n",
      "                     'length': 39.80346322681451,\n",
      "                     'omega_d': 5.002621898532098,\n",
      "                     'phase': 1.3910026764212546},\n",
      "  'q23_pulse_cos': { 'amp': 0.07422817483056525,\n",
      "                     'length': 39.85217680942737,\n",
      "                     'omega_d': 3.6359620507044794,\n",
      "                     'phase': 0.2655494750929165},\n",
      "  'single_q_compensation': { 'post_comp_q02': -0.41941998345371445,\n",
      "                             'post_comp_q03': -0.11531429460402001,\n",
      "                             'post_comp_q12': 0.7459379341245739,\n",
      "                             'post_comp_q13': 0.5872976802519146,\n",
      "                             'post_comp_q22': 0.49022654263182136,\n",
      "                             'post_comp_q23': -1.0291015697046622,\n",
      "                             'pre_comp_q02': 0.42591104345371444,\n",
      "                             'pre_comp_q03': 0.11757546460402,\n",
      "                             'pre_comp_q12': -0.7464641541245739,\n",
      "                             'pre_comp_q13': -0.5842359802519146,\n",
      "                             'pre_comp_q22': -0.48806670263182134,\n",
      "                             'pre_comp_q23': 1.0374711297046622}}\n",
      "gradient:\n",
      "{ 'capacitive_coupling_all_unify': {'strength': -0.5238903336995692},\n",
      "  'inductive_coupling_all_unify': {'strength': -12.564370694982278},\n",
      "  'q02': { 'ec': 3.0695281930554494,\n",
      "           'ej': -0.9741831199466121,\n",
      "           'el': 2.636273757138148},\n",
      "  'q02_pulse_cos': { 'amp': -0.05264387822791555,\n",
      "                     'length': -0.011658165300434821,\n",
      "                     'omega_d': -0.056162849030835925,\n",
      "                     'phase': -0.00643602448718424},\n",
      "  'q03': { 'ec': 0.8662523527379541,\n",
      "           'ej': -0.2562413602923802,\n",
      "           'el': 0.7766080583954735},\n",
      "  'q03_pulse_cos': { 'amp': 0.26781048319504386,\n",
      "                     'length': -0.00278687881881384,\n",
      "                     'omega_d': -0.4092344365473008,\n",
      "                     'phase': -0.01968598957634653},\n",
      "  'q12': { 'ec': 0.6857444388604468,\n",
      "           'ej': -0.2022866707857155,\n",
      "           'el': 0.5812232723787053},\n",
      "  'q12_pulse_cos': { 'amp': 0.48607634734546973,\n",
      "                     'length': -0.011286812133046074,\n",
      "                     'omega_d': -0.5251478111207616,\n",
      "                     'phase': -0.02250187227271545},\n",
      "  'q13': { 'ec': -5.20498437722536,\n",
      "           'ej': 1.7196112413923559,\n",
      "           'el': -4.548807170230274},\n",
      "  'q13_pulse_cos': { 'amp': 0.48293466184677425,\n",
      "                     'length': -0.028767737165452303,\n",
      "                     'omega_d': -0.6110036474299956,\n",
      "                     'phase': -0.01695384667896804},\n",
      "  'q22': { 'ec': -0.002152449430769623,\n",
      "           'ej': 0.0009521818327331359,\n",
      "           'el': -0.00254162618110391},\n",
      "  'q22_pulse_cos': { 'amp': -0.13704859793042057,\n",
      "                     'length': -0.0003894408672059651,\n",
      "                     'omega_d': -0.39927781299710313,\n",
      "                     'phase': -0.019100942573895004},\n",
      "  'q23_pulse_cos': { 'amp': 0.3860794634049209,\n",
      "                     'length': -0.23237183016513352,\n",
      "                     'omega_d': -0.3738218111347569,\n",
      "                     'phase': -0.04045200139385199},\n",
      "  'single_q_compensation': { 'post_comp_q02': -0.06318855607378741,\n",
      "                             'post_comp_q03': -0.02437914853824351,\n",
      "                             'post_comp_q12': -0.022147234100307913,\n",
      "                             'post_comp_q13': -0.0332786233967883,\n",
      "                             'post_comp_q22': -0.02001256521497532,\n",
      "                             'post_comp_q23': 0.043992091385302044,\n",
      "                             'pre_comp_q02': 0.06318855607372825,\n",
      "                             'pre_comp_q03': 0.024379148538482606,\n",
      "                             'pre_comp_q12': 0.02214723410038315,\n",
      "                             'pre_comp_q13': 0.033278623396907334,\n",
      "                             'pre_comp_q22': 0.020012565215042525,\n",
      "                             'pre_comp_q23': -0.043992091385253826}}\n",
      "loss: -3.2592419899477036\n"
     ]
    },
    {
     "data": {
      "text/plain": [
       "{'capacitive_coupling_all_unify': {'strength': Array(0.07225963, dtype=float64)},\n",
       " 'inductive_coupling_all_unify': {'strength': Array(-0.01256337, dtype=float64)},\n",
       " 'q02': {'ec': Array(6.35323639, dtype=float64),\n",
       "  'ej': Array(25.11031175, dtype=float64),\n",
       "  'el': Array(6.34478467, dtype=float64)},\n",
       " 'q02_pulse_cos': {'amp': Array(0.07467687, dtype=float64),\n",
       "  'length': Array(39.82459369, dtype=float64),\n",
       "  'omega_d': Array(3.70770889, dtype=float64),\n",
       "  'phase': Array(0.75584081, dtype=float64)},\n",
       " 'q03': {'ec': Array(6.25505806, dtype=float64),\n",
       "  'ej': Array(25.1411431, dtype=float64),\n",
       "  'el': Array(5.00096106, dtype=float64)},\n",
       " 'q03_pulse_cos': {'amp': Array(0.06839683, dtype=float64),\n",
       "  'length': Array(39.8130292, dtype=float64),\n",
       "  'omega_d': Array(2.56897426, dtype=float64),\n",
       "  'phase': Array(0.85390427, dtype=float64)},\n",
       " 'q12': {'ec': Array(6.22334269, dtype=float64),\n",
       "  'ej': Array(25.15127278, dtype=float64),\n",
       "  'el': Array(5.60127635, dtype=float64)},\n",
       " 'q12_pulse_cos': {'amp': Array(0.07143033, dtype=float64),\n",
       "  'length': Array(39.85071144, dtype=float64),\n",
       "  'omega_d': Array(3.07586784, dtype=float64),\n",
       "  'phase': Array(1.58941199, dtype=float64)},\n",
       " 'q13': {'ec': Array(6.28679021, dtype=float64),\n",
       "  'ej': Array(25.13165206, dtype=float64),\n",
       "  'el': Array(6.91445599, dtype=float64)},\n",
       " 'q13_pulse_cos': {'amp': Array(0.07763967, dtype=float64),\n",
       "  'length': Array(39.85217624, dtype=float64),\n",
       "  'omega_d': Array(4.20299361, dtype=float64),\n",
       "  'phase': Array(1.43135291, dtype=float64)},\n",
       " 'q22': {'ec': Array(6.28284686, dtype=float64),\n",
       "  'ej': Array(25.13299638, dtype=float64),\n",
       "  'el': Array(7.5392866, dtype=float64)},\n",
       " 'q22_pulse_cos': {'amp': Array(0.08054707, dtype=float64),\n",
       "  'length': Array(39.80346403, dtype=float64),\n",
       "  'omega_d': Array(5.00262144, dtype=float64),\n",
       "  'phase': Array(1.39100226, dtype=float64)},\n",
       " 'q23_pulse_cos': {'amp': Array(0.07422777, dtype=float64),\n",
       "  'length': Array(39.85217699, dtype=float64),\n",
       "  'omega_d': Array(3.63596235, dtype=float64),\n",
       "  'phase': Array(0.26555028, dtype=float64)},\n",
       " 'single_q_compensation': {'post_comp_q02': Array(-0.41941917, dtype=float64),\n",
       "  'post_comp_q03': Array(-0.11531404, dtype=float64),\n",
       "  'post_comp_q12': Array(0.74593791, dtype=float64),\n",
       "  'post_comp_q13': Array(0.58729792, dtype=float64),\n",
       "  'post_comp_q22': Array(0.49022615, dtype=float64),\n",
       "  'post_comp_q23': Array(-1.0291025, dtype=float64),\n",
       "  'pre_comp_q02': Array(0.42591023, dtype=float64),\n",
       "  'pre_comp_q03': Array(0.11757521, dtype=float64),\n",
       "  'pre_comp_q12': Array(-0.74646413, dtype=float64),\n",
       "  'pre_comp_q13': Array(-0.58423622, dtype=float64),\n",
       "  'pre_comp_q22': Array(-0.48806631, dtype=float64),\n",
       "  'pre_comp_q23': Array(1.03747206, dtype=float64)}}"
      ]
     },
     "execution_count": 8,
     "metadata": {},
     "output_type": "execute_result"
    }
   ],
   "source": [
    "adam_opt(infidelity,\n",
    "         params,\n",
    "         args=(target_unitary,),\n",
    "         options={\n",
    "             'adam_lr': 1e-6,\n",
    "             'steps': 3\n",
    "         })\n"
   ]
  }
 ],
 "metadata": {
  "kernelspec": {
   "display_name": "base",
   "language": "python",
   "name": "python3"
  },
  "language_info": {
   "codemirror_mode": {
    "name": "ipython",
    "version": 3
   },
   "file_extension": ".py",
   "mimetype": "text/x-python",
   "name": "python",
   "nbconvert_exporter": "python",
   "pygments_lexer": "ipython3",
   "version": "3.10.13"
  },
  "orig_nbformat": 4
 },
 "nbformat": 4,
 "nbformat_minor": 2
}
