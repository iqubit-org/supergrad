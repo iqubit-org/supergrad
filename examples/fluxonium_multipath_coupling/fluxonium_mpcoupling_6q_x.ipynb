{
 "cells": [
  {
   "cell_type": "markdown",
   "metadata": {},
   "source": [
    "# Fluxonium with multi-path coupling(Simultaneous X gate)\n",
    "\n",
    "This example is based on Nguyen, L. B. et al. Blueprint for a High-Performance Fluxonium Quantum Processor. PRX Quantum 3, 037001 (2022).\n",
    "We simulate a 6 fluxonium qubit system from an underlying periodic lattice.\n",
    "Idling hamiltonian of the system is\n",
    "$$ H(0) = \\sum_i H_{\\mathrm{f},i}  + \\sum_{\\langle i,j \\rangle } H_{ij}. $$\n",
    "Hamiltonian of single fluxonium is\n",
    "$$ H_{\\mathrm{f},i} = 4E_{\\mathrm{C},i} n_i^2 + \\frac{1}{2} E_{\\mathrm{L},i} (\\varphi_i +\\varphi_{\\mathrm{ext},i})^2\n",
    "    -E_{\\mathrm{J},i}\\cos \\left( \\varphi_i \\right).$$\n",
    "The coupling terms have the form\n",
    "$$H_{ij} = J_{\\mathrm{C}} n_i n_j - J_{\\mathrm{L}} \\varphi_i \\varphi_j.$$\n",
    "The couplings are chosen in a way such that the idling $ZZ$-crosstalk is almost zero."
   ]
  },
  {
   "cell_type": "code",
   "execution_count": 1,
   "metadata": {},
   "outputs": [],
   "source": [
    "import jax\n",
    "import jax.numpy as jnp\n",
    "import haiku as hk\n",
    "\n",
    "import supergrad\n",
    "from supergrad.common_functions import Evolve\n",
    "from supergrad.utils import compute_fidelity_with_1q_rotation_axis\n",
    "from supergrad.utils.gates import sigmax\n",
    "from supergrad.utils.optimize import scipy_minimize, adam_opt\n",
    "from supergrad.utils.utility import tree_print\n",
    "from supergrad.utils.fidelity import pauli_diagnose_partition\n",
    "\n",
    "from graph_5x5_periodic import XGatePeriodicGraphOpt\n",
    "\n",
    "truncated_dim = 3  # how many levels we keep after diagonalization\n",
    "enable_var = True  # whether to add variance to fluxonium parameters ec,ej,el\n",
    "share_params = True  # whether we treat marked parameters as shared when computing gradients\n",
    "unify_coupling = True  # set all couplings to be equal\n",
    "compensation_option = 'only_vz'  # Use virtual-z compensation in fidelity computation\n",
    "\n",
    "# instance the quantum processor graph, and choose a subset for time evolution\n",
    "gate_graph = XGatePeriodicGraphOpt(1)\n",
    "qubit_subset = gate_graph.subgraph(['q02', 'q03', 'q12', 'q13', 'q22', 'q23'])\n",
    "\n",
    "evo = Evolve(qubit_subset, truncated_dim, enable_var, share_params, unify_coupling, compensation_option)\n",
    "target_unitary = supergrad.tensor(*([sigmax()] * len(qubit_subset.nodes)))\n"
   ]
  },
  {
   "cell_type": "markdown",
   "metadata": {},
   "source": [
    "Let us print the parameters stored in the evo instance. These parameters are parsed from gate_graph. For how we construct this graph, please check `examples/fluxonium_multipath_coupling/graph_5x5_periodic.py` and the instructions inside."
   ]
  },
  {
   "cell_type": "code",
   "execution_count": 2,
   "metadata": {},
   "outputs": [
    {
     "name": "stdout",
     "output_type": "stream",
     "text": [
      "{ 'capacitive_coupling_all_unify': {'strength': 0.07225663},\n",
      "  'inductive_coupling_all_unify': {'strength': -0.01256637},\n",
      "  'q02': {'ec': 6.3532393823, 'ej': 25.1103087675, 'el': 6.344787656},\n",
      "  'q02_pulse_cos': { 'amp': 0.07467672,\n",
      "                     'length': 39.82459069,\n",
      "                     'omega_d': 3.70771137,\n",
      "                     'phase': 0.7558433},\n",
      "  'q03': {'ec': 6.2550610547000005, 'ej': 25.1411401038, 'el': 5.000964059},\n",
      "  'q03_pulse_cos': { 'amp': 0.06839676,\n",
      "                     'length': 39.81302627,\n",
      "                     'omega_d': 2.56897537,\n",
      "                     'phase': 0.85390569},\n",
      "  'q12': {'ec': 6.2233456874, 'ej': 25.1512697752, 'el': 5.6012793457},\n",
      "  'q12_pulse_cos': { 'amp': 0.07142831,\n",
      "                     'length': 39.85070846,\n",
      "                     'omega_d': 3.07586917,\n",
      "                     'phase': 1.58941357},\n",
      "  'q13': {'ec': 6.2867872105, 'ej': 25.1316550509, 'el': 6.9144529962},\n",
      "  'q13_pulse_cos': { 'amp': 0.07763859,\n",
      "                     'length': 39.85217838,\n",
      "                     'omega_d': 4.20299531,\n",
      "                     'phase': 1.43135504},\n",
      "  'q22': { 'ec': 6.282846661600001,\n",
      "           'ej': 25.1329965509,\n",
      "           'el': 7.539286440900001},\n",
      "  'q22_pulse_cos': { 'amp': 0.08054434,\n",
      "                     'length': 39.80346128,\n",
      "                     'omega_d': 5.00262381,\n",
      "                     'phase': 1.39100452},\n",
      "  'q23_pulse_cos': { 'amp': 0.07422721,\n",
      "                     'length': 39.85217838,\n",
      "                     'omega_d': 3.63596315,\n",
      "                     'phase': 0.26554983},\n",
      "  'single_q_compensation': { 'post_comp_q02': -0.41941967,\n",
      "                             'post_comp_q03': -0.11531302,\n",
      "                             'post_comp_q12': 0.74593951,\n",
      "                             'post_comp_q13': 0.58729911,\n",
      "                             'post_comp_q22': 0.49022838,\n",
      "                             'post_comp_q23': -1.02909962,\n",
      "                             'pre_comp_q02': 0.42591073,\n",
      "                             'pre_comp_q03': 0.11757419,\n",
      "                             'pre_comp_q12': -0.74646573,\n",
      "                             'pre_comp_q13': -0.58423741,\n",
      "                             'pre_comp_q22': -0.48806854,\n",
      "                             'pre_comp_q23': 1.03746918}}\n"
     ]
    }
   ],
   "source": [
    "params = evo.static_params\n",
    "tree_print(params)\n"
   ]
  },
  {
   "cell_type": "code",
   "execution_count": 3,
   "metadata": {},
   "outputs": [],
   "source": [
    "def comp_u(params, target_unitary):\n",
    "    params = hk.data_structures.merge(evo.static_params, params)\n",
    "    # evolve system on the eigen basis.\n",
    "    sim_u = evo.eigen_basis(params)\n",
    "    fidelity_vz, compensated_u = compute_fidelity_with_1q_rotation_axis(target_unitary,\n",
    "                                                            sim_u,\n",
    "                                                            n_qubit=6,\n",
    "                                                            opt_method=None)\n",
    "    return compensated_u\n",
    "\n",
    "compensated_u = comp_u(params, target_unitary)\n"
   ]
  },
  {
   "cell_type": "markdown",
   "metadata": {},
   "source": [
    "In the `comp_u` function in the above cell, we begin by computing the result of the time evolution unitary, `sim_u`, for the given parameters in `params`. The computation involves determining the time-evolution unitary matrix in the eigenbasis of the idling Hamiltonian. Subsequently, we calculate a suitable virtual-Z compensation, to ensure that the resulting `compensated_u` closely resembles the matrix of simultaneous X gates.\n",
    "\n",
    "We want to assess the level of correlation in the error. Let us define $U_\\mathrm{error} = U_{\\mathrm{compensated}}^{\\dagger} U_{\\mathrm{target}}$. By expanding $U_\\mathrm{error}$ in the Pauli basis, we obtain $U_\\mathrm{error} = \\sum_{\\vec{j}} a(\\vec{j})P_{\\vec{j}}$. In the following list, we will provide pairs of $(P_{\\vec{j}}, |a(\\vec{j})|^2)$. The values $|a(\\vec{j})|^2$ can be interpreted as the probabilities of stochastic errors after performing Pauli twirling.\n",
    "The colors of the text help visualize the weights of errors."
   ]
  },
  {
   "cell_type": "code",
   "execution_count": 4,
   "metadata": {},
   "outputs": [
    {
     "name": "stderr",
     "output_type": "stream",
     "text": [
      "/Users/allegro/anaconda3/envs/aqgrad/lib/python3.11/site-packages/jax/_src/numpy/lax_numpy.py:3961: UserWarning: 'kind' argument to argsort is ignored; only 'stable' sorts are supported.\n",
      "  warnings.warn(\"'kind' argument to argsort is ignored; only 'stable' sorts \"\n"
     ]
    },
    {
     "data": {
      "text/html": [
       "<pre style=\"white-space:pre;overflow-x:auto;line-height:normal;font-family:Menlo,'DejaVu Sans Mono',consolas,'Courier New',monospace\"><span style=\"color: #000000; text-decoration-color: #000000\">IIIIII   </span><span style=\"color: #000000; text-decoration-color: #000000; font-weight: bold\">9.9944e-01</span>\n",
       "</pre>\n"
      ],
      "text/plain": [
       "\u001b[30mIIIIII   \u001b[0m\u001b[1;30m9.9944e-01\u001b[0m\n"
      ]
     },
     "metadata": {},
     "output_type": "display_data"
    },
    {
     "data": {
      "text/html": [
       "<pre style=\"white-space:pre;overflow-x:auto;line-height:normal;font-family:Menlo,'DejaVu Sans Mono',consolas,'Courier New',monospace\"><span style=\"color: #ff00ff; text-decoration-color: #ff00ff\">IIIZIZ   </span><span style=\"color: #ff00ff; text-decoration-color: #ff00ff; font-weight: bold\">1.2491e-04</span>\n",
       "</pre>\n"
      ],
      "text/plain": [
       "\u001b[95mIIIZIZ   \u001b[0m\u001b[1;95m1.2491e-04\u001b[0m\n"
      ]
     },
     "metadata": {},
     "output_type": "display_data"
    },
    {
     "data": {
      "text/html": [
       "<pre style=\"white-space:pre;overflow-x:auto;line-height:normal;font-family:Menlo,'DejaVu Sans Mono',consolas,'Courier New',monospace\"><span style=\"color: #ff00ff; text-decoration-color: #ff00ff\">IIIXIY   </span><span style=\"color: #ff00ff; text-decoration-color: #ff00ff; font-weight: bold\">7.9677e-05</span>\n",
       "</pre>\n"
      ],
      "text/plain": [
       "\u001b[95mIIIXIY   \u001b[0m\u001b[1;95m7.9677e-05\u001b[0m\n"
      ]
     },
     "metadata": {},
     "output_type": "display_data"
    },
    {
     "data": {
      "text/html": [
       "<pre style=\"white-space:pre;overflow-x:auto;line-height:normal;font-family:Menlo,'DejaVu Sans Mono',consolas,'Courier New',monospace\"><span style=\"color: #ff00ff; text-decoration-color: #ff00ff\">IIIYIY   </span><span style=\"color: #ff00ff; text-decoration-color: #ff00ff; font-weight: bold\">3.5984e-05</span>\n",
       "</pre>\n"
      ],
      "text/plain": [
       "\u001b[95mIIIYIY   \u001b[0m\u001b[1;95m3.5984e-05\u001b[0m\n"
      ]
     },
     "metadata": {},
     "output_type": "display_data"
    },
    {
     "data": {
      "text/html": [
       "<pre style=\"white-space:pre;overflow-x:auto;line-height:normal;font-family:Menlo,'DejaVu Sans Mono',consolas,'Courier New',monospace\"><span style=\"color: #ff00ff; text-decoration-color: #ff00ff\">ZIXIII   </span><span style=\"color: #ff00ff; text-decoration-color: #ff00ff; font-weight: bold\">1.6914e-05</span>\n",
       "</pre>\n"
      ],
      "text/plain": [
       "\u001b[95mZIXIII   \u001b[0m\u001b[1;95m1.6914e-05\u001b[0m\n"
      ]
     },
     "metadata": {},
     "output_type": "display_data"
    },
    {
     "data": {
      "text/html": [
       "<pre style=\"white-space:pre;overflow-x:auto;line-height:normal;font-family:Menlo,'DejaVu Sans Mono',consolas,'Courier New',monospace\"><span style=\"color: #ff00ff; text-decoration-color: #ff00ff\">XIZIII   </span><span style=\"color: #ff00ff; text-decoration-color: #ff00ff; font-weight: bold\">1.6327e-05</span>\n",
       "</pre>\n"
      ],
      "text/plain": [
       "\u001b[95mXIZIII   \u001b[0m\u001b[1;95m1.6327e-05\u001b[0m\n"
      ]
     },
     "metadata": {},
     "output_type": "display_data"
    },
    {
     "data": {
      "text/html": [
       "<pre style=\"white-space:pre;overflow-x:auto;line-height:normal;font-family:Menlo,'DejaVu Sans Mono',consolas,'Courier New',monospace\"><span style=\"color: #ff00ff; text-decoration-color: #ff00ff\">ZIZIII   </span><span style=\"color: #ff00ff; text-decoration-color: #ff00ff; font-weight: bold\">1.4852e-05</span>\n",
       "</pre>\n"
      ],
      "text/plain": [
       "\u001b[95mZIZIII   \u001b[0m\u001b[1;95m1.4852e-05\u001b[0m\n"
      ]
     },
     "metadata": {},
     "output_type": "display_data"
    },
    {
     "data": {
      "text/html": [
       "<pre style=\"white-space:pre;overflow-x:auto;line-height:normal;font-family:Menlo,'DejaVu Sans Mono',consolas,'Courier New',monospace\"><span style=\"color: #ff00ff; text-decoration-color: #ff00ff\">XIXIII   </span><span style=\"color: #ff00ff; text-decoration-color: #ff00ff; font-weight: bold\">1.3981e-05</span>\n",
       "</pre>\n"
      ],
      "text/plain": [
       "\u001b[95mXIXIII   \u001b[0m\u001b[1;95m1.3981e-05\u001b[0m\n"
      ]
     },
     "metadata": {},
     "output_type": "display_data"
    },
    {
     "data": {
      "text/html": [
       "<pre style=\"white-space:pre;overflow-x:auto;line-height:normal;font-family:Menlo,'DejaVu Sans Mono',consolas,'Courier New',monospace\"><span style=\"color: #ff0000; text-decoration-color: #ff0000\">XYZIII   </span><span style=\"color: #ff0000; text-decoration-color: #ff0000; font-weight: bold\">1.3079e-05</span>\n",
       "</pre>\n"
      ],
      "text/plain": [
       "\u001b[91mXYZIII   \u001b[0m\u001b[1;91m1.3079e-05\u001b[0m\n"
      ]
     },
     "metadata": {},
     "output_type": "display_data"
    },
    {
     "data": {
      "text/html": [
       "<pre style=\"white-space:pre;overflow-x:auto;line-height:normal;font-family:Menlo,'DejaVu Sans Mono',consolas,'Courier New',monospace\"><span style=\"color: #ff0000; text-decoration-color: #ff0000\">ZZZIII   </span><span style=\"color: #ff0000; text-decoration-color: #ff0000; font-weight: bold\">1.2957e-05</span>\n",
       "</pre>\n"
      ],
      "text/plain": [
       "\u001b[91mZZZIII   \u001b[0m\u001b[1;91m1.2957e-05\u001b[0m\n"
      ]
     },
     "metadata": {},
     "output_type": "display_data"
    },
    {
     "data": {
      "text/html": [
       "<pre style=\"white-space:pre;overflow-x:auto;line-height:normal;font-family:Menlo,'DejaVu Sans Mono',consolas,'Courier New',monospace\"><span style=\"color: #ff0000; text-decoration-color: #ff0000\">XZXIII   </span><span style=\"color: #ff0000; text-decoration-color: #ff0000; font-weight: bold\">1.2299e-05</span>\n",
       "</pre>\n"
      ],
      "text/plain": [
       "\u001b[91mXZXIII   \u001b[0m\u001b[1;91m1.2299e-05\u001b[0m\n"
      ]
     },
     "metadata": {},
     "output_type": "display_data"
    },
    {
     "data": {
      "text/html": [
       "<pre style=\"white-space:pre;overflow-x:auto;line-height:normal;font-family:Menlo,'DejaVu Sans Mono',consolas,'Courier New',monospace\"><span style=\"color: #ff0000; text-decoration-color: #ff0000\">ZYXIII   </span><span style=\"color: #ff0000; text-decoration-color: #ff0000; font-weight: bold\">1.1375e-05</span>\n",
       "</pre>\n"
      ],
      "text/plain": [
       "\u001b[91mZYXIII   \u001b[0m\u001b[1;91m1.1375e-05\u001b[0m\n"
      ]
     },
     "metadata": {},
     "output_type": "display_data"
    },
    {
     "data": {
      "text/html": [
       "<pre style=\"white-space:pre;overflow-x:auto;line-height:normal;font-family:Menlo,'DejaVu Sans Mono',consolas,'Courier New',monospace\"><span style=\"color: #ff0000; text-decoration-color: #ff0000\">ZIZZII   </span><span style=\"color: #ff0000; text-decoration-color: #ff0000; font-weight: bold\">6.4212e-06</span>\n",
       "</pre>\n"
      ],
      "text/plain": [
       "\u001b[91mZIZZII   \u001b[0m\u001b[1;91m6.4212e-06\u001b[0m\n"
      ]
     },
     "metadata": {},
     "output_type": "display_data"
    },
    {
     "data": {
      "text/html": [
       "<pre style=\"white-space:pre;overflow-x:auto;line-height:normal;font-family:Menlo,'DejaVu Sans Mono',consolas,'Courier New',monospace\"><span style=\"color: #ff0000; text-decoration-color: #ff0000\">XIXZII   </span><span style=\"color: #ff0000; text-decoration-color: #ff0000; font-weight: bold\">6.1497e-06</span>\n",
       "</pre>\n"
      ],
      "text/plain": [
       "\u001b[91mXIXZII   \u001b[0m\u001b[1;91m6.1497e-06\u001b[0m\n"
      ]
     },
     "metadata": {},
     "output_type": "display_data"
    },
    {
     "data": {
      "text/html": [
       "<pre style=\"white-space:pre;overflow-x:auto;line-height:normal;font-family:Menlo,'DejaVu Sans Mono',consolas,'Courier New',monospace\"><span style=\"color: #ff0000; text-decoration-color: #ff0000\">ZIXYII   </span><span style=\"color: #ff0000; text-decoration-color: #ff0000; font-weight: bold\">4.9756e-06</span>\n",
       "</pre>\n"
      ],
      "text/plain": [
       "\u001b[91mZIXYII   \u001b[0m\u001b[1;91m4.9756e-06\u001b[0m\n"
      ]
     },
     "metadata": {},
     "output_type": "display_data"
    },
    {
     "data": {
      "text/html": [
       "<pre style=\"white-space:pre;overflow-x:auto;line-height:normal;font-family:Menlo,'DejaVu Sans Mono',consolas,'Courier New',monospace\">YIXXIZ   <span style=\"color: #008080; text-decoration-color: #008080; font-weight: bold\">4.8337e-06</span>\n",
       "</pre>\n"
      ],
      "text/plain": [
       "YIXXIZ   \u001b[1;36m4.8337e-06\u001b[0m\n"
      ]
     },
     "metadata": {},
     "output_type": "display_data"
    },
    {
     "data": {
      "text/html": [
       "<pre style=\"white-space:pre;overflow-x:auto;line-height:normal;font-family:Menlo,'DejaVu Sans Mono',consolas,'Courier New',monospace\"><span style=\"color: #ff0000; text-decoration-color: #ff0000\">XZYIII   </span><span style=\"color: #ff0000; text-decoration-color: #ff0000; font-weight: bold\">4.6177e-06</span>\n",
       "</pre>\n"
      ],
      "text/plain": [
       "\u001b[91mXZYIII   \u001b[0m\u001b[1;91m4.6177e-06\u001b[0m\n"
      ]
     },
     "metadata": {},
     "output_type": "display_data"
    },
    {
     "data": {
      "text/html": [
       "<pre style=\"white-space:pre;overflow-x:auto;line-height:normal;font-family:Menlo,'DejaVu Sans Mono',consolas,'Courier New',monospace\"><span style=\"color: #ff0000; text-decoration-color: #ff0000\">IZZZII   </span><span style=\"color: #ff0000; text-decoration-color: #ff0000; font-weight: bold\">4.6046e-06</span>\n",
       "</pre>\n"
      ],
      "text/plain": [
       "\u001b[91mIZZZII   \u001b[0m\u001b[1;91m4.6046e-06\u001b[0m\n"
      ]
     },
     "metadata": {},
     "output_type": "display_data"
    },
    {
     "data": {
      "text/html": [
       "<pre style=\"white-space:pre;overflow-x:auto;line-height:normal;font-family:Menlo,'DejaVu Sans Mono',consolas,'Courier New',monospace\"><span style=\"color: #ff0000; text-decoration-color: #ff0000\">XIZYII   </span><span style=\"color: #ff0000; text-decoration-color: #ff0000; font-weight: bold\">4.2224e-06</span>\n",
       "</pre>\n"
      ],
      "text/plain": [
       "\u001b[91mXIZYII   \u001b[0m\u001b[1;91m4.2224e-06\u001b[0m\n"
      ]
     },
     "metadata": {},
     "output_type": "display_data"
    },
    {
     "data": {
      "text/html": [
       "<pre style=\"white-space:pre;overflow-x:auto;line-height:normal;font-family:Menlo,'DejaVu Sans Mono',consolas,'Courier New',monospace\"><span style=\"color: #ff0000; text-decoration-color: #ff0000\">IYXZII   </span><span style=\"color: #ff0000; text-decoration-color: #ff0000; font-weight: bold\">4.2033e-06</span>\n",
       "</pre>\n"
      ],
      "text/plain": [
       "\u001b[91mIYXZII   \u001b[0m\u001b[1;91m4.2033e-06\u001b[0m\n"
      ]
     },
     "metadata": {},
     "output_type": "display_data"
    }
   ],
   "source": [
    "partition = [[0],[1],[2],[3],[4],[5]]\n",
    "res = pauli_diagnose_partition(target_unitary, compensated_u, 20, partition, 'black')\n"
   ]
  },
  {
   "cell_type": "markdown",
   "metadata": {},
   "source": [
    "For optimization, let us use an object function based on the average gate fidelity with leakage. The formula is from Physical Review A 87, 022309 (2013).\n",
    "$$\n",
    "\tC = 1 - \\frac{1}{D(D + 1)}[Tr(PU^{\\dagger}_{\\text{sim}}P U_{\\text{sim}}P)+|Tr(PU^{\\dagger}_{\\text{sim}} P U_{\\text{target}})|^2],   \n",
    "$$\n",
    "where $P$ is the projector into the computational subspace $S$, and $D=2^n$ is the dimension of $S$."
   ]
  },
  {
   "cell_type": "code",
   "execution_count": 5,
   "metadata": {},
   "outputs": [],
   "source": [
    "def infidelity(params, target_unitary):\n",
    "    params = hk.data_structures.merge(evo.static_params, params)\n",
    "    # evolve system on the eigen basis.\n",
    "    sim_u = evo.eigen_basis(params)\n",
    "    # calculate fidelity\n",
    "    fidelity_vz, _ = compute_fidelity_with_1q_rotation_axis(target_unitary,\n",
    "                                                            sim_u,\n",
    "                                                            n_qubit=6,\n",
    "                                                            opt_method=None)\n",
    "\n",
    "    return jnp.log10(1 - fidelity_vz)\n"
   ]
  },
  {
   "cell_type": "code",
   "execution_count": 6,
   "metadata": {},
   "outputs": [
    {
     "name": "stdout",
     "output_type": "stream",
     "text": [
      "The infidelity of simultaneous X gates is  0.0005508053127156747\n"
     ]
    }
   ],
   "source": [
    "vg = jax.value_and_grad(infidelity)(params, target_unitary)\n",
    "print('The infidelity of simultaneous X gates is ', 10**vg[0])\n"
   ]
  },
  {
   "cell_type": "code",
   "execution_count": 7,
   "metadata": {},
   "outputs": [
    {
     "name": "stdout",
     "output_type": "stream",
     "text": [
      "The gradient of log10(infidelity):\n",
      "{ 'capacitive_coupling_all_unify': {'strength': -0.5255497483475332},\n",
      "  'inductive_coupling_all_unify': {'strength': -95.36296546956342},\n",
      "  'q02': { 'ec': 3.6309946546099092,\n",
      "           'ej': -1.1562086883439997,\n",
      "           'el': 3.133500461648633},\n",
      "  'q02_pulse_cos': { 'amp': 0.09361627445878007,\n",
      "                     'length': -0.011383359468756949,\n",
      "                     'omega_d': 0.7530556295303346,\n",
      "                     'phase': 0.05968693459433875},\n",
      "  'q03': { 'ec': 0.9170256839762007,\n",
      "           'ej': -0.2718166478140082,\n",
      "           'el': 0.8245691468422212},\n",
      "  'q03_pulse_cos': { 'amp': -0.2644388750326516,\n",
      "                     'length': -0.0036655382164094263,\n",
      "                     'omega_d': 0.5169136798185805,\n",
      "                     'phase': 0.029953266000173326},\n",
      "  'q12': { 'ec': 0.6572720894845396,\n",
      "           'ej': -0.19482064593644594,\n",
      "           'el': 0.5607785987860074},\n",
      "  'q12_pulse_cos': { 'amp': -0.9476511098817051,\n",
      "                     'length': -0.013816211000302961,\n",
      "                     'omega_d': 0.6325381472321018,\n",
      "                     'phase': 0.033570863302440766},\n",
      "  'q13': { 'ec': -5.44478748984598,\n",
      "           'ej': 1.7969684271122854,\n",
      "           'el': -4.752301484453593},\n",
      "  'q13_pulse_cos': { 'amp': -0.4908343986463215,\n",
      "                     'length': 0.20222387197448144,\n",
      "                     'omega_d': 0.8817952279804574,\n",
      "                     'phase': 0.046214892991569924},\n",
      "  'q22': { 'ec': 0.021383391835683465,\n",
      "           'ej': -0.008410670367387898,\n",
      "           'el': 0.022285394427549482},\n",
      "  'q22_pulse_cos': { 'amp': -1.3102000002461989,\n",
      "                     'length': -0.002740399947467126,\n",
      "                     'omega_d': 1.0513900055818468,\n",
      "                     'phase': 0.05467732099405192},\n",
      "  'q23_pulse_cos': { 'amp': -0.3770177625769499,\n",
      "                     'length': 0.2054227768628969,\n",
      "                     'omega_d': 0.44238741977537205,\n",
      "                     'phase': 0.004664256010995801},\n",
      "  'single_q_compensation': { 'post_comp_q02': 0.0029145604347604603,\n",
      "                             'post_comp_q03': 0.025256846353130413,\n",
      "                             'post_comp_q12': 0.033930820018554186,\n",
      "                             'post_comp_q13': 0.029890328634905927,\n",
      "                             'post_comp_q22': 0.053766046337045736,\n",
      "                             'post_comp_q23': 0.0891237424167457,\n",
      "                             'pre_comp_q02': -0.0029145604347604603,\n",
      "                             'pre_comp_q03': -0.02525684635310199,\n",
      "                             'pre_comp_q12': -0.033930820018554186,\n",
      "                             'pre_comp_q13': -0.0298903286351333,\n",
      "                             'pre_comp_q22': -0.05376604633715942,\n",
      "                             'pre_comp_q23': -0.0891237424167457}}\n"
     ]
    }
   ],
   "source": [
    "print('The gradient of log10(infidelity):')\n",
    "tree_print(vg[1])\n"
   ]
  },
  {
   "cell_type": "markdown",
   "metadata": {},
   "source": [
    "Show the optimization procedure of control parameters"
   ]
  },
  {
   "cell_type": "code",
   "execution_count": 8,
   "metadata": {},
   "outputs": [
    {
     "name": "stdout",
     "output_type": "stream",
     "text": [
      "{'adam_lr': 1e-06, 'adam_lr_decay_rate': 1000, 'steps': 3, 'adam_b1': 0.9, 'adam_b2': 0.999}\n",
      "step: 0\n",
      "parameters:\n",
      "{ 'capacitive_coupling_all_unify': {'strength': 0.07225663},\n",
      "  'inductive_coupling_all_unify': {'strength': -0.01256637},\n",
      "  'q02': {'ec': 6.3532393823, 'ej': 25.1103087675, 'el': 6.344787656},\n",
      "  'q02_pulse_cos': { 'amp': 0.07467672,\n",
      "                     'length': 39.82459069,\n",
      "                     'omega_d': 3.70771137,\n",
      "                     'phase': 0.7558433},\n",
      "  'q03': {'ec': 6.2550610547000005, 'ej': 25.1411401038, 'el': 5.000964059},\n",
      "  'q03_pulse_cos': { 'amp': 0.06839676,\n",
      "                     'length': 39.81302627,\n",
      "                     'omega_d': 2.56897537,\n",
      "                     'phase': 0.85390569},\n",
      "  'q12': {'ec': 6.2233456874, 'ej': 25.1512697752, 'el': 5.6012793457},\n",
      "  'q12_pulse_cos': { 'amp': 0.07142831,\n",
      "                     'length': 39.85070846,\n",
      "                     'omega_d': 3.07586917,\n",
      "                     'phase': 1.58941357},\n",
      "  'q13': {'ec': 6.2867872105, 'ej': 25.1316550509, 'el': 6.9144529962},\n",
      "  'q13_pulse_cos': { 'amp': 0.07763859,\n",
      "                     'length': 39.85217838,\n",
      "                     'omega_d': 4.20299531,\n",
      "                     'phase': 1.43135504},\n",
      "  'q22': { 'ec': 6.282846661600001,\n",
      "           'ej': 25.1329965509,\n",
      "           'el': 7.539286440900001},\n",
      "  'q22_pulse_cos': { 'amp': 0.08054434,\n",
      "                     'length': 39.80346128,\n",
      "                     'omega_d': 5.00262381,\n",
      "                     'phase': 1.39100452},\n",
      "  'q23_pulse_cos': { 'amp': 0.07422721,\n",
      "                     'length': 39.85217838,\n",
      "                     'omega_d': 3.63596315,\n",
      "                     'phase': 0.26554983},\n",
      "  'single_q_compensation': { 'post_comp_q02': -0.41941967,\n",
      "                             'post_comp_q03': -0.11531302,\n",
      "                             'post_comp_q12': 0.74593951,\n",
      "                             'post_comp_q13': 0.58729911,\n",
      "                             'post_comp_q22': 0.49022838,\n",
      "                             'post_comp_q23': -1.02909962,\n",
      "                             'pre_comp_q02': 0.42591073,\n",
      "                             'pre_comp_q03': 0.11757419,\n",
      "                             'pre_comp_q12': -0.74646573,\n",
      "                             'pre_comp_q13': -0.58423741,\n",
      "                             'pre_comp_q22': -0.48806854,\n",
      "                             'pre_comp_q23': 1.03746918}}\n",
      "gradient:\n",
      "{ 'capacitive_coupling_all_unify': {'strength': -0.5255497596583444},\n",
      "  'inductive_coupling_all_unify': {'strength': -12.566370000000001},\n",
      "  'q02': { 'ec': 3.630994276690259,\n",
      "           'ej': -1.1562085660989019,\n",
      "           'el': 3.1335001283392327},\n",
      "  'q02_pulse_cos': { 'amp': 0.0936162648613342,\n",
      "                     'length': -0.011383359488329853,\n",
      "                     'omega_d': 0.7530558444267272,\n",
      "                     'phase': 0.05968693456048763},\n",
      "  'q03': { 'ec': 0.9170255523384642,\n",
      "           'ej': -0.27181660845935973,\n",
      "           'el': 0.8245690270622938},\n",
      "  'q03_pulse_cos': { 'amp': -0.26443888477270305,\n",
      "                     'length': -0.0036655382228720328,\n",
      "                     'omega_d': 0.5169138482720296,\n",
      "                     'phase': 0.029953265931255562},\n",
      "  'q12': { 'ec': 0.6572714609818868,\n",
      "           'ej': -0.19482045329089817,\n",
      "           'el': 0.5607780373395781},\n",
      "  'q12_pulse_cos': { 'amp': -0.9476511266816389,\n",
      "                     'length': -0.013816210994467082,\n",
      "                     'omega_d': 0.6325388710063037,\n",
      "                     'phase': 0.033570863175496936},\n",
      "  'q13': { 'ec': -5.44478723388736,\n",
      "           'ej': 1.7969683434175225,\n",
      "           'el': -4.7523012634920025},\n",
      "  'q13_pulse_cos': { 'amp': -0.4908343778048202,\n",
      "                     'length': 0.20222387233420583,\n",
      "                     'omega_d': 0.8817949705226787,\n",
      "                     'phase': 0.0462148930042462},\n",
      "  'q22': { 'ec': 0.021384009836403456,\n",
      "           'ej': -0.008410873654020616,\n",
      "           'el': 0.022285915607042586},\n",
      "  'q22_pulse_cos': { 'amp': -1.310199986599221,\n",
      "                     'length': -0.0027403999372631466,\n",
      "                     'omega_d': 1.0513894705631552,\n",
      "                     'phase': 0.05467732138039968},\n",
      "  'q23_pulse_cos': { 'amp': -0.37701775615380645,\n",
      "                     'length': 0.20542277721748056,\n",
      "                     'omega_d': 0.4423876017007884,\n",
      "                     'phase': 0.004664255999419693},\n",
      "  'single_q_compensation': { 'post_comp_q02': 0.0029145603574100725,\n",
      "                             'post_comp_q03': 0.02525684628203219,\n",
      "                             'post_comp_q12': 0.03393081988740872,\n",
      "                             'post_comp_q13': 0.02989032863760248,\n",
      "                             'post_comp_q22': 0.053766046723637245,\n",
      "                             'post_comp_q23': 0.08912374246390387,\n",
      "                             'pre_comp_q02': -0.002914560357619538,\n",
      "                             'pre_comp_q03': -0.02525684628183756,\n",
      "                             'pre_comp_q12': -0.03393081988711297,\n",
      "                             'pre_comp_q13': -0.029890328637469096,\n",
      "                             'pre_comp_q22': -0.05376604672339394,\n",
      "                             'pre_comp_q23': -0.08912374246406055}}\n",
      "loss: -3.259001879809223\n",
      "step: 1\n",
      "parameters:\n",
      "{ 'capacitive_coupling_all_unify': {'strength': 0.07225762999998098},\n",
      "  'inductive_coupling_all_unify': {'strength': -0.012565370000000796},\n",
      "  'q02': { 'ec': 6.3532383823000025,\n",
      "           'ej': 25.11030976749999,\n",
      "           'el': 6.344786656000004},\n",
      "  'q02_pulse_cos': { 'amp': 0.07467572000010682,\n",
      "                     'length': 39.824591689999124,\n",
      "                     'omega_d': 3.7077103700000134,\n",
      "                     'phase': 0.7558423000001675},\n",
      "  'q03': { 'ec': 6.255060054700011,\n",
      "           'ej': 25.141141103799963,\n",
      "           'el': 5.0009630590000125},\n",
      "  'q03_pulse_cos': { 'amp': 0.06839775999996218,\n",
      "                     'length': 39.81302726999727,\n",
      "                     'omega_d': 2.5689743700000194,\n",
      "                     'phase': 0.8539046900003339},\n",
      "  'q12': { 'ec': 6.223344687400015,\n",
      "           'ej': 25.151270775199947,\n",
      "           'el': 5.601278345700018},\n",
      "  'q12_pulse_cos': { 'amp': 0.07142930999998945,\n",
      "                     'length': 39.85070945999927,\n",
      "                     'omega_d': 3.0758681700000157,\n",
      "                     'phase': 1.589412570000298},\n",
      "  'q13': { 'ec': 6.286788210499998,\n",
      "           'ej': 25.131654050900007,\n",
      "           'el': 6.914453996199997},\n",
      "  'q13_pulse_cos': { 'amp': 0.07763958999997962,\n",
      "                     'length': 39.85217738000005,\n",
      "                     'omega_d': 4.202994310000012,\n",
      "                     'phase': 1.4313540400002163},\n",
      "  'q22': { 'ec': 6.282845661600469,\n",
      "           'ej': 25.13299755089881,\n",
      "           'el': 7.539285440900449},\n",
      "  'q22_pulse_cos': { 'amp': 0.08054533999999237,\n",
      "                     'length': 39.80346227999635,\n",
      "                     'omega_d': 5.00262281000001,\n",
      "                     'phase': 1.391003520000183},\n",
      "  'q23_pulse_cos': { 'amp': 0.07422820999997348,\n",
      "                     'length': 39.85217738000004,\n",
      "                     'omega_d': 3.6359621500000223,\n",
      "                     'phase': 0.26554883000214397},\n",
      "  'single_q_compensation': { 'post_comp_q02': -0.41942066999656896,\n",
      "                             'post_comp_q03': -0.11531401999960407,\n",
      "                             'post_comp_q12': 0.7459385100002948,\n",
      "                             'post_comp_q13': 0.5872981100003346,\n",
      "                             'post_comp_q22': 0.490227380000186,\n",
      "                             'post_comp_q23': -1.0291006199998878,\n",
      "                             'pre_comp_q02': 0.42591172999656896,\n",
      "                             'pre_comp_q03': 0.11757518999960406,\n",
      "                             'pre_comp_q12': -0.7464647300002948,\n",
      "                             'pre_comp_q13': -0.5842364100003345,\n",
      "                             'pre_comp_q22': -0.488067540000186,\n",
      "                             'pre_comp_q23': 1.0374701799998878}}\n",
      "gradient:\n",
      "{ 'capacitive_coupling_all_unify': {'strength': -0.5234407241870196},\n",
      "  'inductive_coupling_all_unify': {'strength': -12.565370000000796},\n",
      "  'q02': { 'ec': 3.393009957964102,\n",
      "           'ej': -1.0792242997062726,\n",
      "           'el': 2.9232624044821542},\n",
      "  'q02_pulse_cos': { 'amp': -0.53409613169306,\n",
      "                     'length': -0.012563044090279474,\n",
      "                     'omega_d': 0.2355350868365021,\n",
      "                     'phase': 0.02115832838958447},\n",
      "  'q03': { 'ec': 0.9187913447547918,\n",
      "           'ej': -0.2716900943762198,\n",
      "           'el': 0.823301372501881},\n",
      "  'q03_pulse_cos': { 'amp': 0.5744207613470304,\n",
      "                     'length': -0.0022555096510493843,\n",
      "                     'omega_d': -0.2366275474374104,\n",
      "                     'phase': -0.007657944561609204},\n",
      "  'q12': { 'ec': 0.6944062452354005,\n",
      "           'ej': -0.20549369280167382,\n",
      "           'el': 0.5911467244846785},\n",
      "  'q12_pulse_cos': { 'amp': -0.144472528710723,\n",
      "                     'length': -0.012405579738591634,\n",
      "                     'omega_d': -0.1712303132737953,\n",
      "                     'phase': -0.004441967088543821},\n",
      "  'q13': { 'ec': -5.3058446942980675,\n",
      "           'ej': 1.7522960881667833,\n",
      "           'el': -4.634886007713347},\n",
      "  'q13_pulse_cos': { 'amp': 0.2097932965553099,\n",
      "                     'length': 0.007792479756666498,\n",
      "                     'omega_d': -0.025360958385089647,\n",
      "                     'phase': 0.007436801924803222},\n",
      "  'q22': { 'ec': -0.2033834059606097,\n",
      "           'ej': 0.0663763797814993,\n",
      "           'el': -0.1698650328974339},\n",
      "  'q22_pulse_cos': { 'amp': -0.7067629554913096,\n",
      "                     'length': -0.0015256375088032988,\n",
      "                     'omega_d': 0.45962282350340056,\n",
      "                     'phase': 0.01511354436701299},\n",
      "  'q23_pulse_cos': { 'amp': 0.3640980735262544,\n",
      "                     'length': -0.026075236985308368,\n",
      "                     'omega_d': -0.32488252725960026,\n",
      "                     'phase': -0.03377797923876234},\n",
      "  'single_q_compensation': { 'post_comp_q02': -0.035605178032486744,\n",
      "                             'post_comp_q03': -0.012352742585779538,\n",
      "                             'post_comp_q12': -0.0040843561237337775,\n",
      "                             'post_comp_q13': -0.008888045095317956,\n",
      "                             'post_comp_q22': 0.014202127166406987,\n",
      "                             'post_comp_q23': 0.05067524378762534,\n",
      "                             'pre_comp_q02': 0.03560517803251965,\n",
      "                             'pre_comp_q03': 0.012352742585676658,\n",
      "                             'pre_comp_q12': 0.004084356123530403,\n",
      "                             'pre_comp_q13': 0.008888045095494738,\n",
      "                             'pre_comp_q22': -0.014202127166442357,\n",
      "                             'pre_comp_q23': -0.050675243787427784}}\n",
      "loss: -3.2591243180140883\n",
      "step: 2\n",
      "parameters:\n",
      "{ 'capacitive_coupling_all_unify': {'strength': 0.0722586292002959},\n",
      "  'inductive_coupling_all_unify': {'strength': -0.012564370694982277},\n",
      "  'q02': { 'ec': 6.3532373853301065,\n",
      "           'ej': 25.110310764421964,\n",
      "           'el': 6.344785659101641},\n",
      "  'q02_pulse_cos': { 'amp': 0.07467633691793579,\n",
      "                     'length': 39.824592690658264,\n",
      "                     'omega_d': 3.707709508883174,\n",
      "                     'phase': 0.7558414203554239},\n",
      "  'q03': { 'ec': 6.255059055343283,\n",
      "           'ej': 25.141142103094865,\n",
      "           'el': 5.000962059733302},\n",
      "  'q03_pulse_cos': { 'amp': 0.06839736435078704,\n",
      "                     'length': 39.813028230040864,\n",
      "                     'omega_d': 2.568974070864991,\n",
      "                     'phase': 0.8539042255710814},\n",
      "  'q12': { 'ec': 6.22334368703918,\n",
      "           'ej': 25.151271775540458,\n",
      "           'el': 5.601277345367113},\n",
      "  'q12_pulse_cos': { 'amp': 0.07143008406551739,\n",
      "                     'length': 39.8507104550641,\n",
      "                     'omega_d': 3.0758677180888094,\n",
      "                     'phase': 1.5894120037887964},\n",
      "  'q13': { 'ec': 6.286789209050407,\n",
      "           'ej': 25.131653052327703,\n",
      "           'el': 6.914454994777363},\n",
      "  'q13_pulse_cos': { 'amp': 0.07763991327623435,\n",
      "                     'length': 39.852176682255504,\n",
      "                     'omega_d': 4.2029936620719415,\n",
      "                     'phase': 1.4313532607197257},\n",
      "  'q22': { 'ec': 6.282846331167729,\n",
      "           'ej': 25.132996897303986,\n",
      "           'el': 7.539286091149398},\n",
      "  'q22_pulse_cos': { 'amp': 0.08054628243235432,\n",
      "                     'length': 39.80346322681451,\n",
      "                     'omega_d': 5.002621898532098,\n",
      "                     'phase': 1.3910026764212549},\n",
      "  'q23_pulse_cos': { 'amp': 0.07422817483056607,\n",
      "                     'length': 39.85217680942737,\n",
      "                     'omega_d': 3.6359620507044785,\n",
      "                     'phase': 0.2655494750929162},\n",
      "  'single_q_compensation': { 'post_comp_q02': -0.41941998345371373,\n",
      "                             'post_comp_q03': -0.1153142946040209,\n",
      "                             'post_comp_q12': 0.7459379341245739,\n",
      "                             'post_comp_q13': 0.5872976802519142,\n",
      "                             'post_comp_q22': 0.4902265426318216,\n",
      "                             'post_comp_q23': -1.029101569704662,\n",
      "                             'pre_comp_q02': 0.4259110434537137,\n",
      "                             'pre_comp_q03': 0.1175754646040209,\n",
      "                             'pre_comp_q12': -0.7464641541245739,\n",
      "                             'pre_comp_q13': -0.5842359802519141,\n",
      "                             'pre_comp_q22': -0.48806670263182156,\n",
      "                             'pre_comp_q23': 1.037471129704662}}\n",
      "gradient:\n",
      "{ 'capacitive_coupling_all_unify': {'strength': -0.523890336760602},\n",
      "  'inductive_coupling_all_unify': {'strength': -12.564370694982278},\n",
      "  'q02': { 'ec': 3.069528202830358,\n",
      "           'ej': -0.9741831230214617,\n",
      "           'el': 2.636273765362609},\n",
      "  'q02_pulse_cos': { 'amp': -0.05264387839329364,\n",
      "                     'length': -0.011658165305783202,\n",
      "                     'omega_d': -0.05616284850890056,\n",
      "                     'phase': -0.006436024459724911},\n",
      "  'q03': { 'ec': 0.8662523541984567,\n",
      "           'ej': -0.25624136068979797,\n",
      "           'el': 0.7766080595194323},\n",
      "  'q03_pulse_cos': { 'amp': 0.26781048412577924,\n",
      "                     'length': -0.0027868788188056865,\n",
      "                     'omega_d': -0.4092344372359453,\n",
      "                     'phase': -0.01968598956848145},\n",
      "  'q12': { 'ec': 0.6857444410318283,\n",
      "           'ej': -0.2022866714204092,\n",
      "           'el': 0.5812232741565557},\n",
      "  'q12_pulse_cos': { 'amp': 0.48607634830561297,\n",
      "                     'length': -0.011286812137061824,\n",
      "                     'omega_d': -0.5251478128046598,\n",
      "                     'phase': -0.022501872294066878},\n",
      "  'q13': { 'ec': -5.204983815409192,\n",
      "           'ej': 1.7196110574138528,\n",
      "           'el': -4.548806684506728},\n",
      "  'q13_pulse_cos': { 'amp': 0.4829346858030218,\n",
      "                     'length': -0.028767737155619155,\n",
      "                     'omega_d': -0.6110041948639852,\n",
      "                     'phase': -0.016953846520259767},\n",
      "  'q22': { 'ec': -0.0021529910726299987,\n",
      "           'ej': 0.0009523600491084044,\n",
      "           'el': -0.0025420831061724737},\n",
      "  'q22_pulse_cos': { 'amp': -0.13704860272407915,\n",
      "                     'length': -0.0003894408621052367,\n",
      "                     'omega_d': -0.3992773437310555,\n",
      "                     'phase': -0.019100942861048163},\n",
      "  'q23_pulse_cos': { 'amp': 0.3860794717992828,\n",
      "                     'length': -0.23237183065346229,\n",
      "                     'omega_d': -0.3738218164228583,\n",
      "                     'phase': -0.040452001442638},\n",
      "  'single_q_compensation': { 'post_comp_q02': -0.06318855606921273,\n",
      "                             'post_comp_q03': -0.024379148533683597,\n",
      "                             'post_comp_q12': -0.022147234122797513,\n",
      "                             'post_comp_q13': -0.03327862324595031,\n",
      "                             'post_comp_q22': -0.020012565503531945,\n",
      "                             'post_comp_q23': 0.04399209137274065,\n",
      "                             'pre_comp_q02': 0.06318855606926177,\n",
      "                             'pre_comp_q03': 0.02437914853376108,\n",
      "                             'pre_comp_q12': 0.022147234122606628,\n",
      "                             'pre_comp_q13': 0.03327862324597717,\n",
      "                             'pre_comp_q22': 0.02001256550369314,\n",
      "                             'pre_comp_q23': -0.043992091372556434}}\n",
      "loss: -3.259241990138642\n"
     ]
    },
    {
     "data": {
      "text/plain": [
       "{'capacitive_coupling_all_unify': {'strength': Array(0.07225963, dtype=float64)},\n",
       " 'inductive_coupling_all_unify': {'strength': Array(-0.01256337, dtype=float64)},\n",
       " 'q02': {'ec': Array(6.35323639, dtype=float64),\n",
       "  'ej': Array(25.11031175, dtype=float64),\n",
       "  'el': Array(6.34478467, dtype=float64)},\n",
       " 'q02_pulse_cos': {'amp': Array(0.07467687, dtype=float64),\n",
       "  'length': Array(39.82459369, dtype=float64),\n",
       "  'omega_d': Array(3.70770889, dtype=float64),\n",
       "  'phase': Array(0.75584081, dtype=float64)},\n",
       " 'q03': {'ec': Array(6.25505806, dtype=float64),\n",
       "  'ej': Array(25.1411431, dtype=float64),\n",
       "  'el': Array(5.00096106, dtype=float64)},\n",
       " 'q03_pulse_cos': {'amp': Array(0.06839683, dtype=float64),\n",
       "  'length': Array(39.8130292, dtype=float64),\n",
       "  'omega_d': Array(2.56897426, dtype=float64),\n",
       "  'phase': Array(0.85390427, dtype=float64)},\n",
       " 'q12': {'ec': Array(6.22334269, dtype=float64),\n",
       "  'ej': Array(25.15127278, dtype=float64),\n",
       "  'el': Array(5.60127635, dtype=float64)},\n",
       " 'q12_pulse_cos': {'amp': Array(0.07143033, dtype=float64),\n",
       "  'length': Array(39.85071144, dtype=float64),\n",
       "  'omega_d': Array(3.07586784, dtype=float64),\n",
       "  'phase': Array(1.58941199, dtype=float64)},\n",
       " 'q13': {'ec': Array(6.28679021, dtype=float64),\n",
       "  'ej': Array(25.13165206, dtype=float64),\n",
       "  'el': Array(6.91445599, dtype=float64)},\n",
       " 'q13_pulse_cos': {'amp': Array(0.07763967, dtype=float64),\n",
       "  'length': Array(39.85217624, dtype=float64),\n",
       "  'omega_d': Array(4.20299361, dtype=float64),\n",
       "  'phase': Array(1.43135291, dtype=float64)},\n",
       " 'q22': {'ec': Array(6.28284686, dtype=float64),\n",
       "  'ej': Array(25.13299638, dtype=float64),\n",
       "  'el': Array(7.5392866, dtype=float64)},\n",
       " 'q22_pulse_cos': {'amp': Array(0.08054707, dtype=float64),\n",
       "  'length': Array(39.80346403, dtype=float64),\n",
       "  'omega_d': Array(5.00262144, dtype=float64),\n",
       "  'phase': Array(1.39100226, dtype=float64)},\n",
       " 'q23_pulse_cos': {'amp': Array(0.07422777, dtype=float64),\n",
       "  'length': Array(39.85217699, dtype=float64),\n",
       "  'omega_d': Array(3.63596235, dtype=float64),\n",
       "  'phase': Array(0.26555028, dtype=float64)},\n",
       " 'single_q_compensation': {'post_comp_q02': Array(-0.41941917, dtype=float64),\n",
       "  'post_comp_q03': Array(-0.11531404, dtype=float64),\n",
       "  'post_comp_q12': Array(0.74593791, dtype=float64),\n",
       "  'post_comp_q13': Array(0.58729792, dtype=float64),\n",
       "  'post_comp_q22': Array(0.49022615, dtype=float64),\n",
       "  'post_comp_q23': Array(-1.0291025, dtype=float64),\n",
       "  'pre_comp_q02': Array(0.42591023, dtype=float64),\n",
       "  'pre_comp_q03': Array(0.11757521, dtype=float64),\n",
       "  'pre_comp_q12': Array(-0.74646413, dtype=float64),\n",
       "  'pre_comp_q13': Array(-0.58423622, dtype=float64),\n",
       "  'pre_comp_q22': Array(-0.48806631, dtype=float64),\n",
       "  'pre_comp_q23': Array(1.03747206, dtype=float64)}}"
      ]
     },
     "execution_count": 8,
     "metadata": {},
     "output_type": "execute_result"
    }
   ],
   "source": [
    "adam_opt(infidelity,\n",
    "         params,\n",
    "         args=(target_unitary,),\n",
    "         options={\n",
    "             'adam_lr': 1e-6,\n",
    "             'steps': 3\n",
    "         })\n"
   ]
  },
  {
   "cell_type": "code",
   "execution_count": null,
   "metadata": {},
   "outputs": [],
   "source": []
  }
 ],
 "metadata": {
  "kernelspec": {
   "display_name": "base",
   "language": "python",
   "name": "python3"
  },
  "language_info": {
   "codemirror_mode": {
    "name": "ipython",
    "version": 3
   },
   "file_extension": ".py",
   "mimetype": "text/x-python",
   "name": "python",
   "nbconvert_exporter": "python",
   "pygments_lexer": "ipython3",
   "version": "3.11.5"
  },
  "orig_nbformat": 4
 },
 "nbformat": 4,
 "nbformat_minor": 2
}
