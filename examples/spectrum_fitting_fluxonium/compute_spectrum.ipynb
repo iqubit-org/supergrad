{
 "cells": [
  {
   "cell_type": "markdown",
   "metadata": {},
   "source": [
    "## Hands-on Example: Fluxonium Qubit"
   ]
  },
  {
   "cell_type": "markdown",
   "metadata": {},
   "source": [
    "### Energy spectrum\n",
    "There are different ways to pass Fluxonium parameters (EC, EJ, EL).\n",
    "\n",
    "- Directly set parameters when creating a class instance\n",
    "- Use Haiku to manage model parameters\n"
   ]
  },
  {
   "cell_type": "markdown",
   "metadata": {},
   "source": [
    "Haiku's model parameters management\n",
    "\n",
    "- `hamiltonian.Helper.ls_params` return a dictionary containing keywords and parameters.\n",
    "- pass parameters through the first argument."
   ]
  },
  {
   "cell_type": "code",
   "execution_count": 1,
   "metadata": {},
   "outputs": [
    {
     "data": {
      "text/plain": [
       "{'fluxonium': {'ec': Array(1., dtype=float32),\n",
       "  'ej': Array(1., dtype=float32),\n",
       "  'el': Array(1., dtype=float32)}}"
      ]
     },
     "execution_count": 1,
     "metadata": {},
     "output_type": "execute_result"
    }
   ],
   "source": [
    "import numpy as np\n",
    "import jax\n",
    "import jax.numpy as jnp\n",
    "\n",
    "import supergrad\n",
    "from supergrad.quantum_system import Fluxonium\n",
    "\n",
    "\n",
    "class ExploreFluxonium(supergrad.Helper):\n",
    "\n",
    "    def _init_quantum_system(self):\n",
    "        self.fluxonium = Fluxonium(phiext=0, phi_max=5 * np.pi)\n",
    "\n",
    "    def energy_spectrum(self, phi):\n",
    "        self.fluxonium.phiext = phi * 2 * jnp.pi  # modify phiext, default 0\n",
    "        return self.fluxonium.eigenenergies()\n",
    "\n",
    "\n",
    "explore = ExploreFluxonium()\n",
    "explore.ls_params()\n"
   ]
  },
  {
   "cell_type": "code",
   "execution_count": 2,
   "metadata": {},
   "outputs": [
    {
     "data": {
      "text/plain": [
       "Array([-0.24092618,  5.06891579,  7.16328215,  8.28020319, 10.81742776,\n",
       "       13.5851526 , 16.36989903, 19.3794768 , 22.42063552, 25.39180377],      dtype=float64)"
      ]
     },
     "execution_count": 2,
     "metadata": {},
     "output_type": "execute_result"
    }
   ],
   "source": [
    "params = {\n",
    "    'fluxonium': {\n",
    "        'ec': jnp.array(1.68),\n",
    "        'ej': jnp.array(3.5),\n",
    "        'el': jnp.array(0.5)\n",
    "    }\n",
    "}\n",
    "# each parameters should be float\n",
    "explore.energy_spectrum(params, 0)\n"
   ]
  },
  {
   "cell_type": "markdown",
   "metadata": {},
   "source": [
    "For a fluxonium, one could vary the external flux bias `phiext` and calculate the \n",
    "energy spectrum."
   ]
  },
  {
   "cell_type": "code",
   "execution_count": 3,
   "metadata": {},
   "outputs": [
    {
     "data": {
      "text/plain": [
       "Array([ 1.3041627 ,  2.09823523,  6.19190726,  9.14847985, 12.57031594,\n",
       "       15.37689449, 17.40065635, 19.16545642, 21.37778417, 23.89876961],      dtype=float64)"
      ]
     },
     "execution_count": 3,
     "metadata": {},
     "output_type": "execute_result"
    }
   ],
   "source": [
    "explore.energy_spectrum(params, 0.5)\n"
   ]
  },
  {
   "cell_type": "markdown",
   "metadata": {},
   "source": [
    "Below we show how we can use Jax to transform the above function"
   ]
  },
  {
   "cell_type": "markdown",
   "metadata": {},
   "source": [
    "### Auto-vectorization with `vmap()`\n",
    "JAX has one transformation in its API: `vmap()`, the vectorizing map. It mapping \n",
    "a function along array axes(`phiext`), but instead of keeping the loop on the\n",
    "outside, it pushes the loop down into a function's primitive operations for\n",
    "better performance."
   ]
  },
  {
   "cell_type": "code",
   "execution_count": 4,
   "metadata": {},
   "outputs": [
    {
     "name": "stdout",
     "output_type": "stream",
     "text": [
      "1.13 s ± 129 ms per loop (mean ± std. dev. of 7 runs, 1 loop each)\n"
     ]
    }
   ],
   "source": [
    "phi_list = np.linspace(0, 1, 20)\n",
    "vmap_energy_spectrum = jax.vmap(explore.energy_spectrum, in_axes=(None, 0))\n",
    "%timeit vmap_energy_spectrum(params, phi_list).block_until_ready()\n"
   ]
  },
  {
   "cell_type": "code",
   "execution_count": 5,
   "metadata": {},
   "outputs": [
    {
     "name": "stdout",
     "output_type": "stream",
     "text": [
      "3.08 s ± 272 ms per loop (mean ± std. dev. of 7 runs, 1 loop each)\n"
     ]
    }
   ],
   "source": [
    "phi_list = np.linspace(0, 1, 20)\n",
    "def forloop_energy_spectrum(params, phi_list):\n",
    "    spectrum_list = []\n",
    "    for phi in phi_list:\n",
    "        spectrum_list.append(explore.energy_spectrum(params, phi))\n",
    "    return jnp.array(spectrum_list)\n",
    "\n",
    "%timeit forloop_energy_spectrum(params, phi_list)\n"
   ]
  },
  {
   "cell_type": "markdown",
   "metadata": {},
   "source": [
    "### Use `jit()` to speed up functions\n",
    "JAX runs transparently on the CPU or GPU, however, in the above example, JAX is \n",
    "dispatching kernels one operation at a time. If we have a sequence of operators(for \n",
    "example, parameters optimization), we can use `jax.jit` to compile multiple operations \n",
    "together using `XLA`.\n",
    "We can speed `vmap_energy_spectrum` up with `jax.jit`, which will jit-compile(Just-In-Time) \n",
    "the first time `vmap_energy_spectrum` is called and will be cached thereafter."
   ]
  },
  {
   "cell_type": "code",
   "execution_count": 6,
   "metadata": {},
   "outputs": [],
   "source": [
    "jit_energy_spectrum = jax.jit(vmap_energy_spectrum)\n",
    "spec_out = jit_energy_spectrum(params, phi_list)\n"
   ]
  },
  {
   "cell_type": "code",
   "execution_count": 7,
   "metadata": {},
   "outputs": [
    {
     "name": "stdout",
     "output_type": "stream",
     "text": [
      "973 ms ± 116 ms per loop (mean ± std. dev. of 7 runs, 1 loop each)\n"
     ]
    }
   ],
   "source": [
    "%timeit jit_energy_spectrum(params, phi_list).block_until_ready()\n"
   ]
  }
 ],
 "metadata": {
  "kernelspec": {
   "display_name": "Python 3.10.5 ('aqgrad')",
   "language": "python",
   "name": "python3"
  },
  "language_info": {
   "codemirror_mode": {
    "name": "ipython",
    "version": 3
   },
   "file_extension": ".py",
   "mimetype": "text/x-python",
   "name": "python",
   "nbconvert_exporter": "python",
   "pygments_lexer": "ipython3",
   "version": "3.10.13"
  },
  "orig_nbformat": 4,
  "vscode": {
   "interpreter": {
    "hash": "97527f26d3c32fac32689df27c2511d14b446f68c99abb16138aac04959e98de"
   }
  }
 },
 "nbformat": 4,
 "nbformat_minor": 2
}
